{
 "cells": [
  {
   "cell_type": "code",
   "execution_count": 1,
   "metadata": {},
   "outputs": [],
   "source": [
    "import pandas as pd\n",
    "import numpy as np\n",
    "import matplotlib.pyplot as plt\n",
    "import seaborn as sns"
   ]
  },
  {
   "cell_type": "code",
   "execution_count": 2,
   "metadata": {},
   "outputs": [
    {
     "name": "stdout",
     "output_type": "stream",
     "text": [
      "(566602, 23)\n"
     ]
    },
    {
     "data": {
      "text/html": [
       "<div>\n",
       "<style scoped>\n",
       "    .dataframe tbody tr th:only-of-type {\n",
       "        vertical-align: middle;\n",
       "    }\n",
       "\n",
       "    .dataframe tbody tr th {\n",
       "        vertical-align: top;\n",
       "    }\n",
       "\n",
       "    .dataframe thead th {\n",
       "        text-align: right;\n",
       "    }\n",
       "</style>\n",
       "<table border=\"1\" class=\"dataframe\">\n",
       "  <thead>\n",
       "    <tr style=\"text-align: right;\">\n",
       "      <th></th>\n",
       "      <th>id</th>\n",
       "      <th>sex</th>\n",
       "      <th>patient_type</th>\n",
       "      <th>entry_date</th>\n",
       "      <th>date_symptoms</th>\n",
       "      <th>date_died</th>\n",
       "      <th>intubed</th>\n",
       "      <th>pneumonia</th>\n",
       "      <th>age</th>\n",
       "      <th>pregnancy</th>\n",
       "      <th>...</th>\n",
       "      <th>inmsupr</th>\n",
       "      <th>hypertension</th>\n",
       "      <th>other_disease</th>\n",
       "      <th>cardiovascular</th>\n",
       "      <th>obesity</th>\n",
       "      <th>renal_chronic</th>\n",
       "      <th>tobacco</th>\n",
       "      <th>contact_other_covid</th>\n",
       "      <th>covid_res</th>\n",
       "      <th>icu</th>\n",
       "    </tr>\n",
       "  </thead>\n",
       "  <tbody>\n",
       "    <tr>\n",
       "      <th>0</th>\n",
       "      <td>16169f</td>\n",
       "      <td>2</td>\n",
       "      <td>1</td>\n",
       "      <td>04-05-2020</td>\n",
       "      <td>02-05-2020</td>\n",
       "      <td>9999-99-99</td>\n",
       "      <td>97</td>\n",
       "      <td>2</td>\n",
       "      <td>27</td>\n",
       "      <td>97</td>\n",
       "      <td>...</td>\n",
       "      <td>2</td>\n",
       "      <td>2</td>\n",
       "      <td>2</td>\n",
       "      <td>2</td>\n",
       "      <td>2</td>\n",
       "      <td>2</td>\n",
       "      <td>2</td>\n",
       "      <td>2</td>\n",
       "      <td>1</td>\n",
       "      <td>97</td>\n",
       "    </tr>\n",
       "    <tr>\n",
       "      <th>1</th>\n",
       "      <td>1009bf</td>\n",
       "      <td>2</td>\n",
       "      <td>1</td>\n",
       "      <td>19-03-2020</td>\n",
       "      <td>17-03-2020</td>\n",
       "      <td>9999-99-99</td>\n",
       "      <td>97</td>\n",
       "      <td>2</td>\n",
       "      <td>24</td>\n",
       "      <td>97</td>\n",
       "      <td>...</td>\n",
       "      <td>2</td>\n",
       "      <td>2</td>\n",
       "      <td>2</td>\n",
       "      <td>2</td>\n",
       "      <td>2</td>\n",
       "      <td>2</td>\n",
       "      <td>2</td>\n",
       "      <td>99</td>\n",
       "      <td>1</td>\n",
       "      <td>97</td>\n",
       "    </tr>\n",
       "    <tr>\n",
       "      <th>2</th>\n",
       "      <td>167386</td>\n",
       "      <td>1</td>\n",
       "      <td>2</td>\n",
       "      <td>06-04-2020</td>\n",
       "      <td>01-04-2020</td>\n",
       "      <td>9999-99-99</td>\n",
       "      <td>2</td>\n",
       "      <td>2</td>\n",
       "      <td>54</td>\n",
       "      <td>2</td>\n",
       "      <td>...</td>\n",
       "      <td>2</td>\n",
       "      <td>2</td>\n",
       "      <td>2</td>\n",
       "      <td>2</td>\n",
       "      <td>1</td>\n",
       "      <td>2</td>\n",
       "      <td>2</td>\n",
       "      <td>99</td>\n",
       "      <td>1</td>\n",
       "      <td>2</td>\n",
       "    </tr>\n",
       "    <tr>\n",
       "      <th>3</th>\n",
       "      <td>0b5948</td>\n",
       "      <td>2</td>\n",
       "      <td>2</td>\n",
       "      <td>17-04-2020</td>\n",
       "      <td>10-04-2020</td>\n",
       "      <td>9999-99-99</td>\n",
       "      <td>2</td>\n",
       "      <td>1</td>\n",
       "      <td>30</td>\n",
       "      <td>97</td>\n",
       "      <td>...</td>\n",
       "      <td>2</td>\n",
       "      <td>2</td>\n",
       "      <td>2</td>\n",
       "      <td>2</td>\n",
       "      <td>2</td>\n",
       "      <td>2</td>\n",
       "      <td>2</td>\n",
       "      <td>99</td>\n",
       "      <td>1</td>\n",
       "      <td>2</td>\n",
       "    </tr>\n",
       "    <tr>\n",
       "      <th>4</th>\n",
       "      <td>0d01b5</td>\n",
       "      <td>1</td>\n",
       "      <td>2</td>\n",
       "      <td>13-04-2020</td>\n",
       "      <td>13-04-2020</td>\n",
       "      <td>22-04-2020</td>\n",
       "      <td>2</td>\n",
       "      <td>2</td>\n",
       "      <td>60</td>\n",
       "      <td>2</td>\n",
       "      <td>...</td>\n",
       "      <td>2</td>\n",
       "      <td>1</td>\n",
       "      <td>2</td>\n",
       "      <td>1</td>\n",
       "      <td>2</td>\n",
       "      <td>2</td>\n",
       "      <td>2</td>\n",
       "      <td>99</td>\n",
       "      <td>1</td>\n",
       "      <td>2</td>\n",
       "    </tr>\n",
       "  </tbody>\n",
       "</table>\n",
       "<p>5 rows × 23 columns</p>\n",
       "</div>"
      ],
      "text/plain": [
       "       id  sex  patient_type  entry_date date_symptoms   date_died  intubed  \\\n",
       "0  16169f    2             1  04-05-2020    02-05-2020  9999-99-99       97   \n",
       "1  1009bf    2             1  19-03-2020    17-03-2020  9999-99-99       97   \n",
       "2  167386    1             2  06-04-2020    01-04-2020  9999-99-99        2   \n",
       "3  0b5948    2             2  17-04-2020    10-04-2020  9999-99-99        2   \n",
       "4  0d01b5    1             2  13-04-2020    13-04-2020  22-04-2020        2   \n",
       "\n",
       "   pneumonia  age  pregnancy  ...  inmsupr  hypertension  other_disease  \\\n",
       "0          2   27         97  ...        2             2              2   \n",
       "1          2   24         97  ...        2             2              2   \n",
       "2          2   54          2  ...        2             2              2   \n",
       "3          1   30         97  ...        2             2              2   \n",
       "4          2   60          2  ...        2             1              2   \n",
       "\n",
       "   cardiovascular  obesity  renal_chronic  tobacco  contact_other_covid  \\\n",
       "0               2        2              2        2                    2   \n",
       "1               2        2              2        2                   99   \n",
       "2               2        1              2        2                   99   \n",
       "3               2        2              2        2                   99   \n",
       "4               1        2              2        2                   99   \n",
       "\n",
       "   covid_res  icu  \n",
       "0          1   97  \n",
       "1          1   97  \n",
       "2          1    2  \n",
       "3          1    2  \n",
       "4          1    2  \n",
       "\n",
       "[5 rows x 23 columns]"
      ]
     },
     "execution_count": 2,
     "metadata": {},
     "output_type": "execute_result"
    }
   ],
   "source": [
    "# Import and asses dataset\n",
    "# Dataset description can be found at: https://www.kaggle.com/tanmoyx/covid19-patient-precondition-dataset?select=covid.csv\n",
    "df = pd.read_csv(\"../data/mexico_government_covid19_patient/covid.csv\")\n",
    "print(df.shape)\n",
    "df.head()"
   ]
  },
  {
   "cell_type": "code",
   "execution_count": 3,
   "metadata": {},
   "outputs": [
    {
     "data": {
      "text/html": [
       "<div>\n",
       "<style scoped>\n",
       "    .dataframe tbody tr th:only-of-type {\n",
       "        vertical-align: middle;\n",
       "    }\n",
       "\n",
       "    .dataframe tbody tr th {\n",
       "        vertical-align: top;\n",
       "    }\n",
       "\n",
       "    .dataframe thead th {\n",
       "        text-align: right;\n",
       "    }\n",
       "</style>\n",
       "<table border=\"1\" class=\"dataframe\">\n",
       "  <thead>\n",
       "    <tr style=\"text-align: right;\">\n",
       "      <th></th>\n",
       "      <th>id</th>\n",
       "      <th>sex</th>\n",
       "      <th>patient_type</th>\n",
       "      <th>entry_date</th>\n",
       "      <th>date_symptoms</th>\n",
       "      <th>lethal</th>\n",
       "      <th>intubed</th>\n",
       "      <th>pneumonia</th>\n",
       "      <th>age</th>\n",
       "      <th>pregnancy</th>\n",
       "      <th>...</th>\n",
       "      <th>inmsupr</th>\n",
       "      <th>hypertension</th>\n",
       "      <th>other_disease</th>\n",
       "      <th>cardiovascular</th>\n",
       "      <th>obesity</th>\n",
       "      <th>renal_chronic</th>\n",
       "      <th>tobacco</th>\n",
       "      <th>contact_other_covid</th>\n",
       "      <th>covid_res</th>\n",
       "      <th>icu</th>\n",
       "    </tr>\n",
       "  </thead>\n",
       "  <tbody>\n",
       "    <tr>\n",
       "      <th>0</th>\n",
       "      <td>16169f</td>\n",
       "      <td>2</td>\n",
       "      <td>1</td>\n",
       "      <td>04-05-2020</td>\n",
       "      <td>02-05-2020</td>\n",
       "      <td>2</td>\n",
       "      <td>97</td>\n",
       "      <td>2</td>\n",
       "      <td>27</td>\n",
       "      <td>97</td>\n",
       "      <td>...</td>\n",
       "      <td>2</td>\n",
       "      <td>2</td>\n",
       "      <td>2</td>\n",
       "      <td>2</td>\n",
       "      <td>2</td>\n",
       "      <td>2</td>\n",
       "      <td>2</td>\n",
       "      <td>2</td>\n",
       "      <td>1</td>\n",
       "      <td>97</td>\n",
       "    </tr>\n",
       "    <tr>\n",
       "      <th>1</th>\n",
       "      <td>1009bf</td>\n",
       "      <td>2</td>\n",
       "      <td>1</td>\n",
       "      <td>19-03-2020</td>\n",
       "      <td>17-03-2020</td>\n",
       "      <td>2</td>\n",
       "      <td>97</td>\n",
       "      <td>2</td>\n",
       "      <td>24</td>\n",
       "      <td>97</td>\n",
       "      <td>...</td>\n",
       "      <td>2</td>\n",
       "      <td>2</td>\n",
       "      <td>2</td>\n",
       "      <td>2</td>\n",
       "      <td>2</td>\n",
       "      <td>2</td>\n",
       "      <td>2</td>\n",
       "      <td>99</td>\n",
       "      <td>1</td>\n",
       "      <td>97</td>\n",
       "    </tr>\n",
       "    <tr>\n",
       "      <th>2</th>\n",
       "      <td>167386</td>\n",
       "      <td>1</td>\n",
       "      <td>2</td>\n",
       "      <td>06-04-2020</td>\n",
       "      <td>01-04-2020</td>\n",
       "      <td>2</td>\n",
       "      <td>2</td>\n",
       "      <td>2</td>\n",
       "      <td>54</td>\n",
       "      <td>2</td>\n",
       "      <td>...</td>\n",
       "      <td>2</td>\n",
       "      <td>2</td>\n",
       "      <td>2</td>\n",
       "      <td>2</td>\n",
       "      <td>1</td>\n",
       "      <td>2</td>\n",
       "      <td>2</td>\n",
       "      <td>99</td>\n",
       "      <td>1</td>\n",
       "      <td>2</td>\n",
       "    </tr>\n",
       "    <tr>\n",
       "      <th>3</th>\n",
       "      <td>0b5948</td>\n",
       "      <td>2</td>\n",
       "      <td>2</td>\n",
       "      <td>17-04-2020</td>\n",
       "      <td>10-04-2020</td>\n",
       "      <td>2</td>\n",
       "      <td>2</td>\n",
       "      <td>1</td>\n",
       "      <td>30</td>\n",
       "      <td>97</td>\n",
       "      <td>...</td>\n",
       "      <td>2</td>\n",
       "      <td>2</td>\n",
       "      <td>2</td>\n",
       "      <td>2</td>\n",
       "      <td>2</td>\n",
       "      <td>2</td>\n",
       "      <td>2</td>\n",
       "      <td>99</td>\n",
       "      <td>1</td>\n",
       "      <td>2</td>\n",
       "    </tr>\n",
       "    <tr>\n",
       "      <th>4</th>\n",
       "      <td>0d01b5</td>\n",
       "      <td>1</td>\n",
       "      <td>2</td>\n",
       "      <td>13-04-2020</td>\n",
       "      <td>13-04-2020</td>\n",
       "      <td>1</td>\n",
       "      <td>2</td>\n",
       "      <td>2</td>\n",
       "      <td>60</td>\n",
       "      <td>2</td>\n",
       "      <td>...</td>\n",
       "      <td>2</td>\n",
       "      <td>1</td>\n",
       "      <td>2</td>\n",
       "      <td>1</td>\n",
       "      <td>2</td>\n",
       "      <td>2</td>\n",
       "      <td>2</td>\n",
       "      <td>99</td>\n",
       "      <td>1</td>\n",
       "      <td>2</td>\n",
       "    </tr>\n",
       "  </tbody>\n",
       "</table>\n",
       "<p>5 rows × 23 columns</p>\n",
       "</div>"
      ],
      "text/plain": [
       "       id  sex  patient_type  entry_date date_symptoms lethal  intubed  \\\n",
       "0  16169f    2             1  04-05-2020    02-05-2020      2       97   \n",
       "1  1009bf    2             1  19-03-2020    17-03-2020      2       97   \n",
       "2  167386    1             2  06-04-2020    01-04-2020      2        2   \n",
       "3  0b5948    2             2  17-04-2020    10-04-2020      2        2   \n",
       "4  0d01b5    1             2  13-04-2020    13-04-2020      1        2   \n",
       "\n",
       "   pneumonia  age  pregnancy  ...  inmsupr  hypertension  other_disease  \\\n",
       "0          2   27         97  ...        2             2              2   \n",
       "1          2   24         97  ...        2             2              2   \n",
       "2          2   54          2  ...        2             2              2   \n",
       "3          1   30         97  ...        2             2              2   \n",
       "4          2   60          2  ...        2             1              2   \n",
       "\n",
       "   cardiovascular  obesity  renal_chronic  tobacco  contact_other_covid  \\\n",
       "0               2        2              2        2                    2   \n",
       "1               2        2              2        2                   99   \n",
       "2               2        1              2        2                   99   \n",
       "3               2        2              2        2                   99   \n",
       "4               1        2              2        2                   99   \n",
       "\n",
       "   covid_res  icu  \n",
       "0          1   97  \n",
       "1          1   97  \n",
       "2          1    2  \n",
       "3          1    2  \n",
       "4          1    2  \n",
       "\n",
       "[5 rows x 23 columns]"
      ]
     },
     "execution_count": 3,
     "metadata": {},
     "output_type": "execute_result"
    }
   ],
   "source": [
    "# Change the data died column to indicate if patient death\n",
    "# If there is a valid date then patient death and represent as 1 otherwise represent as 2\n",
    "df['date_died'] = df['date_died'].replace(to_replace=\"9999-99-99\", value=2)\n",
    "df['date_died'] = df['date_died'].mask(df['date_died'].ne(2), 1)\n",
    "df = df.rename(columns={'date_died':'lethal'})\n",
    "df.head()"
   ]
  },
  {
   "cell_type": "code",
   "execution_count": 4,
   "metadata": {},
   "outputs": [
    {
     "data": {
      "text/html": [
       "<div>\n",
       "<style scoped>\n",
       "    .dataframe tbody tr th:only-of-type {\n",
       "        vertical-align: middle;\n",
       "    }\n",
       "\n",
       "    .dataframe tbody tr th {\n",
       "        vertical-align: top;\n",
       "    }\n",
       "\n",
       "    .dataframe thead th {\n",
       "        text-align: right;\n",
       "    }\n",
       "</style>\n",
       "<table border=\"1\" class=\"dataframe\">\n",
       "  <thead>\n",
       "    <tr style=\"text-align: right;\">\n",
       "      <th></th>\n",
       "      <th>id</th>\n",
       "      <th>sex</th>\n",
       "      <th>patient_type</th>\n",
       "      <th>lethal</th>\n",
       "      <th>intubed</th>\n",
       "      <th>pneumonia</th>\n",
       "      <th>age</th>\n",
       "      <th>pregnancy</th>\n",
       "      <th>diabetes</th>\n",
       "      <th>copd</th>\n",
       "      <th>...</th>\n",
       "      <th>hypertension</th>\n",
       "      <th>other_disease</th>\n",
       "      <th>cardiovascular</th>\n",
       "      <th>obesity</th>\n",
       "      <th>renal_chronic</th>\n",
       "      <th>tobacco</th>\n",
       "      <th>contact_other_covid</th>\n",
       "      <th>covid_res</th>\n",
       "      <th>icu</th>\n",
       "      <th>days_to_medical_help</th>\n",
       "    </tr>\n",
       "  </thead>\n",
       "  <tbody>\n",
       "    <tr>\n",
       "      <th>0</th>\n",
       "      <td>16169f</td>\n",
       "      <td>2</td>\n",
       "      <td>1</td>\n",
       "      <td>2</td>\n",
       "      <td>97</td>\n",
       "      <td>2</td>\n",
       "      <td>27</td>\n",
       "      <td>97</td>\n",
       "      <td>2</td>\n",
       "      <td>2</td>\n",
       "      <td>...</td>\n",
       "      <td>2</td>\n",
       "      <td>2</td>\n",
       "      <td>2</td>\n",
       "      <td>2</td>\n",
       "      <td>2</td>\n",
       "      <td>2</td>\n",
       "      <td>2</td>\n",
       "      <td>1</td>\n",
       "      <td>97</td>\n",
       "      <td>2</td>\n",
       "    </tr>\n",
       "    <tr>\n",
       "      <th>1</th>\n",
       "      <td>1009bf</td>\n",
       "      <td>2</td>\n",
       "      <td>1</td>\n",
       "      <td>2</td>\n",
       "      <td>97</td>\n",
       "      <td>2</td>\n",
       "      <td>24</td>\n",
       "      <td>97</td>\n",
       "      <td>2</td>\n",
       "      <td>2</td>\n",
       "      <td>...</td>\n",
       "      <td>2</td>\n",
       "      <td>2</td>\n",
       "      <td>2</td>\n",
       "      <td>2</td>\n",
       "      <td>2</td>\n",
       "      <td>2</td>\n",
       "      <td>99</td>\n",
       "      <td>1</td>\n",
       "      <td>97</td>\n",
       "      <td>2</td>\n",
       "    </tr>\n",
       "    <tr>\n",
       "      <th>2</th>\n",
       "      <td>167386</td>\n",
       "      <td>1</td>\n",
       "      <td>2</td>\n",
       "      <td>2</td>\n",
       "      <td>2</td>\n",
       "      <td>2</td>\n",
       "      <td>54</td>\n",
       "      <td>2</td>\n",
       "      <td>2</td>\n",
       "      <td>2</td>\n",
       "      <td>...</td>\n",
       "      <td>2</td>\n",
       "      <td>2</td>\n",
       "      <td>2</td>\n",
       "      <td>1</td>\n",
       "      <td>2</td>\n",
       "      <td>2</td>\n",
       "      <td>99</td>\n",
       "      <td>1</td>\n",
       "      <td>2</td>\n",
       "      <td>5</td>\n",
       "    </tr>\n",
       "    <tr>\n",
       "      <th>3</th>\n",
       "      <td>0b5948</td>\n",
       "      <td>2</td>\n",
       "      <td>2</td>\n",
       "      <td>2</td>\n",
       "      <td>2</td>\n",
       "      <td>1</td>\n",
       "      <td>30</td>\n",
       "      <td>97</td>\n",
       "      <td>2</td>\n",
       "      <td>2</td>\n",
       "      <td>...</td>\n",
       "      <td>2</td>\n",
       "      <td>2</td>\n",
       "      <td>2</td>\n",
       "      <td>2</td>\n",
       "      <td>2</td>\n",
       "      <td>2</td>\n",
       "      <td>99</td>\n",
       "      <td>1</td>\n",
       "      <td>2</td>\n",
       "      <td>7</td>\n",
       "    </tr>\n",
       "    <tr>\n",
       "      <th>4</th>\n",
       "      <td>0d01b5</td>\n",
       "      <td>1</td>\n",
       "      <td>2</td>\n",
       "      <td>1</td>\n",
       "      <td>2</td>\n",
       "      <td>2</td>\n",
       "      <td>60</td>\n",
       "      <td>2</td>\n",
       "      <td>1</td>\n",
       "      <td>2</td>\n",
       "      <td>...</td>\n",
       "      <td>1</td>\n",
       "      <td>2</td>\n",
       "      <td>1</td>\n",
       "      <td>2</td>\n",
       "      <td>2</td>\n",
       "      <td>2</td>\n",
       "      <td>99</td>\n",
       "      <td>1</td>\n",
       "      <td>2</td>\n",
       "      <td>0</td>\n",
       "    </tr>\n",
       "  </tbody>\n",
       "</table>\n",
       "<p>5 rows × 22 columns</p>\n",
       "</div>"
      ],
      "text/plain": [
       "       id  sex  patient_type lethal  intubed  pneumonia  age  pregnancy  \\\n",
       "0  16169f    2             1      2       97          2   27         97   \n",
       "1  1009bf    2             1      2       97          2   24         97   \n",
       "2  167386    1             2      2        2          2   54          2   \n",
       "3  0b5948    2             2      2        2          1   30         97   \n",
       "4  0d01b5    1             2      1        2          2   60          2   \n",
       "\n",
       "   diabetes  copd  ...  hypertension  other_disease  cardiovascular  obesity  \\\n",
       "0         2     2  ...             2              2               2        2   \n",
       "1         2     2  ...             2              2               2        2   \n",
       "2         2     2  ...             2              2               2        1   \n",
       "3         2     2  ...             2              2               2        2   \n",
       "4         1     2  ...             1              2               1        2   \n",
       "\n",
       "   renal_chronic  tobacco  contact_other_covid  covid_res  icu  \\\n",
       "0              2        2                    2          1   97   \n",
       "1              2        2                   99          1   97   \n",
       "2              2        2                   99          1    2   \n",
       "3              2        2                   99          1    2   \n",
       "4              2        2                   99          1    2   \n",
       "\n",
       "   days_to_medical_help  \n",
       "0                     2  \n",
       "1                     2  \n",
       "2                     5  \n",
       "3                     7  \n",
       "4                     0  \n",
       "\n",
       "[5 rows x 22 columns]"
      ]
     },
     "execution_count": 4,
     "metadata": {},
     "output_type": "execute_result"
    }
   ],
   "source": [
    "# With date_symptoms and entry_date we can calculate time between disease contraction and medical attention\n",
    "# This would be a more relevant feature to use rather than just the dates\n",
    "df['days_to_medical_help'] = (pd.to_datetime(df['entry_date'], dayfirst=True) - pd.to_datetime(df['date_symptoms'], dayfirst=True)).dt.days\n",
    "df = df.drop(columns=['entry_date', 'date_symptoms'])\n",
    "df.head()"
   ]
  },
  {
   "cell_type": "code",
   "execution_count": 5,
   "metadata": {},
   "outputs": [],
   "source": [
    "# Drop Patient ID from the dataset since it won't help in predictions\n",
    "columns_to_drop = ['id']\n",
    "df = df.drop(columns=columns_to_drop)"
   ]
  },
  {
   "cell_type": "code",
   "execution_count": 6,
   "metadata": {},
   "outputs": [],
   "source": [
    "# Since most categorical features are currently int64 change them to categorical\n",
    "# We also want to normalize all non categorical features\n",
    "from sklearn.preprocessing import MinMaxScaler\n",
    "from joblib import dump, load\n",
    "categorical_columns = ['sex', 'patient_type',\n",
    "       'intubed', 'pneumonia', 'pregnancy', 'diabetes', 'copd',\n",
    "       'asthma', 'inmsupr', 'hypertension', 'other_disease', 'cardiovascular',\n",
    "       'obesity', 'renal_chronic', 'tobacco', 'contact_other_covid',\n",
    "       'covid_res', 'icu', 'lethal']\n",
    "# The dataset indicates that missing values are 97, 98, 99 so we replace them with -1 for uniformity\n",
    "scalers = {}\n",
    "for column in df.columns:\n",
    "    if column in categorical_columns:\n",
    "        # Change no encoding from 2 to 0\n",
    "        df[column] = df[column].replace(to_replace=2, value=0)\n",
    "        # Replace all missing values with -1\n",
    "        df[column] = df[column].replace(to_replace=[97, 98, 99], value=-1).astype('category')\n",
    "    else:\n",
    "        pass\n",
    "        "
   ]
  },
  {
   "cell_type": "code",
   "execution_count": 7,
   "metadata": {},
   "outputs": [
    {
     "data": {
      "text/plain": [
       "(220657, 21)"
      ]
     },
     "execution_count": 7,
     "metadata": {},
     "output_type": "execute_result"
    }
   ],
   "source": [
    "# Now we can only use observations in which the individual tested postive for COVID 19\n",
    "covid_cases = df[df['covid_res'] == 1]\n",
    "covid_cases.shape"
   ]
  },
  {
   "cell_type": "code",
   "execution_count": 8,
   "metadata": {},
   "outputs": [],
   "source": [
    "# Variables to store the outcomes and features\n",
    "# We could try combining icu and death\n",
    "# However we do not want to include either in the prediction for the other due to expected high dependency\n",
    "features = ['sex', 'patient_type', 'age', 'days_to_medical_help',\n",
    "       'intubed', 'pneumonia', 'pregnancy', 'diabetes', 'copd',\n",
    "       'asthma', 'inmsupr', 'hypertension', 'other_disease', 'cardiovascular',\n",
    "       'obesity', 'renal_chronic', 'tobacco']\n",
    "\"\"\"features = ['sex', 'age', 'days_to_medical_help', 'intubed', 'pneumonia', 'pregnancy', 'diabetes', 'copd',\n",
    "       'asthma', 'inmsupr', 'hypertension', 'other_disease', 'cardiovascular',\n",
    "       'obesity', 'renal_chronic', 'tobacco']\"\"\"\n",
    "outcomes = ['icu', 'death']"
   ]
  },
  {
   "cell_type": "code",
   "execution_count": 9,
   "metadata": {},
   "outputs": [
    {
     "data": {
      "text/plain": [
       "<matplotlib.axes._subplots.AxesSubplot at 0x17bb7e0cdc8>"
      ]
     },
     "execution_count": 9,
     "metadata": {},
     "output_type": "execute_result"
    },
    {
     "data": {
      "image/png": "[encoded data removed]",
      "text/plain": [
       "<Figure size 504x288 with 2 Axes>"
      ]
     },
     "metadata": {
      "needs_background": "light"
     },
     "output_type": "display_data"
    }
   ],
   "source": [
    "# Correlation Matrix for non-categorical variables\n",
    "# Source: https://seaborn.pydata.org/examples/many_pairwise_correlations.html\n",
    "# Compute the correlation matrix\n",
    "corr = covid_cases.corr()\n",
    "# Set up the matplotlib figure\n",
    "f, ax = plt.subplots(figsize=(7, 4))\n",
    "# Generate a custom diverging colormap\n",
    "cmap = sns.diverging_palette(230, 20, as_cmap=True)\n",
    "# Draw the heatmap with the mask and correct aspect ratio\n",
    "sns.heatmap(corr, cmap=cmap, vmax=.3, center=0,\n",
    "            square=True, linewidths=.5, cbar_kws={\"shrink\": .5})"
   ]
  },
  {
   "cell_type": "code",
   "execution_count": 10,
   "metadata": {},
   "outputs": [
    {
     "data": {
      "image/png": "[encoded data removed]",
      "text/plain": [
       "<Figure size 1440x360 with 1 Axes>"
      ]
     },
     "metadata": {
      "needs_background": "light"
     },
     "output_type": "display_data"
    }
   ],
   "source": [
    "# For our categorical variables we would want to view the distribution of 'yes' and 'no' in each one of them\n",
    "counts = []\n",
    "for column in categorical_columns:\n",
    "    counts.append({'feature': column, 'answer': covid_cases[covid_cases[column] == 0].shape[0], 'total': covid_cases[covid_cases[column] == 1].shape[0] + covid_cases[covid_cases[column] == 0].shape[0]})\n",
    "counts = pd.DataFrame(counts)\n",
    "f, ax = plt.subplots(figsize=(20, 5))\n",
    "ax.set_ylim(0, 300000)\n",
    "sns.barplot(x = counts.feature, y = counts.total, color = \"#9dc974\")\n",
    "no_plot = sns.barplot(x = counts.feature, y = counts.answer, color = \"#e01212\")\n",
    "ax.set_xticklabels(ax.get_xticklabels(), rotation=40, ha=\"right\")\n",
    "topbar = plt.Rectangle((0,0),1,1,fc=\"#9dc974\", edgecolor = 'none')\n",
    "bottombar = plt.Rectangle((0,0),1,1,fc='#e01212',  edgecolor = 'none')\n",
    "l = plt.legend([bottombar, topbar], ['No', 'Yes'], loc=1, ncol = 2, prop={'size':12})\n",
    "l.draw_frame(False)"
   ]
  },
  {
   "cell_type": "code",
   "execution_count": 11,
   "metadata": {},
   "outputs": [
    {
     "data": {
      "text/plain": [
       "-1    152447\n",
       " 0     62388\n",
       " 1      5822\n",
       "Name: icu, dtype: int64"
      ]
     },
     "execution_count": 11,
     "metadata": {},
     "output_type": "execute_result"
    },
    {
     "data": {
      "image/png": "[encoded data removed]",
      "text/plain": [
       "<Figure size 432x288 with 1 Axes>"
      ]
     },
     "metadata": {
      "needs_background": "light"
     },
     "output_type": "display_data"
    }
   ],
   "source": [
    "# Before we train we want to check the distribution of icu in the train set to ensure proper training\n",
    "#-1 means ICU is unknown\n",
    "sns.countplot(x='icu', data=covid_cases)\n",
    "covid_cases['icu'].value_counts()"
   ]
  },
  {
   "cell_type": "code",
   "execution_count": 12,
   "metadata": {},
   "outputs": [
    {
     "data": {
      "text/plain": [
       "<matplotlib.axes._subplots.AxesSubplot at 0x17bb32721c8>"
      ]
     },
     "execution_count": 12,
     "metadata": {},
     "output_type": "execute_result"
    },
    {
     "data": {
      "image/png": "[encoded data removed]",
      "text/plain": [
       "<Figure size 432x288 with 1 Axes>"
      ]
     },
     "metadata": {
      "needs_background": "light"
     },
     "output_type": "display_data"
    }
   ],
   "source": [
    "# Before we train we want to check the distribution of icu in the train set to ensure proper training\n",
    "sns.countplot(x='lethal', data=covid_cases)"
   ]
  },
  {
   "cell_type": "markdown",
   "metadata": {},
   "source": [
    "from the data gathered, we can see the number of males with Covid is higher than females"
   ]
  },
  {
   "cell_type": "code",
   "execution_count": 13,
   "metadata": {},
   "outputs": [
    {
     "data": {
      "text/plain": [
       "<matplotlib.axes._subplots.AxesSubplot at 0x17bb32e5548>"
      ]
     },
     "execution_count": 13,
     "metadata": {},
     "output_type": "execute_result"
    },
    {
     "data": {
      "image/png": "[encoded data removed]",
      "text/plain": [
       "<Figure size 432x288 with 1 Axes>"
      ]
     },
     "metadata": {
      "needs_background": "light"
     },
     "output_type": "display_data"
    }
   ],
   "source": [
    "copy = covid_cases.copy()\n",
    "copy['sex'].replace({0:\"Male\", 1:\"Female\"}, inplace=True)\n",
    "sns.countplot(x='sex', data=copy)"
   ]
  },
  {
   "cell_type": "markdown",
   "metadata": {},
   "source": [
    "Mean of ages is 45 with Standard deviation of 16. This implies most of the cases are between age (30-60) "
   ]
  },
  {
   "cell_type": "code",
   "execution_count": 14,
   "metadata": {},
   "outputs": [
    {
     "name": "stdout",
     "output_type": "stream",
     "text": [
      "Mean:  45.68820839583607\n",
      "std:  16.314227340301734\n"
     ]
    },
    {
     "data": {
      "text/plain": [
       "<matplotlib.axes._subplots.AxesSubplot at 0x17bb33328c8>"
      ]
     },
     "execution_count": 14,
     "metadata": {},
     "output_type": "execute_result"
    },
    {
     "data": {
      "image/png": "[encoded data removed]",
      "text/plain": [
       "<Figure size 432x288 with 1 Axes>"
      ]
     },
     "metadata": {
      "needs_background": "light"
     },
     "output_type": "display_data"
    }
   ],
   "source": [
    "print(\"Mean: \",covid_cases[\"age\"].mean())\n",
    "print(\"std: \",covid_cases[\"age\"].std())\n",
    "sns.distplot(covid_cases[\"age\"])"
   ]
  },
  {
   "cell_type": "code",
   "execution_count": 15,
   "metadata": {},
   "outputs": [
    {
     "data": {
      "text/plain": [
       "Text(0.5, 1, 'Reported intubations \\n \\n  Ratio=9')"
      ]
     },
     "execution_count": 15,
     "metadata": {},
     "output_type": "execute_result"
    },
    {
     "data": {
      "text/plain": [
       "<Figure size 720x576 with 0 Axes>"
      ]
     },
     "metadata": {},
     "output_type": "display_data"
    },
    {
     "data": {
      "image/png": "[encoded data removed]",
      "text/plain": [
       "<Figure size 402.375x360 with 1 Axes>"
      ]
     },
     "metadata": {
      "needs_background": "light"
     },
     "output_type": "display_data"
    }
   ],
   "source": [
    "copy = covid_cases.copy()\n",
    "i = copy[copy[\"intubed\"] == -1].index\n",
    "copy.drop(i, inplace=True)\n",
    "copy[\"intubed\"] = copy['intubed'].replace(to_replace=[-1, 1], value=\"yes\")\n",
    "copy[\"intubed\"] = copy['intubed'].replace(to_replace=[0], value=\"no\")\n",
    "plt.figure(figsize=(10,8))\n",
    "ax=sns.catplot('intubed',data=copy,kind='count',hue='lethal')\n",
    "\n",
    "plt.title('Reported intubations \\n \\n  Ratio={0:.0f}'.format(copy['intubed'].value_counts()[0]/copy['intubed'].value_counts()[1])\n",
    "           ,size=20)"
   ]
  },
  {
   "cell_type": "markdown",
   "metadata": {},
   "source": [
    "1) for every one single reported intubation, there were 9 other patients who weren't intubated.\n",
    "2) if patient not intubed, then there is big chance that his case is not lethal.\n",
    "3) \n"
   ]
  },
  {
   "cell_type": "code",
   "execution_count": 47,
   "metadata": {},
   "outputs": [
    {
     "data": {
      "image/png": "[encoded data removed]",
      "text/plain": [
       "<Figure size 432x288 with 1 Axes>"
      ]
     },
     "metadata": {
      "needs_background": "light"
     },
     "output_type": "display_data"
    }
   ],
   "source": [
    "copy = covid_cases.copy()\n",
    "cols = ['cardiovascular']\n",
    "for col in cols:\n",
    "    i = copy[copy[col] != 1].index\n",
    "    copy.drop(i, inplace=True)\n",
    "    copy[col] = copy[col].replace(to_replace=[-1, 1,0], value=\"\")\n",
    "    ax=sns.countplot(col,data=copy,hue='lethal', color='g')\n",
    "    plt.show()\n"
   ]
  },
  {
   "cell_type": "code",
   "execution_count": 46,
   "metadata": {},
   "outputs": [
    {
     "data": {
      "text/plain": [
       " 0    214671\n",
       " 1      5162\n",
       "-1       824\n",
       "Name: cardiovascular, dtype: int64"
      ]
     },
     "execution_count": 46,
     "metadata": {},
     "output_type": "execute_result"
    }
   ],
   "source": [
    "covid_cases['cardiovascular'].value_counts()"
   ]
  },
  {
   "cell_type": "code",
   "execution_count": 49,
   "metadata": {},
   "outputs": [
    {
     "data": {
      "text/plain": [
       " 0    167623\n",
       " 1     53031\n",
       "-1         3\n",
       "Name: pneumonia, dtype: int64"
      ]
     },
     "execution_count": 49,
     "metadata": {},
     "output_type": "execute_result"
    }
   ],
   "source": [
    "covid_cases['pneumonia'].value_counts()"
   ]
  },
  {
   "cell_type": "code",
   "execution_count": null,
   "metadata": {},
   "outputs": [],
   "source": []
  }
 ],
 "metadata": {
  "kernelspec": {
   "display_name": "Python 3",
   "language": "python",
   "name": "python3"
  },
  "language_info": {
   "codemirror_mode": {
    "name": "ipython",
    "version": 3
   },
   "file_extension": ".py",
   "mimetype": "text/x-python",
   "name": "python",
   "nbconvert_exporter": "python",
   "pygments_lexer": "ipython3",
   "version": "3.7.5"
  }
 },
 "nbformat": 4,
 "nbformat_minor": 4
}
