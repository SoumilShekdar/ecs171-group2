{
 "cells": [
  {
   "cell_type": "code",
   "execution_count": 74,
   "metadata": {},
   "outputs": [],
   "source": [
    "import pandas as pd\n",
    "import numpy as np"
   ]
  },
  {
   "cell_type": "code",
   "execution_count": 75,
   "metadata": {},
   "outputs": [
    {
     "name": "stdout",
     "output_type": "stream",
     "text": [
      "(566602, 23)\n"
     ]
    },
    {
     "data": {
      "text/html": [
       "<div>\n",
       "<style scoped>\n",
       "    .dataframe tbody tr th:only-of-type {\n",
       "        vertical-align: middle;\n",
       "    }\n",
       "\n",
       "    .dataframe tbody tr th {\n",
       "        vertical-align: top;\n",
       "    }\n",
       "\n",
       "    .dataframe thead th {\n",
       "        text-align: right;\n",
       "    }\n",
       "</style>\n",
       "<table border=\"1\" class=\"dataframe\">\n",
       "  <thead>\n",
       "    <tr style=\"text-align: right;\">\n",
       "      <th></th>\n",
       "      <th>id</th>\n",
       "      <th>sex</th>\n",
       "      <th>patient_type</th>\n",
       "      <th>entry_date</th>\n",
       "      <th>date_symptoms</th>\n",
       "      <th>date_died</th>\n",
       "      <th>intubed</th>\n",
       "      <th>pneumonia</th>\n",
       "      <th>age</th>\n",
       "      <th>pregnancy</th>\n",
       "      <th>...</th>\n",
       "      <th>inmsupr</th>\n",
       "      <th>hypertension</th>\n",
       "      <th>other_disease</th>\n",
       "      <th>cardiovascular</th>\n",
       "      <th>obesity</th>\n",
       "      <th>renal_chronic</th>\n",
       "      <th>tobacco</th>\n",
       "      <th>contact_other_covid</th>\n",
       "      <th>covid_res</th>\n",
       "      <th>icu</th>\n",
       "    </tr>\n",
       "  </thead>\n",
       "  <tbody>\n",
       "    <tr>\n",
       "      <th>0</th>\n",
       "      <td>16169f</td>\n",
       "      <td>2</td>\n",
       "      <td>1</td>\n",
       "      <td>04-05-2020</td>\n",
       "      <td>02-05-2020</td>\n",
       "      <td>9999-99-99</td>\n",
       "      <td>97</td>\n",
       "      <td>2</td>\n",
       "      <td>27</td>\n",
       "      <td>97</td>\n",
       "      <td>...</td>\n",
       "      <td>2</td>\n",
       "      <td>2</td>\n",
       "      <td>2</td>\n",
       "      <td>2</td>\n",
       "      <td>2</td>\n",
       "      <td>2</td>\n",
       "      <td>2</td>\n",
       "      <td>2</td>\n",
       "      <td>1</td>\n",
       "      <td>97</td>\n",
       "    </tr>\n",
       "    <tr>\n",
       "      <th>1</th>\n",
       "      <td>1009bf</td>\n",
       "      <td>2</td>\n",
       "      <td>1</td>\n",
       "      <td>19-03-2020</td>\n",
       "      <td>17-03-2020</td>\n",
       "      <td>9999-99-99</td>\n",
       "      <td>97</td>\n",
       "      <td>2</td>\n",
       "      <td>24</td>\n",
       "      <td>97</td>\n",
       "      <td>...</td>\n",
       "      <td>2</td>\n",
       "      <td>2</td>\n",
       "      <td>2</td>\n",
       "      <td>2</td>\n",
       "      <td>2</td>\n",
       "      <td>2</td>\n",
       "      <td>2</td>\n",
       "      <td>99</td>\n",
       "      <td>1</td>\n",
       "      <td>97</td>\n",
       "    </tr>\n",
       "    <tr>\n",
       "      <th>2</th>\n",
       "      <td>167386</td>\n",
       "      <td>1</td>\n",
       "      <td>2</td>\n",
       "      <td>06-04-2020</td>\n",
       "      <td>01-04-2020</td>\n",
       "      <td>9999-99-99</td>\n",
       "      <td>2</td>\n",
       "      <td>2</td>\n",
       "      <td>54</td>\n",
       "      <td>2</td>\n",
       "      <td>...</td>\n",
       "      <td>2</td>\n",
       "      <td>2</td>\n",
       "      <td>2</td>\n",
       "      <td>2</td>\n",
       "      <td>1</td>\n",
       "      <td>2</td>\n",
       "      <td>2</td>\n",
       "      <td>99</td>\n",
       "      <td>1</td>\n",
       "      <td>2</td>\n",
       "    </tr>\n",
       "    <tr>\n",
       "      <th>3</th>\n",
       "      <td>0b5948</td>\n",
       "      <td>2</td>\n",
       "      <td>2</td>\n",
       "      <td>17-04-2020</td>\n",
       "      <td>10-04-2020</td>\n",
       "      <td>9999-99-99</td>\n",
       "      <td>2</td>\n",
       "      <td>1</td>\n",
       "      <td>30</td>\n",
       "      <td>97</td>\n",
       "      <td>...</td>\n",
       "      <td>2</td>\n",
       "      <td>2</td>\n",
       "      <td>2</td>\n",
       "      <td>2</td>\n",
       "      <td>2</td>\n",
       "      <td>2</td>\n",
       "      <td>2</td>\n",
       "      <td>99</td>\n",
       "      <td>1</td>\n",
       "      <td>2</td>\n",
       "    </tr>\n",
       "    <tr>\n",
       "      <th>4</th>\n",
       "      <td>0d01b5</td>\n",
       "      <td>1</td>\n",
       "      <td>2</td>\n",
       "      <td>13-04-2020</td>\n",
       "      <td>13-04-2020</td>\n",
       "      <td>22-04-2020</td>\n",
       "      <td>2</td>\n",
       "      <td>2</td>\n",
       "      <td>60</td>\n",
       "      <td>2</td>\n",
       "      <td>...</td>\n",
       "      <td>2</td>\n",
       "      <td>1</td>\n",
       "      <td>2</td>\n",
       "      <td>1</td>\n",
       "      <td>2</td>\n",
       "      <td>2</td>\n",
       "      <td>2</td>\n",
       "      <td>99</td>\n",
       "      <td>1</td>\n",
       "      <td>2</td>\n",
       "    </tr>\n",
       "  </tbody>\n",
       "</table>\n",
       "<p>5 rows × 23 columns</p>\n",
       "</div>"
      ],
      "text/plain": [
       "       id  sex  patient_type  entry_date date_symptoms   date_died  intubed  \\\n",
       "0  16169f    2             1  04-05-2020    02-05-2020  9999-99-99       97   \n",
       "1  1009bf    2             1  19-03-2020    17-03-2020  9999-99-99       97   \n",
       "2  167386    1             2  06-04-2020    01-04-2020  9999-99-99        2   \n",
       "3  0b5948    2             2  17-04-2020    10-04-2020  9999-99-99        2   \n",
       "4  0d01b5    1             2  13-04-2020    13-04-2020  22-04-2020        2   \n",
       "\n",
       "   pneumonia  age  pregnancy  ...  inmsupr  hypertension  other_disease  \\\n",
       "0          2   27         97  ...        2             2              2   \n",
       "1          2   24         97  ...        2             2              2   \n",
       "2          2   54          2  ...        2             2              2   \n",
       "3          1   30         97  ...        2             2              2   \n",
       "4          2   60          2  ...        2             1              2   \n",
       "\n",
       "   cardiovascular  obesity  renal_chronic  tobacco  contact_other_covid  \\\n",
       "0               2        2              2        2                    2   \n",
       "1               2        2              2        2                   99   \n",
       "2               2        1              2        2                   99   \n",
       "3               2        2              2        2                   99   \n",
       "4               1        2              2        2                   99   \n",
       "\n",
       "   covid_res  icu  \n",
       "0          1   97  \n",
       "1          1   97  \n",
       "2          1    2  \n",
       "3          1    2  \n",
       "4          1    2  \n",
       "\n",
       "[5 rows x 23 columns]"
      ]
     },
     "execution_count": 75,
     "metadata": {},
     "output_type": "execute_result"
    }
   ],
   "source": [
    "# Import and asses dataset\n",
    "# Dataset description can be found at: https://www.kaggle.com/tanmoyx/covid19-patient-precondition-dataset?select=covid.csv\n",
    "df = pd.read_csv(\"../data/mexico_government_covid19_patient/covid.csv\")\n",
    "print(df.shape)\n",
    "df.head()"
   ]
  },
  {
   "cell_type": "code",
   "execution_count": 76,
   "metadata": {},
   "outputs": [
    {
     "data": {
      "text/html": [
       "<div>\n",
       "<style scoped>\n",
       "    .dataframe tbody tr th:only-of-type {\n",
       "        vertical-align: middle;\n",
       "    }\n",
       "\n",
       "    .dataframe tbody tr th {\n",
       "        vertical-align: top;\n",
       "    }\n",
       "\n",
       "    .dataframe thead th {\n",
       "        text-align: right;\n",
       "    }\n",
       "</style>\n",
       "<table border=\"1\" class=\"dataframe\">\n",
       "  <thead>\n",
       "    <tr style=\"text-align: right;\">\n",
       "      <th></th>\n",
       "      <th>id</th>\n",
       "      <th>sex</th>\n",
       "      <th>patient_type</th>\n",
       "      <th>entry_date</th>\n",
       "      <th>date_symptoms</th>\n",
       "      <th>death</th>\n",
       "      <th>intubed</th>\n",
       "      <th>pneumonia</th>\n",
       "      <th>age</th>\n",
       "      <th>pregnancy</th>\n",
       "      <th>...</th>\n",
       "      <th>inmsupr</th>\n",
       "      <th>hypertension</th>\n",
       "      <th>other_disease</th>\n",
       "      <th>cardiovascular</th>\n",
       "      <th>obesity</th>\n",
       "      <th>renal_chronic</th>\n",
       "      <th>tobacco</th>\n",
       "      <th>contact_other_covid</th>\n",
       "      <th>covid_res</th>\n",
       "      <th>icu</th>\n",
       "    </tr>\n",
       "  </thead>\n",
       "  <tbody>\n",
       "    <tr>\n",
       "      <th>0</th>\n",
       "      <td>16169f</td>\n",
       "      <td>2</td>\n",
       "      <td>1</td>\n",
       "      <td>04-05-2020</td>\n",
       "      <td>02-05-2020</td>\n",
       "      <td>2</td>\n",
       "      <td>97</td>\n",
       "      <td>2</td>\n",
       "      <td>27</td>\n",
       "      <td>97</td>\n",
       "      <td>...</td>\n",
       "      <td>2</td>\n",
       "      <td>2</td>\n",
       "      <td>2</td>\n",
       "      <td>2</td>\n",
       "      <td>2</td>\n",
       "      <td>2</td>\n",
       "      <td>2</td>\n",
       "      <td>2</td>\n",
       "      <td>1</td>\n",
       "      <td>97</td>\n",
       "    </tr>\n",
       "    <tr>\n",
       "      <th>1</th>\n",
       "      <td>1009bf</td>\n",
       "      <td>2</td>\n",
       "      <td>1</td>\n",
       "      <td>19-03-2020</td>\n",
       "      <td>17-03-2020</td>\n",
       "      <td>2</td>\n",
       "      <td>97</td>\n",
       "      <td>2</td>\n",
       "      <td>24</td>\n",
       "      <td>97</td>\n",
       "      <td>...</td>\n",
       "      <td>2</td>\n",
       "      <td>2</td>\n",
       "      <td>2</td>\n",
       "      <td>2</td>\n",
       "      <td>2</td>\n",
       "      <td>2</td>\n",
       "      <td>2</td>\n",
       "      <td>99</td>\n",
       "      <td>1</td>\n",
       "      <td>97</td>\n",
       "    </tr>\n",
       "    <tr>\n",
       "      <th>2</th>\n",
       "      <td>167386</td>\n",
       "      <td>1</td>\n",
       "      <td>2</td>\n",
       "      <td>06-04-2020</td>\n",
       "      <td>01-04-2020</td>\n",
       "      <td>2</td>\n",
       "      <td>2</td>\n",
       "      <td>2</td>\n",
       "      <td>54</td>\n",
       "      <td>2</td>\n",
       "      <td>...</td>\n",
       "      <td>2</td>\n",
       "      <td>2</td>\n",
       "      <td>2</td>\n",
       "      <td>2</td>\n",
       "      <td>1</td>\n",
       "      <td>2</td>\n",
       "      <td>2</td>\n",
       "      <td>99</td>\n",
       "      <td>1</td>\n",
       "      <td>2</td>\n",
       "    </tr>\n",
       "    <tr>\n",
       "      <th>3</th>\n",
       "      <td>0b5948</td>\n",
       "      <td>2</td>\n",
       "      <td>2</td>\n",
       "      <td>17-04-2020</td>\n",
       "      <td>10-04-2020</td>\n",
       "      <td>2</td>\n",
       "      <td>2</td>\n",
       "      <td>1</td>\n",
       "      <td>30</td>\n",
       "      <td>97</td>\n",
       "      <td>...</td>\n",
       "      <td>2</td>\n",
       "      <td>2</td>\n",
       "      <td>2</td>\n",
       "      <td>2</td>\n",
       "      <td>2</td>\n",
       "      <td>2</td>\n",
       "      <td>2</td>\n",
       "      <td>99</td>\n",
       "      <td>1</td>\n",
       "      <td>2</td>\n",
       "    </tr>\n",
       "    <tr>\n",
       "      <th>4</th>\n",
       "      <td>0d01b5</td>\n",
       "      <td>1</td>\n",
       "      <td>2</td>\n",
       "      <td>13-04-2020</td>\n",
       "      <td>13-04-2020</td>\n",
       "      <td>1</td>\n",
       "      <td>2</td>\n",
       "      <td>2</td>\n",
       "      <td>60</td>\n",
       "      <td>2</td>\n",
       "      <td>...</td>\n",
       "      <td>2</td>\n",
       "      <td>1</td>\n",
       "      <td>2</td>\n",
       "      <td>1</td>\n",
       "      <td>2</td>\n",
       "      <td>2</td>\n",
       "      <td>2</td>\n",
       "      <td>99</td>\n",
       "      <td>1</td>\n",
       "      <td>2</td>\n",
       "    </tr>\n",
       "  </tbody>\n",
       "</table>\n",
       "<p>5 rows × 23 columns</p>\n",
       "</div>"
      ],
      "text/plain": [
       "       id  sex  patient_type  entry_date date_symptoms death  intubed  \\\n",
       "0  16169f    2             1  04-05-2020    02-05-2020     2       97   \n",
       "1  1009bf    2             1  19-03-2020    17-03-2020     2       97   \n",
       "2  167386    1             2  06-04-2020    01-04-2020     2        2   \n",
       "3  0b5948    2             2  17-04-2020    10-04-2020     2        2   \n",
       "4  0d01b5    1             2  13-04-2020    13-04-2020     1        2   \n",
       "\n",
       "   pneumonia  age  pregnancy  ...  inmsupr  hypertension  other_disease  \\\n",
       "0          2   27         97  ...        2             2              2   \n",
       "1          2   24         97  ...        2             2              2   \n",
       "2          2   54          2  ...        2             2              2   \n",
       "3          1   30         97  ...        2             2              2   \n",
       "4          2   60          2  ...        2             1              2   \n",
       "\n",
       "   cardiovascular  obesity  renal_chronic  tobacco  contact_other_covid  \\\n",
       "0               2        2              2        2                    2   \n",
       "1               2        2              2        2                   99   \n",
       "2               2        1              2        2                   99   \n",
       "3               2        2              2        2                   99   \n",
       "4               1        2              2        2                   99   \n",
       "\n",
       "   covid_res  icu  \n",
       "0          1   97  \n",
       "1          1   97  \n",
       "2          1    2  \n",
       "3          1    2  \n",
       "4          1    2  \n",
       "\n",
       "[5 rows x 23 columns]"
      ]
     },
     "execution_count": 76,
     "metadata": {},
     "output_type": "execute_result"
    }
   ],
   "source": [
    "# Change the data died column to indicate if patient death\n",
    "# If there is a valid date then patient death and represent as 1 otherwise represent as 2\n",
    "df['date_died'] = df['date_died'].replace(to_replace=\"9999-99-99\", value=2)\n",
    "df['date_died'] = df['date_died'].mask(df['date_died'].ne(2), 1)\n",
    "df = df.rename(columns={'date_died':'death'})\n",
    "df.head()"
   ]
  },
  {
   "cell_type": "code",
   "execution_count": 77,
   "metadata": {},
   "outputs": [
    {
     "data": {
      "text/html": [
       "<div>\n",
       "<style scoped>\n",
       "    .dataframe tbody tr th:only-of-type {\n",
       "        vertical-align: middle;\n",
       "    }\n",
       "\n",
       "    .dataframe tbody tr th {\n",
       "        vertical-align: top;\n",
       "    }\n",
       "\n",
       "    .dataframe thead th {\n",
       "        text-align: right;\n",
       "    }\n",
       "</style>\n",
       "<table border=\"1\" class=\"dataframe\">\n",
       "  <thead>\n",
       "    <tr style=\"text-align: right;\">\n",
       "      <th></th>\n",
       "      <th>id</th>\n",
       "      <th>sex</th>\n",
       "      <th>patient_type</th>\n",
       "      <th>death</th>\n",
       "      <th>intubed</th>\n",
       "      <th>pneumonia</th>\n",
       "      <th>age</th>\n",
       "      <th>pregnancy</th>\n",
       "      <th>diabetes</th>\n",
       "      <th>copd</th>\n",
       "      <th>...</th>\n",
       "      <th>hypertension</th>\n",
       "      <th>other_disease</th>\n",
       "      <th>cardiovascular</th>\n",
       "      <th>obesity</th>\n",
       "      <th>renal_chronic</th>\n",
       "      <th>tobacco</th>\n",
       "      <th>contact_other_covid</th>\n",
       "      <th>covid_res</th>\n",
       "      <th>icu</th>\n",
       "      <th>days_to_medical_help</th>\n",
       "    </tr>\n",
       "  </thead>\n",
       "  <tbody>\n",
       "    <tr>\n",
       "      <th>0</th>\n",
       "      <td>16169f</td>\n",
       "      <td>2</td>\n",
       "      <td>1</td>\n",
       "      <td>2</td>\n",
       "      <td>97</td>\n",
       "      <td>2</td>\n",
       "      <td>27</td>\n",
       "      <td>97</td>\n",
       "      <td>2</td>\n",
       "      <td>2</td>\n",
       "      <td>...</td>\n",
       "      <td>2</td>\n",
       "      <td>2</td>\n",
       "      <td>2</td>\n",
       "      <td>2</td>\n",
       "      <td>2</td>\n",
       "      <td>2</td>\n",
       "      <td>2</td>\n",
       "      <td>1</td>\n",
       "      <td>97</td>\n",
       "      <td>2</td>\n",
       "    </tr>\n",
       "    <tr>\n",
       "      <th>1</th>\n",
       "      <td>1009bf</td>\n",
       "      <td>2</td>\n",
       "      <td>1</td>\n",
       "      <td>2</td>\n",
       "      <td>97</td>\n",
       "      <td>2</td>\n",
       "      <td>24</td>\n",
       "      <td>97</td>\n",
       "      <td>2</td>\n",
       "      <td>2</td>\n",
       "      <td>...</td>\n",
       "      <td>2</td>\n",
       "      <td>2</td>\n",
       "      <td>2</td>\n",
       "      <td>2</td>\n",
       "      <td>2</td>\n",
       "      <td>2</td>\n",
       "      <td>99</td>\n",
       "      <td>1</td>\n",
       "      <td>97</td>\n",
       "      <td>2</td>\n",
       "    </tr>\n",
       "    <tr>\n",
       "      <th>2</th>\n",
       "      <td>167386</td>\n",
       "      <td>1</td>\n",
       "      <td>2</td>\n",
       "      <td>2</td>\n",
       "      <td>2</td>\n",
       "      <td>2</td>\n",
       "      <td>54</td>\n",
       "      <td>2</td>\n",
       "      <td>2</td>\n",
       "      <td>2</td>\n",
       "      <td>...</td>\n",
       "      <td>2</td>\n",
       "      <td>2</td>\n",
       "      <td>2</td>\n",
       "      <td>1</td>\n",
       "      <td>2</td>\n",
       "      <td>2</td>\n",
       "      <td>99</td>\n",
       "      <td>1</td>\n",
       "      <td>2</td>\n",
       "      <td>5</td>\n",
       "    </tr>\n",
       "    <tr>\n",
       "      <th>3</th>\n",
       "      <td>0b5948</td>\n",
       "      <td>2</td>\n",
       "      <td>2</td>\n",
       "      <td>2</td>\n",
       "      <td>2</td>\n",
       "      <td>1</td>\n",
       "      <td>30</td>\n",
       "      <td>97</td>\n",
       "      <td>2</td>\n",
       "      <td>2</td>\n",
       "      <td>...</td>\n",
       "      <td>2</td>\n",
       "      <td>2</td>\n",
       "      <td>2</td>\n",
       "      <td>2</td>\n",
       "      <td>2</td>\n",
       "      <td>2</td>\n",
       "      <td>99</td>\n",
       "      <td>1</td>\n",
       "      <td>2</td>\n",
       "      <td>7</td>\n",
       "    </tr>\n",
       "    <tr>\n",
       "      <th>4</th>\n",
       "      <td>0d01b5</td>\n",
       "      <td>1</td>\n",
       "      <td>2</td>\n",
       "      <td>1</td>\n",
       "      <td>2</td>\n",
       "      <td>2</td>\n",
       "      <td>60</td>\n",
       "      <td>2</td>\n",
       "      <td>1</td>\n",
       "      <td>2</td>\n",
       "      <td>...</td>\n",
       "      <td>1</td>\n",
       "      <td>2</td>\n",
       "      <td>1</td>\n",
       "      <td>2</td>\n",
       "      <td>2</td>\n",
       "      <td>2</td>\n",
       "      <td>99</td>\n",
       "      <td>1</td>\n",
       "      <td>2</td>\n",
       "      <td>0</td>\n",
       "    </tr>\n",
       "  </tbody>\n",
       "</table>\n",
       "<p>5 rows × 22 columns</p>\n",
       "</div>"
      ],
      "text/plain": [
       "       id  sex  patient_type death  intubed  pneumonia  age  pregnancy  \\\n",
       "0  16169f    2             1     2       97          2   27         97   \n",
       "1  1009bf    2             1     2       97          2   24         97   \n",
       "2  167386    1             2     2        2          2   54          2   \n",
       "3  0b5948    2             2     2        2          1   30         97   \n",
       "4  0d01b5    1             2     1        2          2   60          2   \n",
       "\n",
       "   diabetes  copd  ...  hypertension  other_disease  cardiovascular  obesity  \\\n",
       "0         2     2  ...             2              2               2        2   \n",
       "1         2     2  ...             2              2               2        2   \n",
       "2         2     2  ...             2              2               2        1   \n",
       "3         2     2  ...             2              2               2        2   \n",
       "4         1     2  ...             1              2               1        2   \n",
       "\n",
       "   renal_chronic  tobacco  contact_other_covid  covid_res  icu  \\\n",
       "0              2        2                    2          1   97   \n",
       "1              2        2                   99          1   97   \n",
       "2              2        2                   99          1    2   \n",
       "3              2        2                   99          1    2   \n",
       "4              2        2                   99          1    2   \n",
       "\n",
       "   days_to_medical_help  \n",
       "0                     2  \n",
       "1                     2  \n",
       "2                     5  \n",
       "3                     7  \n",
       "4                     0  \n",
       "\n",
       "[5 rows x 22 columns]"
      ]
     },
     "execution_count": 77,
     "metadata": {},
     "output_type": "execute_result"
    }
   ],
   "source": [
    "# With date_symptoms and entry_date we can calculate time between disease contraction and medical attention\n",
    "# This would be a more relevant feature to use rather than just the dates\n",
    "df['days_to_medical_help'] = (pd.to_datetime(df['entry_date'], dayfirst=True) - pd.to_datetime(df['date_symptoms'], dayfirst=True)).dt.days\n",
    "df = df.drop(columns=['entry_date', 'date_symptoms'])\n",
    "df.head()"
   ]
  },
  {
   "cell_type": "code",
   "execution_count": 78,
   "metadata": {},
   "outputs": [],
   "source": [
    "# Drop Patient ID from the dataset since it won't help in predictions\n",
    "columns_to_drop = ['id']\n",
    "df = df.drop(columns=columns_to_drop)"
   ]
  },
  {
   "cell_type": "code",
   "execution_count": 79,
   "metadata": {},
   "outputs": [
    {
     "data": {
      "text/plain": [
       "sex                      int64\n",
       "patient_type             int64\n",
       "death                   object\n",
       "intubed                  int64\n",
       "pneumonia                int64\n",
       "age                      int64\n",
       "pregnancy                int64\n",
       "diabetes                 int64\n",
       "copd                     int64\n",
       "asthma                   int64\n",
       "inmsupr                  int64\n",
       "hypertension             int64\n",
       "other_disease            int64\n",
       "cardiovascular           int64\n",
       "obesity                  int64\n",
       "renal_chronic            int64\n",
       "tobacco                  int64\n",
       "contact_other_covid      int64\n",
       "covid_res                int64\n",
       "icu                      int64\n",
       "days_to_medical_help     int64\n",
       "dtype: object"
      ]
     },
     "execution_count": 79,
     "metadata": {},
     "output_type": "execute_result"
    }
   ],
   "source": [
    "# Check data types of all features\n",
    "df.dtypes"
   ]
  },
  {
   "cell_type": "code",
   "execution_count": 80,
   "metadata": {},
   "outputs": [],
   "source": [
    "# Since most categorical features are currently int64 change them to categorical\n",
    "categorical_features = ['sex', 'patient_type',\n",
    "       'intubed', 'pneumonia', 'pregnancy', 'diabetes', 'copd',\n",
    "       'asthma', 'inmsupr', 'hypertension', 'other_disease', 'cardiovascular',\n",
    "       'obesity', 'renal_chronic', 'tobacco', 'contact_other_covid',\n",
    "       'covid_res', 'icu', 'death']\n",
    "# The dataset indicates that missing values are 97, 98, 99 so we replace them with 0 for uniformity\n",
    "# Keep in mind the feature values are 1- Yes, 2 - No So changing missing values to 0 is alright\n",
    "for feature in categorical_features:\n",
    "    df[feature] = df[feature].replace(to_replace=[97, 98, 99], value=0).astype('category')"
   ]
  },
  {
   "cell_type": "code",
   "execution_count": 81,
   "metadata": {},
   "outputs": [
    {
     "data": {
      "text/plain": [
       "(220657, 21)"
      ]
     },
     "execution_count": 81,
     "metadata": {},
     "output_type": "execute_result"
    }
   ],
   "source": [
    "# Now we can only use observations in which the individual tested postive for COVID 19\n",
    "covid_cases = df[df['covid_res'] == 1]\n",
    "covid_cases.shape"
   ]
  },
  {
   "cell_type": "code",
   "execution_count": 82,
   "metadata": {},
   "outputs": [
    {
     "data": {
      "text/plain": [
       "(66910, 21)"
      ]
     },
     "execution_count": 82,
     "metadata": {},
     "output_type": "execute_result"
    }
   ],
   "source": [
    "# Encoding of 3 for 'covid_res' is supposed to be awaiting results so we can use these as the prediction set for risk assesment\n",
    "awaiting_cases = df[df['covid_res'] == 3]\n",
    "awaiting_cases.shape"
   ]
  },
  {
   "cell_type": "code",
   "execution_count": 83,
   "metadata": {},
   "outputs": [],
   "source": [
    "# Variables to store the outcomes and features\n",
    "# We could try combining icu and death\n",
    "# However we do not want to include either in the prediction for the other due to expected high dependency\n",
    "features = ['sex', 'patient_type', 'days_to_medical_help',\n",
    "       'intubed', 'pneumonia', 'pregnancy', 'diabetes', 'copd',\n",
    "       'asthma', 'inmsupr', 'hypertension', 'other_disease', 'cardiovascular',\n",
    "       'obesity', 'renal_chronic', 'tobacco']\n",
    "outcomes = ['icu', 'death']"
   ]
  },
  {
   "cell_type": "code",
   "execution_count": 84,
   "metadata": {},
   "outputs": [
    {
     "data": {
      "text/plain": [
       "(68210, 21)"
      ]
     },
     "execution_count": 84,
     "metadata": {},
     "output_type": "execute_result"
    }
   ],
   "source": [
    "# First we train a model to predict 'icu' for that we form a dataset of known icu cases i.e Yes or No so we remove 0s which were\n",
    "# supposed to be missing values or cases in which we do not know if the individual was in the icu\n",
    "current_outcome = outcomes[0] # i.e 'icu'\n",
    "icu_res_known = covid_cases[covid_cases['icu'] != 0]\n",
    "icu_res_known.shape"
   ]
  },
  {
   "cell_type": "code",
   "execution_count": 85,
   "metadata": {},
   "outputs": [],
   "source": [
    "# Split data into train and test\n",
    "from sklearn.model_selection import train_test_split\n",
    "train, test = train_test_split(icu_res_known, shuffle=True, test_size=0.3, stratify=icu_res_known['icu'])"
   ]
  },
  {
   "cell_type": "code",
   "execution_count": 86,
   "metadata": {},
   "outputs": [
    {
     "data": {
      "text/plain": [
       "<AxesSubplot:xlabel='icu', ylabel='count'>"
      ]
     },
     "execution_count": 86,
     "metadata": {},
     "output_type": "execute_result"
    },
    {
     "data": {
      "image/png": "[encoded data removed]",
      "text/plain": [
       "<Figure size 432x288 with 1 Axes>"
      ]
     },
     "metadata": {
      "needs_background": "light"
     },
     "output_type": "display_data"
    }
   ],
   "source": [
    "# Before we train we want to check the distribution of icu in the train set to ensure proper training\n",
    "import seaborn as sns\n",
    "import matplotlib.pyplot as plt\n",
    "sns.countplot(x='icu', data=train)"
   ]
  },
  {
   "cell_type": "code",
   "execution_count": 87,
   "metadata": {},
   "outputs": [],
   "source": [
    "# The above graph indicates that the data is highly biased so we must perform some sampling to balance the dataset\n",
    "from imblearn.over_sampling import SMOTE\n",
    "from imblearn.under_sampling import RandomUnderSampler\n",
    "from imblearn.pipeline import Pipeline\n",
    "# Over Sample the Minority Label to be 0.3 in proportion\n",
    "over = SMOTE(sampling_strategy=0.3)\n",
    "# Down Sample the Majority Label so that there are twice as many as minority\n",
    "under = RandomUnderSampler(sampling_strategy=0.5)\n",
    "# Pipeline to combine \n",
    "steps = [('o', over), ('u', under)]\n",
    "pipeline = Pipeline(steps=steps)\n",
    "# Sampled data\n",
    "obs, results = pipeline.fit_resample(train[features], train['icu'])"
   ]
  },
  {
   "cell_type": "code",
   "execution_count": 88,
   "metadata": {},
   "outputs": [
    {
     "data": {
      "text/plain": [
       "(13101, 26202)"
      ]
     },
     "execution_count": 88,
     "metadata": {},
     "output_type": "execute_result"
    }
   ],
   "source": [
    "# Check if sampling has given the desired results\n",
    "len(results[results == 1]), len(results[results == 2])"
   ]
  },
  {
   "cell_type": "code",
   "execution_count": 89,
   "metadata": {},
   "outputs": [
    {
     "name": "stdout",
     "output_type": "stream",
     "text": [
      "Accuracy: 0.9179983384645458\n",
      "Precision: [0.51861846 0.95776464]\n",
      "Recall: [0.55008586 0.95234024]\n",
      "F-Score: [0.53388889 0.95504474]\n"
     ]
    }
   ],
   "source": [
    "# Train Random Forest as a baseline model\n",
    "from sklearn.ensemble import RandomForestClassifier\n",
    "from sklearn.metrics import precision_recall_fscore_support\n",
    "rf = RandomForestClassifier(n_estimators=40, max_depth=10).fit(obs, results)\n",
    "print(\"Accuracy: {}\".format(rf.score(test[features], test['icu'])))\n",
    "metrics = precision_recall_fscore_support(test['icu'], rf.predict(test[features]))\n",
    "print(\"Precision: {}\\nRecall: {}\\nF-Score: {}\".format(metrics[0], metrics[1], metrics[2]))"
   ]
  },
  {
   "cell_type": "code",
   "execution_count": 90,
   "metadata": {},
   "outputs": [
    {
     "name": "stdout",
     "output_type": "stream",
     "text": [
      "Accuracy: 0.9183404192933587\n",
      "Precision: [0.6        0.92436389]\n",
      "Recall: [0.13050944 0.99187861]\n",
      "F-Score: [0.21438646 0.95693188]\n"
     ]
    }
   ],
   "source": [
    "# Let us test for the non sampled dataset\n",
    "rf_normal = RandomForestClassifier(n_estimators=40, max_depth=10).fit(train[features], train['icu'])\n",
    "print(\"Accuracy: {}\".format(rf_normal.score(test[features], test['icu'])))\n",
    "metrics_normal = precision_recall_fscore_support(test['icu'], rf_normal.predict(test[features]))\n",
    "print(\"Precision: {}\\nRecall: {}\\nF-Score: {}\".format(metrics_normal[0], metrics_normal[1], metrics_normal[2]))"
   ]
  },
  {
   "cell_type": "code",
   "execution_count": 91,
   "metadata": {},
   "outputs": [],
   "source": [
    "# Lets repeat the procedure for \"death\" risk prediciton but with a function since that might help with the API implementation\n",
    "def checkBinaryBalance(data, features, output, negative_label=0, positive_label=1):\n",
    "    data_arr = np.array(data[output])\n",
    "    if abs(data_arr[data_arr == negative_label].shape[0] / len(data) - data_arr[data_arr == positive_label].shape[0] / len(data_arr)) > 0.4:\n",
    "        print(\"Not Balanced returning sampled dataet.\")\n",
    "        # Over Sample the Minority Label to be 0.3 in proportion\n",
    "        over = SMOTE(sampling_strategy=0.3)\n",
    "        # Down Sample the Majority Label so that there are twice as many as minority\n",
    "        under = RandomUnderSampler(sampling_strategy=0.5)\n",
    "        # Pipeline to combine \n",
    "        steps = [('o', over), ('u', under)]\n",
    "        pipeline = Pipeline(steps=steps)\n",
    "        # Sampled data\n",
    "        obs, results = pipeline.fit_resample(data[features], data_arr)\n",
    "        return obs, results\n",
    "    print(\"Balanced dataset returning original.\")\n",
    "    obs = data[features]\n",
    "    results = data_arr\n",
    "    return obs, results\n",
    "\n",
    "def randomForestEvaluation(obs, results, test_obs, test_results):\n",
    "    rf = RandomForestClassifier(n_estimators=40, max_depth=10).fit(obs, results)\n",
    "    print(\"Accuracy: {}\".format(rf.score(test_obs, test_results)))\n",
    "    metrics = precision_recall_fscore_support(test_results, rf.predict(test_obs))\n",
    "    print(\"Precision: {}\\nRecall: {}\\nF-Score: {}\".format(metrics[0], metrics[1], metrics[2]))"
   ]
  },
  {
   "cell_type": "code",
   "execution_count": 92,
   "metadata": {},
   "outputs": [
    {
     "data": {
      "text/plain": [
       "(220657, 21)"
      ]
     },
     "execution_count": 92,
     "metadata": {},
     "output_type": "execute_result"
    }
   ],
   "source": [
    "# Form dataset with only death status known\n",
    "death_res_known = covid_cases[covid_cases['death'] != 0]\n",
    "death_res_known.shape"
   ]
  },
  {
   "cell_type": "code",
   "execution_count": 93,
   "metadata": {},
   "outputs": [],
   "source": [
    "# Form train test\n",
    "train, test = train_test_split(death_res_known, shuffle=True, test_size=0.3, stratify=death_res_known['death'])"
   ]
  },
  {
   "cell_type": "code",
   "execution_count": 94,
   "metadata": {},
   "outputs": [
    {
     "name": "stdout",
     "output_type": "stream",
     "text": [
      "Not Balanced returning sampled dataet.\n"
     ]
    }
   ],
   "source": [
    "# Check if the resutls are balanced and get obs, results which are balanced\n",
    "obs, results = checkBinaryBalance(train, features, 'death', 2, 1)"
   ]
  },
  {
   "cell_type": "code",
   "execution_count": 95,
   "metadata": {},
   "outputs": [
    {
     "name": "stdout",
     "output_type": "stream",
     "text": [
      "Accuracy: 0.8270038369739267\n",
      "Precision: [0.40244763 0.97365961]\n",
      "Recall: [0.84070796 0.82508353]\n",
      "F-Score: [0.54432596 0.89323538]\n"
     ]
    }
   ],
   "source": [
    "# Evaluate Random Forest on training from the sampled dataset\n",
    "randomForestEvaluation(obs, results, test[features], test['death'])"
   ]
  },
  {
   "cell_type": "code",
   "execution_count": 96,
   "metadata": {},
   "outputs": [
    {
     "name": "stdout",
     "output_type": "stream",
     "text": [
      "Accuracy: 0.8895132783467778\n",
      "Precision: [0.64699571 0.9002082 ]\n",
      "Recall: [0.22234513 0.98300093]\n",
      "F-Score: [0.33095499 0.93978463]\n"
     ]
    }
   ],
   "source": [
    "# Evaluate Rnadom forest on training form the original dataset\n",
    "randomForestEvaluation(train[features], train['death'], test[features], test['death'])"
   ]
  },
  {
   "cell_type": "code",
   "execution_count": 97,
   "metadata": {},
   "outputs": [],
   "source": [
    "# Now that we have trained on Random Forest Let us test the baselines for all classifiers within the sklearn library\n",
    "from sklearn.neural_network import MLPClassifier\n",
    "from sklearn.neighbors import KNeighborsClassifier\n",
    "from sklearn.svm import SVC\n",
    "from sklearn.gaussian_process import GaussianProcessClassifier\n",
    "from sklearn.gaussian_process.kernels import RBF\n",
    "from sklearn.tree import DecisionTreeClassifier\n",
    "from sklearn.ensemble import RandomForestClassifier, AdaBoostClassifier\n",
    "from sklearn.naive_bayes import GaussianNB\n",
    "from sklearn.discriminant_analysis import QuadraticDiscriminantAnalysis\n",
    "\n",
    "classifiers = [\n",
    "    #KNeighborsClassifier(2),\n",
    "    #SVC(kernel=\"linear\", C=0.025),\n",
    "    #SVC(gamma=2, C=1),\n",
    "    #GaussianProcessClassifier(1.0 * RBF(1.0)),\n",
    "    DecisionTreeClassifier(),\n",
    "    RandomForestClassifier(n_estimators=20),\n",
    "    MLPClassifier(max_iter=10000),\n",
    "    AdaBoostClassifier(),\n",
    "    GaussianNB(),\n",
    "    #QuadraticDiscriminantAnalysis(),\n",
    "]\n",
    "\n",
    "\"\"\"names = [\"Nearest Neighbors\", \"Linear SVM\", \"RBF SVM\", \"Gaussian Process\",\n",
    "         \"Decision Tree\", \"Random Forest\", \"Neural Net\", \"AdaBoost\",\n",
    "         \"Naive Bayes\", \"QDA\"]\"\"\"\n",
    "names = [\"Decision Tree\", \"Random Forest\", \"Neural Net\", \"AdaBoost\",\n",
    "         \"Naive Bayes\"]\n",
    "\n",
    "def allModelEvaluation(names, classifiers, obs, results, test_obs, test_results):\n",
    "    scores = {}\n",
    "    for name, clf in zip(names, classifiers):\n",
    "        print(\"Training \" + name)\n",
    "        clf.fit(obs, results)\n",
    "        train_score =  clf.score(obs, results)\n",
    "        metrics_train = precision_recall_fscore_support(results, clf.predict(obs))\n",
    "        test_score = clf.score(test_obs, test_results)\n",
    "        metrics_test = precision_recall_fscore_support(test_results, clf.predict(test_obs))\n",
    "        print(\"Train Accuracy: {}\".format(train_score))\n",
    "        print(\"Train Precision: {}\\nTrain Recall: {}\\nTrain F-Score: {}\\n\".format(metrics_train[0], metrics_train[1], metrics_train[2]))\n",
    "        print(\"Test Accuracy: {}\".format(test_score))\n",
    "        print(\"Test Precision: {}\\nTest Recall: {}\\nTest F-Score: {}\".format(metrics_test[0], metrics_test[1], metrics_test[2]))\n",
    "        scores[name] = {'test accuracy' : test_score, 'test precision' : metrics_test[0], 'test recall': metrics_test[1], 'train accuracy' : train_score, 'train precision' : metrics_train[0], 'train recall' : metrics_train[1]}\n",
    "        print(\"-----------\")\n",
    "    return scores"
   ]
  },
  {
   "cell_type": "code",
   "execution_count": 98,
   "metadata": {},
   "outputs": [
    {
     "name": "stdout",
     "output_type": "stream",
     "text": [
      "Training Decision Tree\n",
      "Train Accuracy: 0.8565195282384397\n",
      "Train Precision: [0.73872778 0.93427646]\n",
      "Train Recall: [0.88123124 0.84416367]\n",
      "Train F-Score: [0.80371168 0.88693708]\n",
      "\n",
      "Test Accuracy: 0.8212936946735551\n",
      "Test Precision: [0.38795195 0.96497968]\n",
      "Test Recall: [0.78601278 0.82623747]\n",
      "Test F-Score: [0.51949634 0.8902353 ]\n",
      "-----------\n",
      "Training Random Forest\n",
      "Train Accuracy: 0.8561422502173449\n",
      "Train Precision: [0.74169317 0.92992419]\n",
      "Train Recall: [0.87217657 0.84812509]\n",
      "Train F-Score: [0.80166    0.88714306]\n",
      "\n",
      "Test Accuracy: 0.8247983322758996\n",
      "Test Precision: [0.39325358 0.96480733]\n",
      "Test Recall: [0.78380039 0.83054321]\n",
      "Test F-Score: [0.52373522 0.89265484]\n",
      "-----------\n",
      "Training Neural Net\n",
      "Train Accuracy: 0.8343093351705133\n",
      "Train Precision: [0.70903215 0.9181751 ]\n",
      "Train Recall: [0.85295999 0.82498401]\n",
      "Train F-Score: [0.77436505 0.86908851]\n",
      "\n",
      "Test Accuracy: 0.8265053324873863\n",
      "Test Precision: [0.40150579 0.97337236]\n",
      "Test Recall: [0.83898722 0.82475629]\n",
      "Test F-Score: [0.54310379 0.89292274]\n",
      "-----------\n",
      "Training AdaBoost\n",
      "Train Accuracy: 0.8219411774354937\n",
      "Train Precision: [0.71865472 0.87880561]\n",
      "Train Recall: [0.76551351 0.85015501]\n",
      "Train F-Score: [0.74134439 0.86424292]\n",
      "\n",
      "Test Accuracy: 0.8402217589655276\n",
      "Test Precision: [0.41712501 0.96127917]\n",
      "Test Recall: [0.75503933 0.85215804]\n",
      "Test F-Score: [0.5373748  0.90343549]\n",
      "-----------\n",
      "Training Naive Bayes\n",
      "Train Accuracy: 0.8047668257795713\n",
      "Train Precision: [0.67863357 0.88424515]\n",
      "Train Recall: [0.78696915 0.81366567]\n",
      "Train F-Score: [0.72879734 0.84748847]\n",
      "\n",
      "Test Accuracy: 0.8104474455421614\n",
      "Test Precision: [0.37117496 0.96372825]\n",
      "Test Recall: [0.78121927 0.81454307]\n",
      "Test F-Score: [0.50324624 0.88287784]\n",
      "-----------\n"
     ]
    }
   ],
   "source": [
    "sampled_death_scores = allModelEvaluation(names, classifiers, obs, results, test[features], test['death'])"
   ]
  },
  {
   "cell_type": "code",
   "execution_count": 99,
   "metadata": {},
   "outputs": [
    {
     "name": "stdout",
     "output_type": "stream",
     "text": [
      "Not Balanced returning sampled dataet.\n",
      "Training Decision Tree\n",
      "Train Accuracy: 0.8461186168994733\n",
      "Train Precision: [0.85037258 0.84465422]\n",
      "Train Recall: [0.65330891 0.94252347]\n",
      "Train F-Score: [0.73892774 0.89090909]\n",
      "\n",
      "Test Accuracy: 0.8889703367052729\n",
      "Test Precision: [0.3889124  0.95425414]\n",
      "Test Recall: [0.52604465 0.92284676]\n",
      "Test F-Score: [0.44720195 0.9382877 ]\n",
      "-----------\n",
      "Training Random Forest\n",
      "Train Accuracy: 0.8458387400452891\n",
      "Train Precision: [0.85870008 0.8415573 ]\n",
      "Train Recall: [0.643386   0.94706511]\n",
      "Train F-Score: [0.73561112 0.89119934]\n",
      "\n",
      "Test Accuracy: 0.8976689634950887\n",
      "Test Precision: [0.42037632 0.95455043]\n",
      "Test Recall: [0.52432742 0.93251763]\n",
      "Test F-Score: [0.46663271 0.94340541]\n",
      "-----------\n",
      "Training Neural Net\n",
      "Train Accuracy: 0.8195557591023586\n",
      "Train Precision: [0.83581089 0.81476479]\n",
      "Train Recall: [0.57079612 0.94393558]\n",
      "Train F-Score: [0.67833817 0.8746066 ]\n",
      "\n",
      "Test Accuracy: 0.9112055905781166\n",
      "Test Precision: [0.48263889 0.95804196]\n",
      "Test Recall: [0.55695478 0.94427228]\n",
      "Test F-Score: [0.51714058 0.95110728]\n",
      "-----------\n",
      "Training AdaBoost\n",
      "Train Accuracy: 0.8150522860850317\n",
      "Train Precision: [0.83432699 0.80955495]\n",
      "Train Recall: [0.55545378 0.94485154]\n",
      "Train F-Score: [0.66691106 0.87198633]\n",
      "\n",
      "Test Accuracy: 0.9140399745882812\n",
      "Test Precision: [0.4969419  0.95827253]\n",
      "Test Recall: [0.5580996  0.94726437]\n",
      "Test F-Score: [0.52574818 0.95273665]\n",
      "-----------\n",
      "Training Naive Bayes\n",
      "Train Accuracy: 0.7852835661399893\n",
      "Train Precision: [0.71117956 0.81422254]\n",
      "Train Recall: [0.5991909 0.8783299]\n",
      "Train F-Score: [0.65039977 0.84506215]\n",
      "\n",
      "Test Accuracy: 0.8592093045985437\n",
      "Test Precision: [0.3244582  0.95943829]\n",
      "Test Recall: [0.59988552 0.88341526]\n",
      "Test F-Score: [0.42113723 0.91985869]\n",
      "-----------\n"
     ]
    }
   ],
   "source": [
    "# Evaluate all models for \"icu\"\n",
    "# Form train test\n",
    "train, test = train_test_split(icu_res_known, shuffle=True, test_size=0.3, stratify=icu_res_known['icu'])\n",
    "# Check if the resutls are balanced and get obs, results which are balanced\n",
    "obs, results = checkBinaryBalance(train, features, 'icu', 2, 1)\n",
    "sampled_death_scores = allModelEvaluation(names, classifiers, obs, results, test[features], test['icu'])"
   ]
  },
  {
   "cell_type": "code",
   "execution_count": 36,
   "metadata": {},
   "outputs": [
    {
     "name": "stdout",
     "output_type": "stream",
     "text": [
      "Accuracy: 0.8975223574255974\n",
      "Precision: [0.42052679 0.9550408 ]\n",
      "Recall: [0.53005152 0.93182304]\n",
      "F-Score: [0.46897949 0.94328907]\n"
     ]
    }
   ],
   "source": [
    "# Based on the above results we can gauge that _____ is the best model. So let us try running hyperparemeter optimization on it\n",
    "# Hyperparameter tuning\n",
    "from sklearn.model_selection import GridSearchCV\n",
    "from sklearn.calibration import CalibratedClassifierCV\n",
    "from sklearn.ensemble import RandomForestClassifier\n",
    "calibrated_forest = CalibratedClassifierCV(\n",
    "   base_estimator=RandomForestClassifier())\n",
    "param_grid = {\n",
    "   'base_estimator__max_depth': [20, 40, 60, 80, 100, 120],\n",
    "    'base_estimator__n_estimators': [10, 50, 100, 150, 200]}\n",
    "search = GridSearchCV(calibrated_forest, param_grid, cv=5)\n",
    "search.fit(obs, results)\n",
    "\n",
    "print(\"Accuracy: {}\".format(search.score(test[features], test['icu'])))\n",
    "metrics = precision_recall_fscore_support(test['icu'], search.predict(test[features]))\n",
    "print(\"Precision: {}\\nRecall: {}\\nF-Score: {}\".format(metrics[0], metrics[1], metrics[2]))"
   ]
  },
  {
   "cell_type": "code",
   "execution_count": 109,
   "metadata": {},
   "outputs": [],
   "source": [
    "# Let us now train on a Dense Model in Keras\n",
    "import tensorflow as tf\n",
    "import tensorflow.keras as keras\n",
    "from tensorflow.keras import datasets, layers, models\n",
    "from tensorflow.keras.callbacks import EarlyStopping, ModelCheckpoint"
   ]
  },
  {
   "cell_type": "code",
   "execution_count": 110,
   "metadata": {},
   "outputs": [
    {
     "name": "stdout",
     "output_type": "stream",
     "text": [
      "Not Balanced returning sampled dataet.\n"
     ]
    }
   ],
   "source": [
    "# Tensorflow by default uses 0 as the negative label and 1 as the positive label so let us first change the positive lables\n",
    "# which are currently 2 to 0\n",
    "# Check if the resutls are balanced and get obs, results which are balanced\n",
    "obs, results = checkBinaryBalance(train, features, 'icu', 2, 1)\n",
    "# Change 2 labels to 0\n",
    "results = np.where(results==2, 0, results) \n",
    "# Change 2 labels to 0 in test\n",
    "test_results = test['icu'].copy()\n",
    "test_results = np.where(test_results==2, 0, test_results)"
   ]
  },
  {
   "cell_type": "code",
   "execution_count": 111,
   "metadata": {},
   "outputs": [
    {
     "name": "stdout",
     "output_type": "stream",
     "text": [
      "Model: \"sequential_14\"\n",
      "_________________________________________________________________\n",
      "Layer (type)                 Output Shape              Param #   \n",
      "=================================================================\n",
      "dense_52 (Dense)             (None, 64)                1088      \n",
      "_________________________________________________________________\n",
      "dropout_26 (Dropout)         (None, 64)                0         \n",
      "_________________________________________________________________\n",
      "dense_53 (Dense)             (None, 32)                2080      \n",
      "_________________________________________________________________\n",
      "dropout_27 (Dropout)         (None, 32)                0         \n",
      "_________________________________________________________________\n",
      "dense_54 (Dense)             (None, 16)                528       \n",
      "_________________________________________________________________\n",
      "dense_55 (Dense)             (None, 1)                 17        \n",
      "=================================================================\n",
      "Total params: 3,713\n",
      "Trainable params: 3,713\n",
      "Non-trainable params: 0\n",
      "_________________________________________________________________\n"
     ]
    }
   ],
   "source": [
    "# Build a Fully Connected Model\n",
    "model = models.Sequential()\n",
    "model.add(layers.Dense(64, activation='relu', input_dim=16))\n",
    "model.add(layers.Dropout(0.2))\n",
    "model.add(layers.Dense(32, activation='relu'))\n",
    "model.add(layers.Dropout(0.2))\n",
    "model.add(layers.Dense(16, activation='relu'))\n",
    "model.add(layers.Dense(1, activation='sigmoid'))\n",
    "model.compile(optimizer='adam', loss='binary_crossentropy', metrics=['accuracy'])\n",
    "model.summary()"
   ]
  },
  {
   "cell_type": "code",
   "execution_count": 112,
   "metadata": {},
   "outputs": [],
   "source": [
    "# Model Checkpoints\n",
    "# Callback to Early Stop if Validation loss is not improving\n",
    "es = EarlyStopping(monitor='val_loss', mode='min', verbose=1, patience=10)\n",
    "# Callback to Keep storing best model\n",
    "mc = ModelCheckpoint(\"best.h5\", monitor='val_accuracy', mode='max', verbose=1, save_best_only=True)"
   ]
  },
  {
   "cell_type": "code",
   "execution_count": 113,
   "metadata": {},
   "outputs": [],
   "source": [
    "test_obs, validation_obs, test_res, validation_res = train_test_split(test[features], test_results, test_size=0.5, shuffle=True, stratify=test_results)"
   ]
  },
  {
   "cell_type": "code",
   "execution_count": 114,
   "metadata": {
    "scrolled": false
   },
   "outputs": [
    {
     "name": "stdout",
     "output_type": "stream",
     "text": [
      "Epoch 1/100\n",
      "1178/1229 [===========================>..] - ETA: 0s - loss: 0.5358 - accuracy: 0.7569\n",
      "Epoch 00001: val_accuracy improved from -inf to 0.91487, saving model to best.h5\n",
      "1229/1229 [==============================] - 1s 970us/step - loss: 0.5330 - accuracy: 0.7594 - val_loss: 0.3105 - val_accuracy: 0.9149\n",
      "Epoch 2/100\n",
      "1185/1229 [===========================>..] - ETA: 0s - loss: 0.4784 - accuracy: 0.8111\n",
      "Epoch 00002: val_accuracy did not improve from 0.91487\n",
      "1229/1229 [==============================] - 1s 831us/step - loss: 0.4776 - accuracy: 0.8117 - val_loss: 0.3557 - val_accuracy: 0.9130\n",
      "Epoch 3/100\n",
      "1200/1229 [============================>.] - ETA: 0s - loss: 0.4726 - accuracy: 0.8150\n",
      "Epoch 00003: val_accuracy did not improve from 0.91487\n",
      "1229/1229 [==============================] - 1s 822us/step - loss: 0.4730 - accuracy: 0.8146 - val_loss: 0.3205 - val_accuracy: 0.9141\n",
      "Epoch 4/100\n",
      "1179/1229 [===========================>..] - ETA: 0s - loss: 0.4702 - accuracy: 0.8148\n",
      "Epoch 00004: val_accuracy did not improve from 0.91487\n",
      "1229/1229 [==============================] - 1s 884us/step - loss: 0.4704 - accuracy: 0.8147 - val_loss: 0.3211 - val_accuracy: 0.9128\n",
      "Epoch 5/100\n",
      "1192/1229 [============================>.] - ETA: 0s - loss: 0.4706 - accuracy: 0.8148\n",
      "Epoch 00005: val_accuracy did not improve from 0.91487\n",
      "1229/1229 [==============================] - 1s 871us/step - loss: 0.4705 - accuracy: 0.8149 - val_loss: 0.3465 - val_accuracy: 0.9131\n",
      "Epoch 6/100\n",
      "1177/1229 [===========================>..] - ETA: 0s - loss: 0.4691 - accuracy: 0.8140\n",
      "Epoch 00006: val_accuracy did not improve from 0.91487\n",
      "1229/1229 [==============================] - 1s 838us/step - loss: 0.4683 - accuracy: 0.8145 - val_loss: 0.3134 - val_accuracy: 0.9129\n",
      "Epoch 7/100\n",
      "1212/1229 [============================>.] - ETA: 0s - loss: 0.4678 - accuracy: 0.8152\n",
      "Epoch 00007: val_accuracy did not improve from 0.91487\n",
      "1229/1229 [==============================] - 1s 863us/step - loss: 0.4676 - accuracy: 0.8153 - val_loss: 0.3627 - val_accuracy: 0.9128\n",
      "Epoch 8/100\n",
      "1167/1229 [===========================>..] - ETA: 0s - loss: 0.4665 - accuracy: 0.8153\n",
      "Epoch 00008: val_accuracy did not improve from 0.91487\n",
      "1229/1229 [==============================] - 1s 881us/step - loss: 0.4663 - accuracy: 0.8156 - val_loss: 0.3512 - val_accuracy: 0.9131\n",
      "Epoch 9/100\n",
      "1177/1229 [===========================>..] - ETA: 0s - loss: 0.4660 - accuracy: 0.8154\n",
      "Epoch 00009: val_accuracy did not improve from 0.91487\n",
      "1229/1229 [==============================] - 1s 840us/step - loss: 0.4661 - accuracy: 0.8155 - val_loss: 0.3276 - val_accuracy: 0.9131\n",
      "Epoch 10/100\n",
      "1226/1229 [============================>.] - ETA: 0s - loss: 0.4652 - accuracy: 0.8154\n",
      "Epoch 00010: val_accuracy did not improve from 0.91487\n",
      "1229/1229 [==============================] - 1s 848us/step - loss: 0.4651 - accuracy: 0.8154 - val_loss: 0.3545 - val_accuracy: 0.9128\n",
      "Epoch 11/100\n",
      "1225/1229 [============================>.] - ETA: 0s - loss: 0.4654 - accuracy: 0.8151\n",
      "Epoch 00011: val_accuracy did not improve from 0.91487\n",
      "1229/1229 [==============================] - 1s 848us/step - loss: 0.4654 - accuracy: 0.8151 - val_loss: 0.3700 - val_accuracy: 0.9131\n",
      "Epoch 00011: early stopping\n"
     ]
    }
   ],
   "source": [
    "# Fit the model using training data with validation using a subset of the test data\n",
    "model_train_data = model.fit(obs, results, validation_data=(validation_obs, validation_res), epochs=100, batch_size=32, shuffle=True, callbacks=[es, mc])"
   ]
  },
  {
   "cell_type": "code",
   "execution_count": 115,
   "metadata": {},
   "outputs": [
    {
     "name": "stdout",
     "output_type": "stream",
     "text": [
      "640/640 [==============================] - 0s 428us/step - loss: 0.3087 - accuracy: 0.9160\n"
     ]
    },
    {
     "data": {
      "text/plain": [
       "[0.3087095022201538, 0.9160435795783997]"
      ]
     },
     "execution_count": 115,
     "metadata": {},
     "output_type": "execute_result"
    }
   ],
   "source": [
    "# Load Best Model Weights and Evaluate Model on entire test set\n",
    "model.load_weights(\"best.h5\") \n",
    "model.evaluate(test[features], test_results)"
   ]
  },
  {
   "cell_type": "code",
   "execution_count": 116,
   "metadata": {},
   "outputs": [
    {
     "name": "stdout",
     "output_type": "stream",
     "text": [
      "  1/320 [..............................] - ETA: 0s - loss: 0.4872 - accuracy: 0.8125WARNING:tensorflow:Callbacks method `on_test_batch_end` is slow compared to the batch time (batch time: 0.0000s vs `on_test_batch_end` time: 0.0010s). Check your callbacks.\n",
      "320/320 [==============================] - 0s 450us/step - loss: 0.3069 - accuracy: 0.9172\n"
     ]
    },
    {
     "data": {
      "text/plain": [
       "[0.30693984031677246, 0.9172123670578003]"
      ]
     },
     "execution_count": 116,
     "metadata": {},
     "output_type": "execute_result"
    }
   ],
   "source": [
    "# Evaluate Model on subset of test set\n",
    "model.evaluate(test_obs, test_res)"
   ]
  },
  {
   "cell_type": "code",
   "execution_count": 123,
   "metadata": {},
   "outputs": [
    {
     "name": "stdout",
     "output_type": "stream",
     "text": [
      "Precision: [0.95668995 0.50782515]\n",
      "Recall: [0.95127164 0.53863766]\n",
      "F-Score: [0.9539731  0.52277778]\n"
     ]
    }
   ],
   "source": [
    "# Precision, Recall, F-score metrics for entire test set\n",
    "preds = model.predict(test[features])\n",
    "labels = []\n",
    "for pred in preds[:, 0]:\n",
    "    if pred > 0.5:\n",
    "        labels.append(1)\n",
    "    else:\n",
    "        labels.append(0)\n",
    "metrics = precision_recall_fscore_support(test_results, labels)\n",
    "print(\"Precision: {}\\nRecall: {}\\nF-Score: {}\".format(metrics[0], metrics[1], metrics[2]))"
   ]
  },
  {
   "cell_type": "code",
   "execution_count": 124,
   "metadata": {},
   "outputs": [
    {
     "name": "stdout",
     "output_type": "stream",
     "text": [
      "Precision: [0.95713825 0.51409978]\n",
      "Recall: [0.95212652 0.54295533]\n",
      "F-Score: [0.95462581 0.5281337 ]\n"
     ]
    }
   ],
   "source": [
    "# Precision, Recall, F-score metrics for subset of test set\n",
    "preds = model.predict(test_obs)\n",
    "labels_test = []\n",
    "for pred in preds[:, 0]:\n",
    "    if pred > 0.5:\n",
    "        labels_test.append(1)\n",
    "    else:\n",
    "        labels_test.append(0)\n",
    "metrics = precision_recall_fscore_support(test_res, labels_test)\n",
    "print(\"Precision: {}\\nRecall: {}\\nF-Score: {}\".format(metrics[0], metrics[1], metrics[2]))"
   ]
  },
  {
   "cell_type": "code",
   "execution_count": null,
   "metadata": {},
   "outputs": [],
   "source": []
  }
 ],
 "metadata": {
  "kernelspec": {
   "display_name": "Python 3",
   "language": "python",
   "name": "python3"
  },
  "language_info": {
   "codemirror_mode": {
    "name": "ipython",
    "version": 3
   },
   "file_extension": ".py",
   "mimetype": "text/x-python",
   "name": "python",
   "nbconvert_exporter": "python",
   "pygments_lexer": "ipython3",
   "version": "3.8.3"
  }
 },
 "nbformat": 4,
 "nbformat_minor": 4
}
