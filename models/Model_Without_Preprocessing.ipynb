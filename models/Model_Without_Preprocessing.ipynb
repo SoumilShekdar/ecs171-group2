{
 "cells": [
  {
   "cell_type": "markdown",
   "metadata": {},
   "source": [
    "# COVID 19 Severity Prediction  \n",
    "**Goal**: For a given individual who is diagnosed with COVID 19 we want to determine the severity of their infection in terms of the probability of decease and probability of ICU admittance.  \n",
    "**Dataset**: The dataset available to us is curated by the Mexico Government and contains information for 500k+ observations. It contains information regarding the result of the test, time of detection, demographic information and most importantly that of various health conditions.  "
   ]
  },
  {
   "cell_type": "markdown",
   "metadata": {},
   "source": [
    "## Data Preparation"
   ]
  },
  {
   "cell_type": "code",
   "execution_count": 304,
   "metadata": {},
   "outputs": [],
   "source": [
    "import pandas as pd\n",
    "import numpy as np"
   ]
  },
  {
   "cell_type": "code",
   "execution_count": 305,
   "metadata": {},
   "outputs": [
    {
     "name": "stdout",
     "output_type": "stream",
     "text": [
      "(566602, 23)\n"
     ]
    },
    {
     "data": {
      "text/html": [
       "<div>\n",
       "<style scoped>\n",
       "    .dataframe tbody tr th:only-of-type {\n",
       "        vertical-align: middle;\n",
       "    }\n",
       "\n",
       "    .dataframe tbody tr th {\n",
       "        vertical-align: top;\n",
       "    }\n",
       "\n",
       "    .dataframe thead th {\n",
       "        text-align: right;\n",
       "    }\n",
       "</style>\n",
       "<table border=\"1\" class=\"dataframe\">\n",
       "  <thead>\n",
       "    <tr style=\"text-align: right;\">\n",
       "      <th></th>\n",
       "      <th>id</th>\n",
       "      <th>sex</th>\n",
       "      <th>patient_type</th>\n",
       "      <th>entry_date</th>\n",
       "      <th>date_symptoms</th>\n",
       "      <th>date_died</th>\n",
       "      <th>intubed</th>\n",
       "      <th>pneumonia</th>\n",
       "      <th>age</th>\n",
       "      <th>pregnancy</th>\n",
       "      <th>...</th>\n",
       "      <th>inmsupr</th>\n",
       "      <th>hypertension</th>\n",
       "      <th>other_disease</th>\n",
       "      <th>cardiovascular</th>\n",
       "      <th>obesity</th>\n",
       "      <th>renal_chronic</th>\n",
       "      <th>tobacco</th>\n",
       "      <th>contact_other_covid</th>\n",
       "      <th>covid_res</th>\n",
       "      <th>icu</th>\n",
       "    </tr>\n",
       "  </thead>\n",
       "  <tbody>\n",
       "    <tr>\n",
       "      <th>0</th>\n",
       "      <td>16169f</td>\n",
       "      <td>2</td>\n",
       "      <td>1</td>\n",
       "      <td>04-05-2020</td>\n",
       "      <td>02-05-2020</td>\n",
       "      <td>9999-99-99</td>\n",
       "      <td>97</td>\n",
       "      <td>2</td>\n",
       "      <td>27</td>\n",
       "      <td>97</td>\n",
       "      <td>...</td>\n",
       "      <td>2</td>\n",
       "      <td>2</td>\n",
       "      <td>2</td>\n",
       "      <td>2</td>\n",
       "      <td>2</td>\n",
       "      <td>2</td>\n",
       "      <td>2</td>\n",
       "      <td>2</td>\n",
       "      <td>1</td>\n",
       "      <td>97</td>\n",
       "    </tr>\n",
       "    <tr>\n",
       "      <th>1</th>\n",
       "      <td>1009bf</td>\n",
       "      <td>2</td>\n",
       "      <td>1</td>\n",
       "      <td>19-03-2020</td>\n",
       "      <td>17-03-2020</td>\n",
       "      <td>9999-99-99</td>\n",
       "      <td>97</td>\n",
       "      <td>2</td>\n",
       "      <td>24</td>\n",
       "      <td>97</td>\n",
       "      <td>...</td>\n",
       "      <td>2</td>\n",
       "      <td>2</td>\n",
       "      <td>2</td>\n",
       "      <td>2</td>\n",
       "      <td>2</td>\n",
       "      <td>2</td>\n",
       "      <td>2</td>\n",
       "      <td>99</td>\n",
       "      <td>1</td>\n",
       "      <td>97</td>\n",
       "    </tr>\n",
       "    <tr>\n",
       "      <th>2</th>\n",
       "      <td>167386</td>\n",
       "      <td>1</td>\n",
       "      <td>2</td>\n",
       "      <td>06-04-2020</td>\n",
       "      <td>01-04-2020</td>\n",
       "      <td>9999-99-99</td>\n",
       "      <td>2</td>\n",
       "      <td>2</td>\n",
       "      <td>54</td>\n",
       "      <td>2</td>\n",
       "      <td>...</td>\n",
       "      <td>2</td>\n",
       "      <td>2</td>\n",
       "      <td>2</td>\n",
       "      <td>2</td>\n",
       "      <td>1</td>\n",
       "      <td>2</td>\n",
       "      <td>2</td>\n",
       "      <td>99</td>\n",
       "      <td>1</td>\n",
       "      <td>2</td>\n",
       "    </tr>\n",
       "    <tr>\n",
       "      <th>3</th>\n",
       "      <td>0b5948</td>\n",
       "      <td>2</td>\n",
       "      <td>2</td>\n",
       "      <td>17-04-2020</td>\n",
       "      <td>10-04-2020</td>\n",
       "      <td>9999-99-99</td>\n",
       "      <td>2</td>\n",
       "      <td>1</td>\n",
       "      <td>30</td>\n",
       "      <td>97</td>\n",
       "      <td>...</td>\n",
       "      <td>2</td>\n",
       "      <td>2</td>\n",
       "      <td>2</td>\n",
       "      <td>2</td>\n",
       "      <td>2</td>\n",
       "      <td>2</td>\n",
       "      <td>2</td>\n",
       "      <td>99</td>\n",
       "      <td>1</td>\n",
       "      <td>2</td>\n",
       "    </tr>\n",
       "    <tr>\n",
       "      <th>4</th>\n",
       "      <td>0d01b5</td>\n",
       "      <td>1</td>\n",
       "      <td>2</td>\n",
       "      <td>13-04-2020</td>\n",
       "      <td>13-04-2020</td>\n",
       "      <td>22-04-2020</td>\n",
       "      <td>2</td>\n",
       "      <td>2</td>\n",
       "      <td>60</td>\n",
       "      <td>2</td>\n",
       "      <td>...</td>\n",
       "      <td>2</td>\n",
       "      <td>1</td>\n",
       "      <td>2</td>\n",
       "      <td>1</td>\n",
       "      <td>2</td>\n",
       "      <td>2</td>\n",
       "      <td>2</td>\n",
       "      <td>99</td>\n",
       "      <td>1</td>\n",
       "      <td>2</td>\n",
       "    </tr>\n",
       "  </tbody>\n",
       "</table>\n",
       "<p>5 rows × 23 columns</p>\n",
       "</div>"
      ],
      "text/plain": [
       "       id  sex  patient_type  entry_date date_symptoms   date_died  intubed  \\\n",
       "0  16169f    2             1  04-05-2020    02-05-2020  9999-99-99       97   \n",
       "1  1009bf    2             1  19-03-2020    17-03-2020  9999-99-99       97   \n",
       "2  167386    1             2  06-04-2020    01-04-2020  9999-99-99        2   \n",
       "3  0b5948    2             2  17-04-2020    10-04-2020  9999-99-99        2   \n",
       "4  0d01b5    1             2  13-04-2020    13-04-2020  22-04-2020        2   \n",
       "\n",
       "   pneumonia  age  pregnancy  ...  inmsupr  hypertension  other_disease  \\\n",
       "0          2   27         97  ...        2             2              2   \n",
       "1          2   24         97  ...        2             2              2   \n",
       "2          2   54          2  ...        2             2              2   \n",
       "3          1   30         97  ...        2             2              2   \n",
       "4          2   60          2  ...        2             1              2   \n",
       "\n",
       "   cardiovascular  obesity  renal_chronic  tobacco  contact_other_covid  \\\n",
       "0               2        2              2        2                    2   \n",
       "1               2        2              2        2                   99   \n",
       "2               2        1              2        2                   99   \n",
       "3               2        2              2        2                   99   \n",
       "4               1        2              2        2                   99   \n",
       "\n",
       "   covid_res  icu  \n",
       "0          1   97  \n",
       "1          1   97  \n",
       "2          1    2  \n",
       "3          1    2  \n",
       "4          1    2  \n",
       "\n",
       "[5 rows x 23 columns]"
      ]
     },
     "execution_count": 305,
     "metadata": {},
     "output_type": "execute_result"
    }
   ],
   "source": [
    "# Import and asses dataset\n",
    "# Dataset description can be found at: https://www.kaggle.com/tanmoyx/covid19-patient-precondition-dataset?select=covid.csv\n",
    "df = pd.read_csv(\"../data/mexico_government_covid19_patient/covid.csv\")\n",
    "print(df.shape)\n",
    "df.head()"
   ]
  },
  {
   "cell_type": "markdown",
   "metadata": {},
   "source": [
    "If the date_died is invalid then the given case of COVID 19 did not result in fatality. So we form a new feature \"lethal\" indicating this. All invalid dates are replaced with no(2), and all valid dates are replaced with 1(yes)."
   ]
  },
  {
   "cell_type": "code",
   "execution_count": 306,
   "metadata": {},
   "outputs": [
    {
     "data": {
      "text/html": [
       "<div>\n",
       "<style scoped>\n",
       "    .dataframe tbody tr th:only-of-type {\n",
       "        vertical-align: middle;\n",
       "    }\n",
       "\n",
       "    .dataframe tbody tr th {\n",
       "        vertical-align: top;\n",
       "    }\n",
       "\n",
       "    .dataframe thead th {\n",
       "        text-align: right;\n",
       "    }\n",
       "</style>\n",
       "<table border=\"1\" class=\"dataframe\">\n",
       "  <thead>\n",
       "    <tr style=\"text-align: right;\">\n",
       "      <th></th>\n",
       "      <th>id</th>\n",
       "      <th>sex</th>\n",
       "      <th>patient_type</th>\n",
       "      <th>entry_date</th>\n",
       "      <th>date_symptoms</th>\n",
       "      <th>lethal</th>\n",
       "      <th>intubed</th>\n",
       "      <th>pneumonia</th>\n",
       "      <th>age</th>\n",
       "      <th>pregnancy</th>\n",
       "      <th>...</th>\n",
       "      <th>inmsupr</th>\n",
       "      <th>hypertension</th>\n",
       "      <th>other_disease</th>\n",
       "      <th>cardiovascular</th>\n",
       "      <th>obesity</th>\n",
       "      <th>renal_chronic</th>\n",
       "      <th>tobacco</th>\n",
       "      <th>contact_other_covid</th>\n",
       "      <th>covid_res</th>\n",
       "      <th>icu</th>\n",
       "    </tr>\n",
       "  </thead>\n",
       "  <tbody>\n",
       "    <tr>\n",
       "      <th>0</th>\n",
       "      <td>16169f</td>\n",
       "      <td>2</td>\n",
       "      <td>1</td>\n",
       "      <td>04-05-2020</td>\n",
       "      <td>02-05-2020</td>\n",
       "      <td>2</td>\n",
       "      <td>97</td>\n",
       "      <td>2</td>\n",
       "      <td>27</td>\n",
       "      <td>97</td>\n",
       "      <td>...</td>\n",
       "      <td>2</td>\n",
       "      <td>2</td>\n",
       "      <td>2</td>\n",
       "      <td>2</td>\n",
       "      <td>2</td>\n",
       "      <td>2</td>\n",
       "      <td>2</td>\n",
       "      <td>2</td>\n",
       "      <td>1</td>\n",
       "      <td>97</td>\n",
       "    </tr>\n",
       "    <tr>\n",
       "      <th>1</th>\n",
       "      <td>1009bf</td>\n",
       "      <td>2</td>\n",
       "      <td>1</td>\n",
       "      <td>19-03-2020</td>\n",
       "      <td>17-03-2020</td>\n",
       "      <td>2</td>\n",
       "      <td>97</td>\n",
       "      <td>2</td>\n",
       "      <td>24</td>\n",
       "      <td>97</td>\n",
       "      <td>...</td>\n",
       "      <td>2</td>\n",
       "      <td>2</td>\n",
       "      <td>2</td>\n",
       "      <td>2</td>\n",
       "      <td>2</td>\n",
       "      <td>2</td>\n",
       "      <td>2</td>\n",
       "      <td>99</td>\n",
       "      <td>1</td>\n",
       "      <td>97</td>\n",
       "    </tr>\n",
       "    <tr>\n",
       "      <th>2</th>\n",
       "      <td>167386</td>\n",
       "      <td>1</td>\n",
       "      <td>2</td>\n",
       "      <td>06-04-2020</td>\n",
       "      <td>01-04-2020</td>\n",
       "      <td>2</td>\n",
       "      <td>2</td>\n",
       "      <td>2</td>\n",
       "      <td>54</td>\n",
       "      <td>2</td>\n",
       "      <td>...</td>\n",
       "      <td>2</td>\n",
       "      <td>2</td>\n",
       "      <td>2</td>\n",
       "      <td>2</td>\n",
       "      <td>1</td>\n",
       "      <td>2</td>\n",
       "      <td>2</td>\n",
       "      <td>99</td>\n",
       "      <td>1</td>\n",
       "      <td>2</td>\n",
       "    </tr>\n",
       "    <tr>\n",
       "      <th>3</th>\n",
       "      <td>0b5948</td>\n",
       "      <td>2</td>\n",
       "      <td>2</td>\n",
       "      <td>17-04-2020</td>\n",
       "      <td>10-04-2020</td>\n",
       "      <td>2</td>\n",
       "      <td>2</td>\n",
       "      <td>1</td>\n",
       "      <td>30</td>\n",
       "      <td>97</td>\n",
       "      <td>...</td>\n",
       "      <td>2</td>\n",
       "      <td>2</td>\n",
       "      <td>2</td>\n",
       "      <td>2</td>\n",
       "      <td>2</td>\n",
       "      <td>2</td>\n",
       "      <td>2</td>\n",
       "      <td>99</td>\n",
       "      <td>1</td>\n",
       "      <td>2</td>\n",
       "    </tr>\n",
       "    <tr>\n",
       "      <th>4</th>\n",
       "      <td>0d01b5</td>\n",
       "      <td>1</td>\n",
       "      <td>2</td>\n",
       "      <td>13-04-2020</td>\n",
       "      <td>13-04-2020</td>\n",
       "      <td>1</td>\n",
       "      <td>2</td>\n",
       "      <td>2</td>\n",
       "      <td>60</td>\n",
       "      <td>2</td>\n",
       "      <td>...</td>\n",
       "      <td>2</td>\n",
       "      <td>1</td>\n",
       "      <td>2</td>\n",
       "      <td>1</td>\n",
       "      <td>2</td>\n",
       "      <td>2</td>\n",
       "      <td>2</td>\n",
       "      <td>99</td>\n",
       "      <td>1</td>\n",
       "      <td>2</td>\n",
       "    </tr>\n",
       "  </tbody>\n",
       "</table>\n",
       "<p>5 rows × 23 columns</p>\n",
       "</div>"
      ],
      "text/plain": [
       "       id  sex  patient_type  entry_date date_symptoms lethal  intubed  \\\n",
       "0  16169f    2             1  04-05-2020    02-05-2020      2       97   \n",
       "1  1009bf    2             1  19-03-2020    17-03-2020      2       97   \n",
       "2  167386    1             2  06-04-2020    01-04-2020      2        2   \n",
       "3  0b5948    2             2  17-04-2020    10-04-2020      2        2   \n",
       "4  0d01b5    1             2  13-04-2020    13-04-2020      1        2   \n",
       "\n",
       "   pneumonia  age  pregnancy  ...  inmsupr  hypertension  other_disease  \\\n",
       "0          2   27         97  ...        2             2              2   \n",
       "1          2   24         97  ...        2             2              2   \n",
       "2          2   54          2  ...        2             2              2   \n",
       "3          1   30         97  ...        2             2              2   \n",
       "4          2   60          2  ...        2             1              2   \n",
       "\n",
       "   cardiovascular  obesity  renal_chronic  tobacco  contact_other_covid  \\\n",
       "0               2        2              2        2                    2   \n",
       "1               2        2              2        2                   99   \n",
       "2               2        1              2        2                   99   \n",
       "3               2        2              2        2                   99   \n",
       "4               1        2              2        2                   99   \n",
       "\n",
       "   covid_res  icu  \n",
       "0          1   97  \n",
       "1          1   97  \n",
       "2          1    2  \n",
       "3          1    2  \n",
       "4          1    2  \n",
       "\n",
       "[5 rows x 23 columns]"
      ]
     },
     "execution_count": 306,
     "metadata": {},
     "output_type": "execute_result"
    }
   ],
   "source": [
    "# Change the data died column to indicate if patient death\n",
    "# If there is a valid date then patient death and represent as 1 otherwise represent as 2\n",
    "df['date_died'] = df['date_died'].replace(to_replace=\"9999-99-99\", value=2)\n",
    "df['date_died'] = df['date_died'].mask(df['date_died'].ne(2), 1)\n",
    "df = df.rename(columns={'date_died':'lethal'})\n",
    "df.head()"
   ]
  },
  {
   "cell_type": "markdown",
   "metadata": {},
   "source": [
    "The features entry_date and date_symptoms provide valuable information, but by themselves they are not relevant to determining the severity of COVID 19. A more relevant feature would be the time between entry_date and data_symptoms. So we create a feature by subtracting these two values."
   ]
  },
  {
   "cell_type": "code",
   "execution_count": 307,
   "metadata": {},
   "outputs": [
    {
     "data": {
      "text/html": [
       "<div>\n",
       "<style scoped>\n",
       "    .dataframe tbody tr th:only-of-type {\n",
       "        vertical-align: middle;\n",
       "    }\n",
       "\n",
       "    .dataframe tbody tr th {\n",
       "        vertical-align: top;\n",
       "    }\n",
       "\n",
       "    .dataframe thead th {\n",
       "        text-align: right;\n",
       "    }\n",
       "</style>\n",
       "<table border=\"1\" class=\"dataframe\">\n",
       "  <thead>\n",
       "    <tr style=\"text-align: right;\">\n",
       "      <th></th>\n",
       "      <th>id</th>\n",
       "      <th>sex</th>\n",
       "      <th>patient_type</th>\n",
       "      <th>lethal</th>\n",
       "      <th>intubed</th>\n",
       "      <th>pneumonia</th>\n",
       "      <th>age</th>\n",
       "      <th>pregnancy</th>\n",
       "      <th>diabetes</th>\n",
       "      <th>copd</th>\n",
       "      <th>...</th>\n",
       "      <th>hypertension</th>\n",
       "      <th>other_disease</th>\n",
       "      <th>cardiovascular</th>\n",
       "      <th>obesity</th>\n",
       "      <th>renal_chronic</th>\n",
       "      <th>tobacco</th>\n",
       "      <th>contact_other_covid</th>\n",
       "      <th>covid_res</th>\n",
       "      <th>icu</th>\n",
       "      <th>days_to_medical_help</th>\n",
       "    </tr>\n",
       "  </thead>\n",
       "  <tbody>\n",
       "    <tr>\n",
       "      <th>0</th>\n",
       "      <td>16169f</td>\n",
       "      <td>2</td>\n",
       "      <td>1</td>\n",
       "      <td>2</td>\n",
       "      <td>97</td>\n",
       "      <td>2</td>\n",
       "      <td>27</td>\n",
       "      <td>97</td>\n",
       "      <td>2</td>\n",
       "      <td>2</td>\n",
       "      <td>...</td>\n",
       "      <td>2</td>\n",
       "      <td>2</td>\n",
       "      <td>2</td>\n",
       "      <td>2</td>\n",
       "      <td>2</td>\n",
       "      <td>2</td>\n",
       "      <td>2</td>\n",
       "      <td>1</td>\n",
       "      <td>97</td>\n",
       "      <td>2</td>\n",
       "    </tr>\n",
       "    <tr>\n",
       "      <th>1</th>\n",
       "      <td>1009bf</td>\n",
       "      <td>2</td>\n",
       "      <td>1</td>\n",
       "      <td>2</td>\n",
       "      <td>97</td>\n",
       "      <td>2</td>\n",
       "      <td>24</td>\n",
       "      <td>97</td>\n",
       "      <td>2</td>\n",
       "      <td>2</td>\n",
       "      <td>...</td>\n",
       "      <td>2</td>\n",
       "      <td>2</td>\n",
       "      <td>2</td>\n",
       "      <td>2</td>\n",
       "      <td>2</td>\n",
       "      <td>2</td>\n",
       "      <td>99</td>\n",
       "      <td>1</td>\n",
       "      <td>97</td>\n",
       "      <td>2</td>\n",
       "    </tr>\n",
       "    <tr>\n",
       "      <th>2</th>\n",
       "      <td>167386</td>\n",
       "      <td>1</td>\n",
       "      <td>2</td>\n",
       "      <td>2</td>\n",
       "      <td>2</td>\n",
       "      <td>2</td>\n",
       "      <td>54</td>\n",
       "      <td>2</td>\n",
       "      <td>2</td>\n",
       "      <td>2</td>\n",
       "      <td>...</td>\n",
       "      <td>2</td>\n",
       "      <td>2</td>\n",
       "      <td>2</td>\n",
       "      <td>1</td>\n",
       "      <td>2</td>\n",
       "      <td>2</td>\n",
       "      <td>99</td>\n",
       "      <td>1</td>\n",
       "      <td>2</td>\n",
       "      <td>5</td>\n",
       "    </tr>\n",
       "    <tr>\n",
       "      <th>3</th>\n",
       "      <td>0b5948</td>\n",
       "      <td>2</td>\n",
       "      <td>2</td>\n",
       "      <td>2</td>\n",
       "      <td>2</td>\n",
       "      <td>1</td>\n",
       "      <td>30</td>\n",
       "      <td>97</td>\n",
       "      <td>2</td>\n",
       "      <td>2</td>\n",
       "      <td>...</td>\n",
       "      <td>2</td>\n",
       "      <td>2</td>\n",
       "      <td>2</td>\n",
       "      <td>2</td>\n",
       "      <td>2</td>\n",
       "      <td>2</td>\n",
       "      <td>99</td>\n",
       "      <td>1</td>\n",
       "      <td>2</td>\n",
       "      <td>7</td>\n",
       "    </tr>\n",
       "    <tr>\n",
       "      <th>4</th>\n",
       "      <td>0d01b5</td>\n",
       "      <td>1</td>\n",
       "      <td>2</td>\n",
       "      <td>1</td>\n",
       "      <td>2</td>\n",
       "      <td>2</td>\n",
       "      <td>60</td>\n",
       "      <td>2</td>\n",
       "      <td>1</td>\n",
       "      <td>2</td>\n",
       "      <td>...</td>\n",
       "      <td>1</td>\n",
       "      <td>2</td>\n",
       "      <td>1</td>\n",
       "      <td>2</td>\n",
       "      <td>2</td>\n",
       "      <td>2</td>\n",
       "      <td>99</td>\n",
       "      <td>1</td>\n",
       "      <td>2</td>\n",
       "      <td>0</td>\n",
       "    </tr>\n",
       "  </tbody>\n",
       "</table>\n",
       "<p>5 rows × 22 columns</p>\n",
       "</div>"
      ],
      "text/plain": [
       "       id  sex  patient_type lethal  intubed  pneumonia  age  pregnancy  \\\n",
       "0  16169f    2             1      2       97          2   27         97   \n",
       "1  1009bf    2             1      2       97          2   24         97   \n",
       "2  167386    1             2      2        2          2   54          2   \n",
       "3  0b5948    2             2      2        2          1   30         97   \n",
       "4  0d01b5    1             2      1        2          2   60          2   \n",
       "\n",
       "   diabetes  copd  ...  hypertension  other_disease  cardiovascular  obesity  \\\n",
       "0         2     2  ...             2              2               2        2   \n",
       "1         2     2  ...             2              2               2        2   \n",
       "2         2     2  ...             2              2               2        1   \n",
       "3         2     2  ...             2              2               2        2   \n",
       "4         1     2  ...             1              2               1        2   \n",
       "\n",
       "   renal_chronic  tobacco  contact_other_covid  covid_res  icu  \\\n",
       "0              2        2                    2          1   97   \n",
       "1              2        2                   99          1   97   \n",
       "2              2        2                   99          1    2   \n",
       "3              2        2                   99          1    2   \n",
       "4              2        2                   99          1    2   \n",
       "\n",
       "   days_to_medical_help  \n",
       "0                     2  \n",
       "1                     2  \n",
       "2                     5  \n",
       "3                     7  \n",
       "4                     0  \n",
       "\n",
       "[5 rows x 22 columns]"
      ]
     },
     "execution_count": 307,
     "metadata": {},
     "output_type": "execute_result"
    }
   ],
   "source": [
    "# With date_symptoms and entry_date we can calculate time between disease contraction and medical attention\n",
    "# This would be a more relevant feature to use rather than just the dates\n",
    "df['days_to_medical_help'] = (pd.to_datetime(df['entry_date'], dayfirst=True) - pd.to_datetime(df['date_symptoms'], dayfirst=True)).dt.days\n",
    "df = df.drop(columns=['entry_date', 'date_symptoms'])\n",
    "df.head()"
   ]
  },
  {
   "cell_type": "code",
   "execution_count": 308,
   "metadata": {},
   "outputs": [],
   "source": [
    "# Drop Patient ID from the dataset since it won't help in predictions\n",
    "columns_to_drop = ['id']\n",
    "df = df.drop(columns=columns_to_drop)"
   ]
  },
  {
   "cell_type": "code",
   "execution_count": 309,
   "metadata": {},
   "outputs": [
    {
     "data": {
      "text/plain": [
       "sex                      int64\n",
       "patient_type             int64\n",
       "lethal                  object\n",
       "intubed                  int64\n",
       "pneumonia                int64\n",
       "age                      int64\n",
       "pregnancy                int64\n",
       "diabetes                 int64\n",
       "copd                     int64\n",
       "asthma                   int64\n",
       "inmsupr                  int64\n",
       "hypertension             int64\n",
       "other_disease            int64\n",
       "cardiovascular           int64\n",
       "obesity                  int64\n",
       "renal_chronic            int64\n",
       "tobacco                  int64\n",
       "contact_other_covid      int64\n",
       "covid_res                int64\n",
       "icu                      int64\n",
       "days_to_medical_help     int64\n",
       "dtype: object"
      ]
     },
     "execution_count": 309,
     "metadata": {},
     "output_type": "execute_result"
    }
   ],
   "source": [
    "# Check data types of all features\n",
    "df.dtypes"
   ]
  },
  {
   "cell_type": "markdown",
   "metadata": {},
   "source": [
    "Now even though we know that most of these variables are categorical pandas has encoded them as int or floats so we must convert them to categorical. We also would want to normalize all non-categorical variables and replace missing values encoded as 97, 98, and 99 in the categorical variable. We also change the encoding from 2 -> No to 0 -> to No."
   ]
  },
  {
   "cell_type": "code",
   "execution_count": 310,
   "metadata": {},
   "outputs": [],
   "source": [
    "# Since most categorical features are currently int64 change them to categorical\n",
    "# We also want to normalize all non categorical features\n",
    "from sklearn.preprocessing import MinMaxScaler\n",
    "from joblib import dump, load\n",
    "categorical_columns = ['sex', 'patient_type',\n",
    "       'intubed', 'pneumonia', 'pregnancy', 'diabetes', 'copd',\n",
    "       'asthma', 'inmsupr', 'hypertension', 'other_disease', 'cardiovascular',\n",
    "       'obesity', 'renal_chronic', 'tobacco', 'contact_other_covid',\n",
    "       'covid_res', 'icu', 'lethal']\n",
    "# The dataset indicates that missing values are 97, 98, 99 so we replace them with -1 for uniformity\n",
    "scalers = {}\n",
    "for column in df.columns:\n",
    "    if column in categorical_columns:\n",
    "        # Change no encoding from 2 to 0\n",
    "        df[column] = df[column].replace(to_replace=2, value=0)\n",
    "        # Replace all missing values with -1\n",
    "        df[column] = df[column].replace(to_replace=[97, 98, 99], value=-1).astype('category')\n",
    "    else:\n",
    "        # Normalize non categorical features\n",
    "        scalers[column] = MinMaxScaler().fit(np.array(df[column]).reshape(-1, 1))\n",
    "        df[column] = scalers[column].transform(np.array(df[column]).reshape(-1, 1))[:, 0]\n",
    "        dump(scalers[column], str(column) + '_scaler.joblib') "
   ]
  },
  {
   "cell_type": "code",
   "execution_count": 311,
   "metadata": {},
   "outputs": [
    {
     "data": {
      "text/plain": [
       "(220657, 21)"
      ]
     },
     "execution_count": 311,
     "metadata": {},
     "output_type": "execute_result"
    }
   ],
   "source": [
    "# Now we can only use observations in which the individual tested postive for COVID 19\n",
    "covid_cases = df[df['covid_res'] == 1]\n",
    "covid_cases.shape"
   ]
  },
  {
   "cell_type": "code",
   "execution_count": 312,
   "metadata": {},
   "outputs": [
    {
     "data": {
      "text/plain": [
       "(66910, 21)"
      ]
     },
     "execution_count": 312,
     "metadata": {},
     "output_type": "execute_result"
    }
   ],
   "source": [
    "# Encoding of 3 for 'covid_res' is supposed to be awaiting results so we can use these as the prediction set for risk assesment\n",
    "awaiting_cases = df[df['covid_res'] == 3]\n",
    "awaiting_cases.shape"
   ]
  },
  {
   "cell_type": "code",
   "execution_count": 313,
   "metadata": {},
   "outputs": [],
   "source": [
    "# Variables to store the outcomes and features\n",
    "# We could try combining icu and death\n",
    "# However we do not want to include either in the prediction for the other due to expected high dependency\n",
    "features = ['sex', 'patient_type', 'age', 'days_to_medical_help',\n",
    "       'intubed', 'pneumonia', 'pregnancy', 'diabetes', 'copd',\n",
    "       'asthma', 'inmsupr', 'hypertension', 'other_disease', 'cardiovascular',\n",
    "       'obesity', 'renal_chronic', 'tobacco']\n",
    "\"\"\"features = ['sex', 'age', 'days_to_medical_help', 'intubed', 'pneumonia', 'pregnancy', 'diabetes', 'copd',\n",
    "       'asthma', 'inmsupr', 'hypertension', 'other_disease', 'cardiovascular',\n",
    "       'obesity', 'renal_chronic', 'tobacco']\"\"\"\n",
    "outcomes = ['icu', 'death']"
   ]
  },
  {
   "cell_type": "markdown",
   "metadata": {},
   "source": [
    "## ICU Predictions"
   ]
  },
  {
   "cell_type": "code",
   "execution_count": 314,
   "metadata": {},
   "outputs": [
    {
     "data": {
      "text/plain": [
       "(68210, 21)"
      ]
     },
     "execution_count": 314,
     "metadata": {},
     "output_type": "execute_result"
    }
   ],
   "source": [
    "# First we train a model to predict 'icu' for that we form a dataset of known icu cases i.e Yes or No so we remove 0s which were\n",
    "# supposed to be missing values or cases in which we do not know if the individual was in the icu\n",
    "current_outcome = outcomes[0] # i.e 'icu'\n",
    "icu_res_known = covid_cases[covid_cases['icu'] != -1]\n",
    "icu_res_known.shape"
   ]
  },
  {
   "cell_type": "code",
   "execution_count": 315,
   "metadata": {},
   "outputs": [],
   "source": [
    "# Split data into train and test\n",
    "from sklearn.model_selection import train_test_split\n",
    "train, test = train_test_split(icu_res_known, shuffle=True, test_size=0.3, stratify=icu_res_known['icu'])"
   ]
  },
  {
   "cell_type": "code",
   "execution_count": 316,
   "metadata": {},
   "outputs": [
    {
     "data": {
      "text/plain": [
       "Index(['sex', 'patient_type', 'age', 'days_to_medical_help', 'intubed',\n",
       "       'pneumonia', 'pregnancy', 'diabetes', 'copd', 'asthma', 'inmsupr',\n",
       "       'hypertension', 'other_disease', 'cardiovascular', 'obesity',\n",
       "       'renal_chronic', 'tobacco'],\n",
       "      dtype='object')"
      ]
     },
     "execution_count": 316,
     "metadata": {},
     "output_type": "execute_result"
    }
   ],
   "source": [
    "train[features].columns"
   ]
  },
  {
   "cell_type": "code",
   "execution_count": 317,
   "metadata": {},
   "outputs": [
    {
     "data": {
      "text/plain": [
       "<AxesSubplot:xlabel='icu', ylabel='count'>"
      ]
     },
     "execution_count": 317,
     "metadata": {},
     "output_type": "execute_result"
    },
    {
     "data": {
      "image/png": "[encoded data removed]",
      "text/plain": [
       "<Figure size 432x288 with 1 Axes>"
      ]
     },
     "metadata": {
      "needs_background": "light"
     },
     "output_type": "display_data"
    }
   ],
   "source": [
    "# Before we train we want to check the distribution of icu in the train set to ensure proper training\n",
    "import seaborn as sns\n",
    "import matplotlib.pyplot as plt\n",
    "sns.countplot(x='icu', data=train)"
   ]
  },
  {
   "cell_type": "code",
   "execution_count": 318,
   "metadata": {},
   "outputs": [],
   "source": [
    "# The above graph indicates that the data is highly biased so we must perform some sampling to balance the dataset\n",
    "from imblearn.over_sampling import SMOTE\n",
    "from imblearn.under_sampling import RandomUnderSampler\n",
    "from imblearn.pipeline import Pipeline\n",
    "# Over Sample the Minority Label to be 0.3 in proportion\n",
    "over = SMOTE(sampling_strategy=0.3)\n",
    "# Down Sample the Majority Label so that there are twice as many as minority\n",
    "under = RandomUnderSampler(sampling_strategy=0.5)\n",
    "# Pipeline to combine \n",
    "steps = [('o', over), ('u', under)]\n",
    "pipeline = Pipeline(steps=steps)\n",
    "# Sampled data\n",
    "obs, results = pipeline.fit_resample(train[features], train['icu'])\n",
    "obs = obs.fillna(0)"
   ]
  },
  {
   "cell_type": "code",
   "execution_count": 319,
   "metadata": {},
   "outputs": [
    {
     "data": {
      "text/plain": [
       "(26202, 13101)"
      ]
     },
     "execution_count": 319,
     "metadata": {},
     "output_type": "execute_result"
    }
   ],
   "source": [
    "# Check if sampling has given the desired results\n",
    "len(results[results == 0]), len(results[results == 1])"
   ]
  },
  {
   "cell_type": "code",
   "execution_count": 320,
   "metadata": {},
   "outputs": [],
   "source": [
    "# Only down sample the \"no\" icu observations\n",
    "icu_yes = train[train['icu'] == 1]\n",
    "icu_no = train[train['icu'] == 0]\n",
    "new_train = icu_yes.append(icu_no.sample(icu_yes.shape[0]))"
   ]
  },
  {
   "cell_type": "markdown",
   "metadata": {},
   "source": [
    "**SMOTE Random Forest**"
   ]
  },
  {
   "cell_type": "code",
   "execution_count": 321,
   "metadata": {},
   "outputs": [
    {
     "name": "stdout",
     "output_type": "stream",
     "text": [
      "Accuracy: 0.8824219322679959\n",
      "Precision: [0.94417211 0.34331907]\n",
      "Recall: [0.92621287 0.41327991]\n",
      "F-Score: [0.93510627 0.37506494]\n"
     ]
    }
   ],
   "source": [
    "# Train Random Forest as a baseline model\n",
    "from sklearn.ensemble import RandomForestClassifier\n",
    "from sklearn.metrics import precision_recall_fscore_support\n",
    "rf = RandomForestClassifier(n_estimators=20).fit(obs, results)\n",
    "print(\"Accuracy: {}\".format(rf.score(test[features], test['icu'])))\n",
    "metrics = precision_recall_fscore_support(test['icu'], rf.predict(test[features]))\n",
    "print(\"Precision: {}\\nRecall: {}\\nF-Score: {}\".format(metrics[0], metrics[1], metrics[2]))"
   ]
  },
  {
   "cell_type": "code",
   "execution_count": 322,
   "metadata": {},
   "outputs": [
    {
     "name": "stdout",
     "output_type": "stream",
     "text": [
      "Accuracy: 0.7300982260665592\n",
      "Precision: [0.96055296 0.19250814]\n",
      "Recall: [0.73509297 0.67658844]\n",
      "F-Score: [0.83283392 0.29973374]\n"
     ]
    }
   ],
   "source": [
    "# Train Random Forest as a baseline model\n",
    "down_rf = RandomForestClassifier(n_estimators=100).fit(new_train[features], new_train['icu'])\n",
    "print(\"Accuracy: {}\".format(down_rf.score(test[features], test['icu'])))\n",
    "metrics = precision_recall_fscore_support(test['icu'], down_rf.predict(test[features]))\n",
    "print(\"Precision: {}\\nRecall: {}\\nF-Score: {}\".format(metrics[0], metrics[1], metrics[2]))"
   ]
  },
  {
   "cell_type": "markdown",
   "metadata": {},
   "source": [
    "**Normal Data Random Forest**"
   ]
  },
  {
   "cell_type": "code",
   "execution_count": 323,
   "metadata": {},
   "outputs": [
    {
     "name": "stdout",
     "output_type": "stream",
     "text": [
      "Accuracy: 0.9187802375018326\n",
      "Precision: [0.93017859 0.56630265]\n",
      "Recall: [0.9851464  0.20778477]\n",
      "F-Score: [0.95687374 0.3040201 ]\n"
     ]
    }
   ],
   "source": [
    "# Let us test for the non sampled dataset\n",
    "rf_normal = RandomForestClassifier(n_estimators=10, max_depth=10).fit(train[features], train['icu'])\n",
    "print(\"Accuracy: {}\".format(rf_normal.score(test[features], test['icu'])))\n",
    "metrics_normal = precision_recall_fscore_support(test['icu'], rf_normal.predict(test[features]))\n",
    "print(\"Precision: {}\\nRecall: {}\\nF-Score: {}\".format(metrics_normal[0], metrics_normal[1], metrics_normal[2]))"
   ]
  },
  {
   "cell_type": "markdown",
   "metadata": {},
   "source": [
    "**SMOTE & Training Functions**"
   ]
  },
  {
   "cell_type": "code",
   "execution_count": 324,
   "metadata": {},
   "outputs": [],
   "source": [
    "# Lets repeat the procedure for \"death\" risk prediciton but with a function since that might help with the API implementation\n",
    "def checkBinaryBalance(data, features, output, negative_label=0, positive_label=1):\n",
    "    data_arr = np.array(data[output])\n",
    "    if abs(data_arr[data_arr == negative_label]. shape[0] / len(data) - data_arr[data_arr == positive_label].shape[0] / len(data_arr)) > 0.4:\n",
    "        print(\"Not Balanced returning sampled dataet.\")\n",
    "        # Over Sample the Minority Label to be 0.3 in proportion\n",
    "        over = SMOTE(sampling_strategy=0.3)\n",
    "        # Down Sample the Majority Label so that there are twice as many as minority\n",
    "        under = RandomUnderSampler(sampling_strategy=0.5)\n",
    "        # Pipeline to combine \n",
    "        steps = [('o', over), ('u', under)]\n",
    "        pipeline = Pipeline(steps=steps)\n",
    "        # Sampled data\n",
    "        obs, results = pipeline.fit_resample(data[features], data_arr)\n",
    "        obs = obs.fillna(0)\n",
    "        return obs, results\n",
    "    print(\"Balanced dataset returning original.\")\n",
    "    obs = data[features]\n",
    "    results = data_arr\n",
    "    return obs, results\n",
    "\n",
    "def randomForestEvaluation(obs, results, test_obs, test_results):\n",
    "    rf = RandomForestClassifier(n_estimators=40, max_depth=10).fit(obs, results)\n",
    "    print(\"Accuracy: {}\".format(rf.score(test_obs, test_results)))\n",
    "    metrics = precision_recall_fscore_support(test_results, rf.predict(test_obs))\n",
    "    print(\"Precision: {}\\nRecall: {}\\nF-Score: {}\".format(metrics[0], metrics[1], metrics[2]))"
   ]
  },
  {
   "cell_type": "markdown",
   "metadata": {},
   "source": [
    "**All sklearn-models**"
   ]
  },
  {
   "cell_type": "code",
   "execution_count": 325,
   "metadata": {},
   "outputs": [],
   "source": [
    "# Now that we have trained on Random Forest Let us test the baselines for all classifiers within the sklearn library\n",
    "from sklearn.neural_network import MLPClassifier\n",
    "from sklearn.neighbors import KNeighborsClassifier\n",
    "from sklearn.svm import SVC\n",
    "from sklearn.gaussian_process import GaussianProcessClassifier\n",
    "from sklearn.gaussian_process.kernels import RBF\n",
    "from sklearn.tree import DecisionTreeClassifier\n",
    "from sklearn.ensemble import RandomForestClassifier, AdaBoostClassifier\n",
    "from sklearn.naive_bayes import GaussianNB\n",
    "from sklearn.discriminant_analysis import QuadraticDiscriminantAnalysis\n",
    "\n",
    "classifiers = [\n",
    "    #KNeighborsClassifier(2),\n",
    "    #SVC(kernel=\"linear\", C=0.025),\n",
    "    #SVC(gamma=2, C=1),\n",
    "    #GaussianProcessClassifier(1.0 * RBF(1.0)),\n",
    "    DecisionTreeClassifier(),\n",
    "    RandomForestClassifier(n_estimators=20),\n",
    "    MLPClassifier(max_iter=10000),\n",
    "    AdaBoostClassifier(),\n",
    "    GaussianNB(),\n",
    "    #QuadraticDiscriminantAnalysis(),\n",
    "]\n",
    "\n",
    "\"\"\"names = [\"Nearest Neighbors\", \"Linear SVM\", \"RBF SVM\", \"Gaussian Process\",\n",
    "         \"Decision Tree\", \"Random Forest\", \"Neural Net\", \"AdaBoost\",\n",
    "         \"Naive Bayes\", \"QDA\"]\"\"\"\n",
    "names = [\"Decision Tree\", \"Random Forest\", \"Neural Net\", \"AdaBoost\",\n",
    "         \"Naive Bayes\"]\n",
    "\n",
    "def allModelEvaluation(names, classifiers, obs, results, test_obs, test_results):\n",
    "    scores = {}\n",
    "    for name, clf in zip(names, classifiers):\n",
    "        print(\"Training \" + name)\n",
    "        clf.fit(obs, results)\n",
    "        train_score =  clf.score(obs, results)\n",
    "        metrics_train = precision_recall_fscore_support(results, clf.predict(obs))\n",
    "        test_score = clf.score(test_obs, test_results)\n",
    "        metrics_test = precision_recall_fscore_support(test_results, clf.predict(test_obs))\n",
    "        print(\"Train Accuracy: {}\".format(train_score))\n",
    "        print(\"Train Precision: {}\\nTrain Recall: {}\\nTrain F-Score: {}\\n\".format(metrics_train[0], metrics_train[1], metrics_train[2]))\n",
    "        print(\"Test Accuracy: {}\".format(test_score))\n",
    "        print(\"Test Precision: {}\\nTest Recall: {}\\nTest F-Score: {}\".format(metrics_test[0], metrics_test[1], metrics_test[2]))\n",
    "        scores[name] = {'test accuracy' : test_score, 'test precision' : metrics_test[0], 'test recall': metrics_test[1], 'train accuracy' : train_score, 'train precision' : metrics_train[0], 'train recall' : metrics_train[1]}\n",
    "        print(\"-----------\")\n",
    "    return scores"
   ]
  },
  {
   "cell_type": "code",
   "execution_count": 326,
   "metadata": {},
   "outputs": [
    {
     "name": "stdout",
     "output_type": "stream",
     "text": [
      "Not Balanced returning sampled dataet.\n",
      "Training Decision Tree\n",
      "Train Accuracy: 0.9542331288343558\n",
      "Train Precision: [0.92532169 0.98736177]\n",
      "Train Recall: [0.98822086 0.9202454 ]\n",
      "Train F-Score: [0.95573751 0.95262289]\n",
      "\n",
      "Test Accuracy: 0.7231588721106387\n",
      "Test Precision: [0.97711486 0.21131742]\n",
      "Test Recall: [0.71404146 0.82083572]\n",
      "Test F-Score: [0.82511654 0.33610688]\n",
      "-----------\n",
      "Training Random Forest\n",
      "Train Accuracy: 0.9478527607361963\n",
      "Train Precision: [0.94124758 0.95465869]\n",
      "Train Recall: [0.95533742 0.9403681 ]\n",
      "Train F-Score: [0.94824017 0.94745951]\n",
      "\n",
      "Test Accuracy: 0.763377803841079\n",
      "Test Precision: [0.9814018  0.24434165]\n",
      "Test Recall: [0.75561017 0.84659416]\n",
      "Test F-Score: [0.85383083 0.37923077]\n",
      "-----------\n",
      "Training Neural Net\n",
      "Train Accuracy: 0.7679754601226993\n",
      "Train Precision: [0.71918908 0.84469697]\n",
      "Train Recall: [0.8792638  0.65668712]\n",
      "Train F-Score: [0.79121122 0.73892034]\n",
      "\n",
      "Test Accuracy: 0.8399061721155255\n",
      "Test Precision: [0.9624416  0.29716105]\n",
      "Test Recall: [0.85846335 0.64109903]\n",
      "Test F-Score: [0.90748376 0.40609137]\n",
      "-----------\n",
      "Training AdaBoost\n",
      "Train Accuracy: 0.7519018404907976\n",
      "Train Precision: [0.69111897 0.86937747]\n",
      "Train Recall: [0.91092025 0.59288344]\n",
      "Train F-Score: [0.78594114 0.70498979]\n",
      "\n",
      "Test Accuracy: 0.88862825587646\n",
      "Test Precision: [0.96008509 0.39769231]\n",
      "Test Recall: [0.91632828 0.59187178]\n",
      "Test F-Score: [0.93769649 0.47573039]\n",
      "-----------\n",
      "Training Naive Bayes\n",
      "Train Accuracy: 0.7316564417177914\n",
      "Train Precision: [0.68266254 0.81656606]\n",
      "Train Recall: [0.86576687 0.59754601]\n",
      "Train F-Score: [0.76338851 0.69009494]\n",
      "\n",
      "Test Accuracy: 0.845574940135855\n",
      "Test Precision: [0.95866258 0.29843081]\n",
      "Test Recall: [0.86861509 0.5987407 ]\n",
      "Test F-Score: [0.91142008 0.39832445]\n",
      "-----------\n"
     ]
    }
   ],
   "source": [
    "# Evaluate all models for \"icu\"\n",
    "# Form train test\n",
    "train, test = train_test_split(icu_res_known, shuffle=True, test_size=0.3, stratify=icu_res_known['icu'])\n",
    "# Check if the resutls are balanced and get obs, results which are balanced\n",
    "obs, results = checkBinaryBalance(train, features, 'icu', 0, 1)\n",
    "sampled_icu_scores = allModelEvaluation(names, classifiers, new_train[features], new_train['icu'], test[features], test['icu'])"
   ]
  },
  {
   "cell_type": "markdown",
   "metadata": {},
   "source": [
    "**Hyper-parameter Optimization**"
   ]
  },
  {
   "cell_type": "code",
   "execution_count": 21,
   "metadata": {},
   "outputs": [
    {
     "name": "stdout",
     "output_type": "stream",
     "text": [
      "Accuracy: 0.8879929629086645\n",
      "Precision: [0.94683861 0.36930456]\n",
      "Recall: [0.92973926 0.44075558]\n",
      "F-Score: [0.93821103 0.40187891]\n"
     ]
    }
   ],
   "source": [
    "# Based on the above results we can gauge that _____ is the best model. So let us try running hyperparemeter optimization on it\n",
    "# Hyperparameter tuning\n",
    "from sklearn.model_selection import GridSearchCV\n",
    "from sklearn.calibration import CalibratedClassifierCV\n",
    "from sklearn.ensemble import RandomForestClassifier\n",
    "calibrated_forest = CalibratedClassifierCV(\n",
    "   base_estimator=RandomForestClassifier())\n",
    "param_grid = {\n",
    "   'base_estimator__max_depth': [20, 40, 60, 80, 100, 120],\n",
    "    'base_estimator__n_estimators': [10, 50, 100, 150, 200]}\n",
    "search = GridSearchCV(calibrated_forest, param_grid, cv=5)\n",
    "search.fit(obs, results)\n",
    "dump(search, 'icu_hyperparameter_rf.joblib') \n",
    "print(\"Accuracy: {}\".format(search.score(test[features], test['icu'])))\n",
    "metrics = precision_recall_fscore_support(test['icu'], search.predict(test[features]))\n",
    "print(\"Precision: {}\\nRecall: {}\\nF-Score: {}\".format(metrics[0], metrics[1], metrics[2]))"
   ]
  },
  {
   "cell_type": "code",
   "execution_count": 281,
   "metadata": {},
   "outputs": [
    {
     "name": "stdout",
     "output_type": "stream",
     "text": [
      "Not Balanced returning sampled dataet.\n",
      "Best params for recall_score\n",
      "{'max_depth': 30, 'min_samples_split': 3, 'n_estimators': 200}\n",
      "\n",
      "Confusion matrix of Random Forest optimized for recall_score on the test data:\n",
      "     pred_neg  pred_pos\n",
      "neg     14305      4411\n",
      "pos       256      1491\n"
     ]
    }
   ],
   "source": [
    "# Hyper-parameter tuning based on custom scorer (accuracy, precision, or recall) and leveraging K-Fold startification for Grid \n",
    "# Search on Validation and Training Set\n",
    "# Source: https://towardsdatascience.com/fine-tuning-a-classifier-in-scikit-learn-66e048c21e65\n",
    "\n",
    "from sklearn.preprocessing import LabelBinarizer\n",
    "from sklearn.ensemble import RandomForestClassifier\n",
    "from sklearn.model_selection import train_test_split, GridSearchCV, StratifiedKFold\n",
    "from sklearn.metrics import roc_curve, precision_recall_curve, auc, make_scorer, recall_score, accuracy_score, precision_score, confusion_matrix\n",
    "\n",
    "obs, results = checkBinaryBalance(train, features, 'icu', 0, 1)\n",
    "clf = RandomForestClassifier()\n",
    "\n",
    "param_grid = {\n",
    "    'min_samples_split': [1, 3, 5, 10, 15, 20], \n",
    "    'n_estimators' : [20, 50, 100, 150, 200],\n",
    "    'max_depth': [3, 5, 15, 25, 30],\n",
    "}\n",
    "\n",
    "scorers = {\n",
    "    'precision_score': make_scorer(precision_score),\n",
    "    'recall_score': make_scorer(recall_score),\n",
    "    'accuracy_score': make_scorer(accuracy_score)\n",
    "}\n",
    "\n",
    "def grid_search_wrapper(refit_score='precision_score'):\n",
    "    \"\"\"\n",
    "    fits a GridSearchCV classifier using refit_score for optimization\n",
    "    prints classifier performance metrics\n",
    "    \"\"\"\n",
    "    skf = StratifiedKFold(n_splits=10)\n",
    "    grid_search = GridSearchCV(clf, param_grid, scoring=scorers, refit=refit_score,\n",
    "                           cv=skf, return_train_score=True, n_jobs=-1)\n",
    "    grid_search.fit(new_train[features], new_train['icu'])\n",
    "\n",
    "    # make the predictions\n",
    "    y_pred = grid_search.predict(test[features].values)\n",
    "\n",
    "    print('Best params for {}'.format(refit_score))\n",
    "    print(grid_search.best_params_)\n",
    "\n",
    "    # confusion matrix on the test data.\n",
    "    print('\\nConfusion matrix of Random Forest optimized for {} on the test data:'.format(refit_score))\n",
    "    print(pd.DataFrame(confusion_matrix(test['icu'], y_pred),\n",
    "                 columns=['pred_neg', 'pred_pos'], index=['neg', 'pos']))\n",
    "    return grid_search\n",
    "\n",
    "grid_search_clf = grid_search_wrapper(refit_score='recall_score')"
   ]
  },
  {
   "cell_type": "code",
   "execution_count": 282,
   "metadata": {},
   "outputs": [
    {
     "name": "stdout",
     "output_type": "stream",
     "text": [
      "Accuracy: 0.8534630795649685\n",
      "Precision: [0.98241879 0.25262623]\n",
      "Recall: [0.7643193  0.85346308]\n",
      "F-Score: [0.85975298 0.38985488]\n"
     ]
    }
   ],
   "source": [
    "print(\"Accuracy: {}\".format(grid_search_clf.score(test[features], test['icu'])))\n",
    "metrics = precision_recall_fscore_support(test['icu'], grid_search_clf.predict(test[features]))\n",
    "print(\"Precision: {}\\nRecall: {}\\nF-Score: {}\".format(metrics[0], metrics[1], metrics[2]))"
   ]
  },
  {
   "cell_type": "code",
   "execution_count": 283,
   "metadata": {},
   "outputs": [
    {
     "name": "stdout",
     "output_type": "stream",
     "text": [
      "Accuracy: 0.7740311782241118\n",
      "Precision: [0.98134991 0.25304721]\n",
      "Recall: [0.76752511 0.84373211]\n",
      "F-Score: [0.86136595 0.38932911]\n"
     ]
    }
   ],
   "source": [
    "# Train using recommended parameters\n",
    "temp_rf = RandomForestClassifier(n_estimators=100, min_samples_split=3, max_depth=30).fit(new_train[features], new_train['icu'])\n",
    "print(\"Accuracy: {}\".format(temp_rf.score(test[features], test['icu'])))\n",
    "metrics = precision_recall_fscore_support(test['icu'], temp_rf.predict(test[features]))\n",
    "print(\"Precision: {}\\nRecall: {}\\nF-Score: {}\".format(metrics[0], metrics[1], metrics[2]))"
   ]
  },
  {
   "cell_type": "code",
   "execution_count": 284,
   "metadata": {},
   "outputs": [
    {
     "data": {
      "text/plain": [
       "['recall_optimized_rf.joblib']"
      ]
     },
     "execution_count": 284,
     "metadata": {},
     "output_type": "execute_result"
    }
   ],
   "source": [
    "# Save Model\n",
    "dump(temp_rf, 'recall_optimized_rf.joblib')"
   ]
  },
  {
   "cell_type": "markdown",
   "metadata": {},
   "source": [
    "**Keras Fully-connected**"
   ]
  },
  {
   "cell_type": "code",
   "execution_count": 327,
   "metadata": {},
   "outputs": [
    {
     "name": "stdout",
     "output_type": "stream",
     "text": [
      "Not Balanced returning sampled dataet.\n"
     ]
    }
   ],
   "source": [
    "# Let us now train on a Dense Model in Keras\n",
    "import tensorflow as tf\n",
    "import tensorflow.keras as keras\n",
    "from tensorflow.keras import datasets, layers, models\n",
    "from tensorflow.keras.callbacks import EarlyStopping, ModelCheckpoint\n",
    "# Check if the resutls are balanced and get obs, results which are balanced\n",
    "obs, results = checkBinaryBalance(train, features, 'icu', 0, 1)"
   ]
  },
  {
   "cell_type": "code",
   "execution_count": 328,
   "metadata": {},
   "outputs": [
    {
     "name": "stdout",
     "output_type": "stream",
     "text": [
      "Model: \"sequential_11\"\n",
      "_________________________________________________________________\n",
      "Layer (type)                 Output Shape              Param #   \n",
      "=================================================================\n",
      "dense_36 (Dense)             (None, 64)                1152      \n",
      "_________________________________________________________________\n",
      "dropout_10 (Dropout)         (None, 64)                0         \n",
      "_________________________________________________________________\n",
      "dense_37 (Dense)             (None, 32)                2080      \n",
      "_________________________________________________________________\n",
      "dropout_11 (Dropout)         (None, 32)                0         \n",
      "_________________________________________________________________\n",
      "dense_38 (Dense)             (None, 16)                528       \n",
      "_________________________________________________________________\n",
      "dense_39 (Dense)             (None, 1)                 17        \n",
      "=================================================================\n",
      "Total params: 3,777\n",
      "Trainable params: 3,777\n",
      "Non-trainable params: 0\n",
      "_________________________________________________________________\n"
     ]
    }
   ],
   "source": [
    "# Build a Fully Connected Model\n",
    "model = models.Sequential()\n",
    "model.add(layers.Dense(64, activation='relu', input_dim=len(features)))\n",
    "model.add(layers.Dropout(0.2))\n",
    "model.add(layers.Dense(32, activation='relu'))\n",
    "model.add(layers.Dropout(0.2))\n",
    "model.add(layers.Dense(16, activation='relu'))\n",
    "model.add(layers.Dense(1, activation='sigmoid'))\n",
    "model.compile(optimizer='adam', loss='binary_crossentropy', metrics=['accuracy'])\n",
    "model.summary()"
   ]
  },
  {
   "cell_type": "code",
   "execution_count": 329,
   "metadata": {},
   "outputs": [],
   "source": [
    "# Model Checkpoints\n",
    "# Callback to Early Stop if Validation loss is not improving\n",
    "es = EarlyStopping(monitor='val_loss', mode='min', verbose=1, patience=10)\n",
    "# Callback to Keep storing best model\n",
    "mc = ModelCheckpoint(\"icu.h5\", monitor='val_accuracy', mode='max', verbose=1, save_best_only=True)"
   ]
  },
  {
   "cell_type": "code",
   "execution_count": 330,
   "metadata": {},
   "outputs": [],
   "source": [
    "test_obs, validation_obs, test_res, validation_res = train_test_split(test[features], test['icu'], test_size=0.5, shuffle=True, stratify=test['icu'])"
   ]
  },
  {
   "cell_type": "code",
   "execution_count": 331,
   "metadata": {},
   "outputs": [
    {
     "name": "stdout",
     "output_type": "stream",
     "text": [
      "Epoch 1/100\n",
      "1184/1229 [===========================>..] - ETA: 0s - loss: 0.4949 - accuracy: 0.8005\n",
      "Epoch 00001: val_accuracy improved from -inf to 0.91487, saving model to icu.h5\n",
      "1229/1229 [==============================] - 1s 999us/step - loss: 0.4949 - accuracy: 0.8004 - val_loss: 0.3545 - val_accuracy: 0.9149\n",
      "Epoch 2/100\n",
      "1218/1229 [============================>.] - ETA: 0s - loss: 0.4764 - accuracy: 0.8110\n",
      "Epoch 00002: val_accuracy improved from 0.91487 to 0.91507, saving model to icu.h5\n",
      "1229/1229 [==============================] - 1s 904us/step - loss: 0.4764 - accuracy: 0.8110 - val_loss: 0.3346 - val_accuracy: 0.9151\n",
      "Epoch 3/100\n",
      "1199/1229 [============================>.] - ETA: 0s - loss: 0.4734 - accuracy: 0.8108\n",
      "Epoch 00003: val_accuracy did not improve from 0.91507\n",
      "1229/1229 [==============================] - 1s 959us/step - loss: 0.4740 - accuracy: 0.8104 - val_loss: 0.3450 - val_accuracy: 0.9146\n",
      "Epoch 4/100\n",
      "1207/1229 [============================>.] - ETA: 0s - loss: 0.4717 - accuracy: 0.8110\n",
      "Epoch 00004: val_accuracy did not improve from 0.91507\n",
      "1229/1229 [==============================] - 1s 997us/step - loss: 0.4719 - accuracy: 0.8109 - val_loss: 0.3348 - val_accuracy: 0.9145\n",
      "Epoch 5/100\n",
      "1177/1229 [===========================>..] - ETA: 0s - loss: 0.4702 - accuracy: 0.8104\n",
      "Epoch 00005: val_accuracy did not improve from 0.91507\n",
      "1229/1229 [==============================] - 1s 931us/step - loss: 0.4698 - accuracy: 0.8106 - val_loss: 0.3481 - val_accuracy: 0.9145\n",
      "Epoch 6/100\n",
      "1180/1229 [===========================>..] - ETA: 0s - loss: 0.4684 - accuracy: 0.8106\n",
      "Epoch 00006: val_accuracy did not improve from 0.91507\n",
      "1229/1229 [==============================] - 1s 961us/step - loss: 0.4677 - accuracy: 0.8110 - val_loss: 0.3216 - val_accuracy: 0.9151\n",
      "Epoch 7/100\n",
      "1184/1229 [===========================>..] - ETA: 0s - loss: 0.4671 - accuracy: 0.8107\n",
      "Epoch 00007: val_accuracy did not improve from 0.91507\n",
      "1229/1229 [==============================] - 1s 1ms/step - loss: 0.4661 - accuracy: 0.8112 - val_loss: 0.3300 - val_accuracy: 0.9142\n",
      "Epoch 8/100\n",
      "1200/1229 [============================>.] - ETA: 0s - loss: 0.4643 - accuracy: 0.8120\n",
      "Epoch 00008: val_accuracy did not improve from 0.91507\n",
      "1229/1229 [==============================] - 1s 909us/step - loss: 0.4647 - accuracy: 0.8118 - val_loss: 0.3374 - val_accuracy: 0.9100\n",
      "Epoch 9/100\n",
      "1222/1229 [============================>.] - ETA: 0s - loss: 0.4629 - accuracy: 0.8137\n",
      "Epoch 00009: val_accuracy did not improve from 0.91507\n",
      "1229/1229 [==============================] - 1s 990us/step - loss: 0.4630 - accuracy: 0.8136 - val_loss: 0.3254 - val_accuracy: 0.9109\n",
      "Epoch 10/100\n",
      "1196/1229 [============================>.] - ETA: 0s - loss: 0.4608 - accuracy: 0.8143\n",
      "Epoch 00010: val_accuracy did not improve from 0.91507\n",
      "1229/1229 [==============================] - 1s 1ms/step - loss: 0.4617 - accuracy: 0.8138 - val_loss: 0.3520 - val_accuracy: 0.9103\n",
      "Epoch 11/100\n",
      "1194/1229 [============================>.] - ETA: 0s - loss: 0.4603 - accuracy: 0.8140\n",
      "Epoch 00011: val_accuracy did not improve from 0.91507\n",
      "1229/1229 [==============================] - 1s 1ms/step - loss: 0.4610 - accuracy: 0.8135 - val_loss: 0.3267 - val_accuracy: 0.9108\n",
      "Epoch 12/100\n",
      "1187/1229 [===========================>..] - ETA: 0s - loss: 0.4592 - accuracy: 0.8146\n",
      "Epoch 00012: val_accuracy did not improve from 0.91507\n",
      "1229/1229 [==============================] - 1s 919us/step - loss: 0.4595 - accuracy: 0.8142 - val_loss: 0.3654 - val_accuracy: 0.9090\n",
      "Epoch 13/100\n",
      "1203/1229 [============================>.] - ETA: 0s - loss: 0.4601 - accuracy: 0.8138\n",
      "Epoch 00013: val_accuracy did not improve from 0.91507\n",
      "1229/1229 [==============================] - 1s 910us/step - loss: 0.4599 - accuracy: 0.8140 - val_loss: 0.3269 - val_accuracy: 0.9120\n",
      "Epoch 14/100\n",
      "1227/1229 [============================>.] - ETA: 0s - loss: 0.4582 - accuracy: 0.8145\n",
      "Epoch 00014: val_accuracy did not improve from 0.91507\n",
      "1229/1229 [==============================] - 1s 941us/step - loss: 0.4584 - accuracy: 0.8144 - val_loss: 0.3359 - val_accuracy: 0.9103\n",
      "Epoch 15/100\n",
      "1172/1229 [===========================>..] - ETA: 0s - loss: 0.4566 - accuracy: 0.8147\n",
      "Epoch 00015: val_accuracy did not improve from 0.91507\n",
      "1229/1229 [==============================] - 1s 929us/step - loss: 0.4576 - accuracy: 0.8140 - val_loss: 0.3326 - val_accuracy: 0.9111\n",
      "Epoch 16/100\n",
      "1206/1229 [============================>.] - ETA: 0s - loss: 0.4570 - accuracy: 0.8140\n",
      "Epoch 00016: val_accuracy did not improve from 0.91507\n",
      "1229/1229 [==============================] - 1s 954us/step - loss: 0.4569 - accuracy: 0.8140 - val_loss: 0.3441 - val_accuracy: 0.9088\n",
      "Epoch 00016: early stopping\n"
     ]
    }
   ],
   "source": [
    "# Fit the model using training data with validation using a subset of the test data\n",
    "model_train_data = model.fit(obs, results, validation_data=(validation_obs, validation_res), epochs=100, batch_size=32, shuffle=True, callbacks=[es, mc])"
   ]
  },
  {
   "cell_type": "code",
   "execution_count": 332,
   "metadata": {},
   "outputs": [
    {
     "name": "stdout",
     "output_type": "stream",
     "text": [
      "640/640 [==============================] - 0s 455us/step - loss: 0.3354 - accuracy: 0.9141\n"
     ]
    },
    {
     "data": {
      "text/plain": [
       "[0.33541151881217957, 0.9141377210617065]"
      ]
     },
     "execution_count": 332,
     "metadata": {},
     "output_type": "execute_result"
    }
   ],
   "source": [
    "# Load Best Model Weights and Evaluate Model on entire test set\n",
    "model.load_weights(\"icu.h5\") \n",
    "model.evaluate(test[features], test['icu'])"
   ]
  },
  {
   "cell_type": "code",
   "execution_count": 333,
   "metadata": {},
   "outputs": [
    {
     "name": "stdout",
     "output_type": "stream",
     "text": [
      "320/320 [==============================] - 0s 469us/step - loss: 0.3362 - accuracy: 0.9132\n"
     ]
    },
    {
     "data": {
      "text/plain": [
       "[0.33620336651802063, 0.9132049679756165]"
      ]
     },
     "execution_count": 333,
     "metadata": {},
     "output_type": "execute_result"
    }
   ],
   "source": [
    "# Evaluate Model on subset of test set\n",
    "model.evaluate(test_obs, test_res)"
   ]
  },
  {
   "cell_type": "code",
   "execution_count": 334,
   "metadata": {},
   "outputs": [
    {
     "name": "stdout",
     "output_type": "stream",
     "text": [
      "Precision: [0.95694347 0.49737671]\n",
      "Recall: [0.94881385 0.54264453]\n",
      "F-Score: [0.95286132 0.51902546]\n"
     ]
    }
   ],
   "source": [
    "# Precision, Recall, F-score metrics for entire test set\n",
    "preds = model.predict(test[features])\n",
    "labels = []\n",
    "for pred in preds[:, 0]:\n",
    "    if pred > 0.5:\n",
    "        labels.append(1)\n",
    "    else:\n",
    "        labels.append(0)\n",
    "metrics = precision_recall_fscore_support(test['icu'], labels)\n",
    "print(\"Precision: {}\\nRecall: {}\\nF-Score: {}\".format(metrics[0], metrics[1], metrics[2]))"
   ]
  },
  {
   "cell_type": "code",
   "execution_count": 335,
   "metadata": {},
   "outputs": [
    {
     "name": "stdout",
     "output_type": "stream",
     "text": [
      "Precision: [0.95449667 0.49178532]\n",
      "Recall: [0.95041676 0.51431844]\n",
      "F-Score: [0.95245235 0.50279955]\n"
     ]
    }
   ],
   "source": [
    "# Precision, Recall, F-score metrics for subset of test set\n",
    "preds = model.predict(test_obs)\n",
    "labels_test = []\n",
    "for pred in preds[:, 0]:\n",
    "    if pred > 0.5:\n",
    "        labels_test.append(1)\n",
    "    else:\n",
    "        labels_test.append(0)\n",
    "metrics = precision_recall_fscore_support(test_res, labels_test)\n",
    "print(\"Precision: {}\\nRecall: {}\\nF-Score: {}\".format(metrics[0], metrics[1], metrics[2]))"
   ]
  },
  {
   "cell_type": "markdown",
   "metadata": {},
   "source": [
    "## Lethality Predictions"
   ]
  },
  {
   "cell_type": "code",
   "execution_count": 336,
   "metadata": {},
   "outputs": [
    {
     "data": {
      "text/plain": [
       "(220657, 21)"
      ]
     },
     "execution_count": 336,
     "metadata": {},
     "output_type": "execute_result"
    }
   ],
   "source": [
    "# Form dataset with only death status known\n",
    "lethal_res_known = covid_cases[covid_cases['lethal'] != -1]\n",
    "lethal_res_known.shape"
   ]
  },
  {
   "cell_type": "code",
   "execution_count": 337,
   "metadata": {},
   "outputs": [],
   "source": [
    "# Form train test\n",
    "train, test = train_test_split(lethal_res_known, shuffle=True, test_size=0.3, stratify=lethal_res_known['lethal'])"
   ]
  },
  {
   "cell_type": "code",
   "execution_count": 338,
   "metadata": {},
   "outputs": [
    {
     "name": "stdout",
     "output_type": "stream",
     "text": [
      "Not Balanced returning sampled dataet.\n"
     ]
    }
   ],
   "source": [
    "# Check if the resutls are balanced and get obs, results which are balanced\n",
    "obs, results = checkBinaryBalance(train, features, 'lethal', 0, 1)"
   ]
  },
  {
   "cell_type": "markdown",
   "metadata": {},
   "source": [
    "**Random Forest Evaluation**"
   ]
  },
  {
   "cell_type": "code",
   "execution_count": 339,
   "metadata": {},
   "outputs": [
    {
     "name": "stdout",
     "output_type": "stream",
     "text": [
      "Accuracy: 0.8410525997764283\n",
      "Precision: [0.97620002 0.4267289 ]\n",
      "Recall: [0.83924081 0.8539823 ]\n",
      "F-Score: [0.90255422 0.56908838]\n"
     ]
    }
   ],
   "source": [
    "# Evaluate Random Forest on training from the sampled dataset\n",
    "randomForestEvaluation(obs, results, test[features], test['lethal'])"
   ]
  },
  {
   "cell_type": "code",
   "execution_count": 340,
   "metadata": {},
   "outputs": [
    {
     "name": "stdout",
     "output_type": "stream",
     "text": [
      "Accuracy: 0.8945889603915527\n",
      "Precision: [0.91158271 0.63985507]\n",
      "Recall: [0.97432055 0.32558997]\n",
      "F-Score: [0.94190809 0.4315738 ]\n"
     ]
    }
   ],
   "source": [
    "# Evaluate Rnadom forest on training form the original dataset\n",
    "randomForestEvaluation(train[features], train['lethal'], test[features], test['lethal'])"
   ]
  },
  {
   "cell_type": "code",
   "execution_count": 341,
   "metadata": {},
   "outputs": [
    {
     "name": "stdout",
     "output_type": "stream",
     "text": [
      "Not Balanced returning sampled dataet.\n",
      "Training Decision Tree\n",
      "Train Accuracy: 0.9522743303315125\n",
      "Train Precision: [0.95570102 0.94502236]\n",
      "Train Recall: [0.97353723 0.90974854]\n",
      "Train F-Score: [0.96453667 0.92705003]\n",
      "\n",
      "Test Accuracy: 0.8565213450557418\n",
      "Test Precision: [0.93040981 0.43038233]\n",
      "Test Recall: [0.90403362 0.51745329]\n",
      "Test F-Score: [0.91703209 0.46991852]\n",
      "-----------\n",
      "Training Random Forest\n",
      "Train Accuracy: 0.950880041992684\n",
      "Train Precision: [0.9655714 0.9219492]\n",
      "Train Recall: [0.96057035 0.93149943]\n",
      "Train F-Score: [0.96306438 0.92669971]\n",
      "\n",
      "Test Accuracy: 0.8592102480437476\n",
      "Test Precision: [0.94285143 0.44698191]\n",
      "Test Recall: [0.89364817 0.61344641]\n",
      "Test F-Score: [0.91759068 0.51714848]\n",
      "-----------\n",
      "Training Neural Net\n",
      "Train Accuracy: 0.8474812591243869\n",
      "Train Precision: [0.91280126 0.73965127]\n",
      "Train Recall: [0.85267703 0.83708971]\n",
      "Train F-Score: [0.88171537 0.78535977]\n",
      "\n",
      "Test Accuracy: 0.8507205655759993\n",
      "Test Precision: [0.97240852 0.4425809 ]\n",
      "Test Recall: [0.85403534 0.8270649 ]\n",
      "Test F-Score: [0.909386   0.57660668]\n",
      "-----------\n",
      "Training AdaBoost\n",
      "Train Accuracy: 0.8386890408936568\n",
      "Train Precision: [0.88753176 0.74717168]\n",
      "Train Recall: [0.86803061 0.78000591]\n",
      "Train F-Score: [0.87767287 0.76323583]\n",
      "\n",
      "Test Accuracy: 0.8587419559503309\n",
      "Test Precision: [0.96409993 0.45571835]\n",
      "Test Recall: [0.87139609 0.76843658]\n",
      "Test F-Score: [0.91540695 0.57213452]\n",
      "-----------\n",
      "Training Naive Bayes\n",
      "Train Accuracy: 0.8136246575791873\n",
      "Train Precision: [0.89793422 0.68531006]\n",
      "Train Recall: [0.81282909 0.81521579]\n",
      "Train F-Score: [0.8532648  0.74463973]\n",
      "\n",
      "Test Accuracy: 0.8162331188253421\n",
      "Test Precision: [0.97032361 0.3842574 ]\n",
      "Test Recall: [0.81542145 0.82202557]\n",
      "Test F-Score: [0.88615413 0.52370698]\n",
      "-----------\n"
     ]
    }
   ],
   "source": [
    "# Evaluate all models for \"lethal\"\n",
    "# Form train test\n",
    "train, test = train_test_split(lethal_res_known, shuffle=True, test_size=0.3, stratify=lethal_res_known['lethal'])\n",
    "# Check if the resutls are balanced and get obs, results which are balanced\n",
    "obs, results = checkBinaryBalance(train, features, 'lethal', 0, 1)\n",
    "sampled_lethal_scores = allModelEvaluation(names, classifiers, obs, results, test[features], test['lethal'])"
   ]
  },
  {
   "cell_type": "code",
   "execution_count": 342,
   "metadata": {},
   "outputs": [
    {
     "ename": "KeyboardInterrupt",
     "evalue": "",
     "output_type": "error",
     "traceback": [
      "\u001b[1;31m---------------------------------------------------------------------------\u001b[0m",
      "\u001b[1;31mKeyboardInterrupt\u001b[0m                         Traceback (most recent call last)",
      "\u001b[1;32m<ipython-input-342-1f3aa8d078d7>\u001b[0m in \u001b[0;36m<module>\u001b[1;34m\u001b[0m\n\u001b[0;32m     10\u001b[0m     'base_estimator__n_estimators': [10, 50, 100, 150, 200]}\n\u001b[0;32m     11\u001b[0m \u001b[0msearch\u001b[0m \u001b[1;33m=\u001b[0m \u001b[0mGridSearchCV\u001b[0m\u001b[1;33m(\u001b[0m\u001b[0mcalibrated_forest\u001b[0m\u001b[1;33m,\u001b[0m \u001b[0mparam_grid\u001b[0m\u001b[1;33m,\u001b[0m \u001b[0mcv\u001b[0m\u001b[1;33m=\u001b[0m\u001b[1;36m5\u001b[0m\u001b[1;33m)\u001b[0m\u001b[1;33m\u001b[0m\u001b[1;33m\u001b[0m\u001b[0m\n\u001b[1;32m---> 12\u001b[1;33m \u001b[0msearch\u001b[0m\u001b[1;33m.\u001b[0m\u001b[0mfit\u001b[0m\u001b[1;33m(\u001b[0m\u001b[0mobs\u001b[0m\u001b[1;33m,\u001b[0m \u001b[0mresults\u001b[0m\u001b[1;33m)\u001b[0m\u001b[1;33m\u001b[0m\u001b[1;33m\u001b[0m\u001b[0m\n\u001b[0m\u001b[0;32m     13\u001b[0m \u001b[0mdump\u001b[0m\u001b[1;33m(\u001b[0m\u001b[0msearch\u001b[0m\u001b[1;33m,\u001b[0m \u001b[1;34m'lethal_hyperparameter_rf.joblib'\u001b[0m\u001b[1;33m)\u001b[0m\u001b[1;33m\u001b[0m\u001b[1;33m\u001b[0m\u001b[0m\n\u001b[0;32m     14\u001b[0m \u001b[0mprint\u001b[0m\u001b[1;33m(\u001b[0m\u001b[1;34m\"Accuracy: {}\"\u001b[0m\u001b[1;33m.\u001b[0m\u001b[0mformat\u001b[0m\u001b[1;33m(\u001b[0m\u001b[0msearch\u001b[0m\u001b[1;33m.\u001b[0m\u001b[0mscore\u001b[0m\u001b[1;33m(\u001b[0m\u001b[0mtest\u001b[0m\u001b[1;33m[\u001b[0m\u001b[0mfeatures\u001b[0m\u001b[1;33m]\u001b[0m\u001b[1;33m,\u001b[0m \u001b[0mtest\u001b[0m\u001b[1;33m[\u001b[0m\u001b[1;34m'lethal'\u001b[0m\u001b[1;33m]\u001b[0m\u001b[1;33m)\u001b[0m\u001b[1;33m)\u001b[0m\u001b[1;33m)\u001b[0m\u001b[1;33m\u001b[0m\u001b[1;33m\u001b[0m\u001b[0m\n",
      "\u001b[1;32mc:\\python38\\lib\\site-packages\\sklearn\\utils\\validation.py\u001b[0m in \u001b[0;36minner_f\u001b[1;34m(*args, **kwargs)\u001b[0m\n\u001b[0;32m     70\u001b[0m                           FutureWarning)\n\u001b[0;32m     71\u001b[0m         \u001b[0mkwargs\u001b[0m\u001b[1;33m.\u001b[0m\u001b[0mupdate\u001b[0m\u001b[1;33m(\u001b[0m\u001b[1;33m{\u001b[0m\u001b[0mk\u001b[0m\u001b[1;33m:\u001b[0m \u001b[0marg\u001b[0m \u001b[1;32mfor\u001b[0m \u001b[0mk\u001b[0m\u001b[1;33m,\u001b[0m \u001b[0marg\u001b[0m \u001b[1;32min\u001b[0m \u001b[0mzip\u001b[0m\u001b[1;33m(\u001b[0m\u001b[0msig\u001b[0m\u001b[1;33m.\u001b[0m\u001b[0mparameters\u001b[0m\u001b[1;33m,\u001b[0m \u001b[0margs\u001b[0m\u001b[1;33m)\u001b[0m\u001b[1;33m}\u001b[0m\u001b[1;33m)\u001b[0m\u001b[1;33m\u001b[0m\u001b[1;33m\u001b[0m\u001b[0m\n\u001b[1;32m---> 72\u001b[1;33m         \u001b[1;32mreturn\u001b[0m \u001b[0mf\u001b[0m\u001b[1;33m(\u001b[0m\u001b[1;33m**\u001b[0m\u001b[0mkwargs\u001b[0m\u001b[1;33m)\u001b[0m\u001b[1;33m\u001b[0m\u001b[1;33m\u001b[0m\u001b[0m\n\u001b[0m\u001b[0;32m     73\u001b[0m     \u001b[1;32mreturn\u001b[0m \u001b[0minner_f\u001b[0m\u001b[1;33m\u001b[0m\u001b[1;33m\u001b[0m\u001b[0m\n\u001b[0;32m     74\u001b[0m \u001b[1;33m\u001b[0m\u001b[0m\n",
      "\u001b[1;32mc:\\python38\\lib\\site-packages\\sklearn\\model_selection\\_search.py\u001b[0m in \u001b[0;36mfit\u001b[1;34m(self, X, y, groups, **fit_params)\u001b[0m\n\u001b[0;32m    734\u001b[0m                 \u001b[1;32mreturn\u001b[0m \u001b[0mresults\u001b[0m\u001b[1;33m\u001b[0m\u001b[1;33m\u001b[0m\u001b[0m\n\u001b[0;32m    735\u001b[0m \u001b[1;33m\u001b[0m\u001b[0m\n\u001b[1;32m--> 736\u001b[1;33m             \u001b[0mself\u001b[0m\u001b[1;33m.\u001b[0m\u001b[0m_run_search\u001b[0m\u001b[1;33m(\u001b[0m\u001b[0mevaluate_candidates\u001b[0m\u001b[1;33m)\u001b[0m\u001b[1;33m\u001b[0m\u001b[1;33m\u001b[0m\u001b[0m\n\u001b[0m\u001b[0;32m    737\u001b[0m \u001b[1;33m\u001b[0m\u001b[0m\n\u001b[0;32m    738\u001b[0m         \u001b[1;31m# For multi-metric evaluation, store the best_index_, best_params_ and\u001b[0m\u001b[1;33m\u001b[0m\u001b[1;33m\u001b[0m\u001b[1;33m\u001b[0m\u001b[0m\n",
      "\u001b[1;32mc:\\python38\\lib\\site-packages\\sklearn\\model_selection\\_search.py\u001b[0m in \u001b[0;36m_run_search\u001b[1;34m(self, evaluate_candidates)\u001b[0m\n\u001b[0;32m   1186\u001b[0m     \u001b[1;32mdef\u001b[0m \u001b[0m_run_search\u001b[0m\u001b[1;33m(\u001b[0m\u001b[0mself\u001b[0m\u001b[1;33m,\u001b[0m \u001b[0mevaluate_candidates\u001b[0m\u001b[1;33m)\u001b[0m\u001b[1;33m:\u001b[0m\u001b[1;33m\u001b[0m\u001b[1;33m\u001b[0m\u001b[0m\n\u001b[0;32m   1187\u001b[0m         \u001b[1;34m\"\"\"Search all candidates in param_grid\"\"\"\u001b[0m\u001b[1;33m\u001b[0m\u001b[1;33m\u001b[0m\u001b[0m\n\u001b[1;32m-> 1188\u001b[1;33m         \u001b[0mevaluate_candidates\u001b[0m\u001b[1;33m(\u001b[0m\u001b[0mParameterGrid\u001b[0m\u001b[1;33m(\u001b[0m\u001b[0mself\u001b[0m\u001b[1;33m.\u001b[0m\u001b[0mparam_grid\u001b[0m\u001b[1;33m)\u001b[0m\u001b[1;33m)\u001b[0m\u001b[1;33m\u001b[0m\u001b[1;33m\u001b[0m\u001b[0m\n\u001b[0m\u001b[0;32m   1189\u001b[0m \u001b[1;33m\u001b[0m\u001b[0m\n\u001b[0;32m   1190\u001b[0m \u001b[1;33m\u001b[0m\u001b[0m\n",
      "\u001b[1;32mc:\\python38\\lib\\site-packages\\sklearn\\model_selection\\_search.py\u001b[0m in \u001b[0;36mevaluate_candidates\u001b[1;34m(candidate_params)\u001b[0m\n\u001b[0;32m    706\u001b[0m                               n_splits, n_candidates, n_candidates * n_splits))\n\u001b[0;32m    707\u001b[0m \u001b[1;33m\u001b[0m\u001b[0m\n\u001b[1;32m--> 708\u001b[1;33m                 out = parallel(delayed(_fit_and_score)(clone(base_estimator),\n\u001b[0m\u001b[0;32m    709\u001b[0m                                                        \u001b[0mX\u001b[0m\u001b[1;33m,\u001b[0m \u001b[0my\u001b[0m\u001b[1;33m,\u001b[0m\u001b[1;33m\u001b[0m\u001b[1;33m\u001b[0m\u001b[0m\n\u001b[0;32m    710\u001b[0m                                                        \u001b[0mtrain\u001b[0m\u001b[1;33m=\u001b[0m\u001b[0mtrain\u001b[0m\u001b[1;33m,\u001b[0m \u001b[0mtest\u001b[0m\u001b[1;33m=\u001b[0m\u001b[0mtest\u001b[0m\u001b[1;33m,\u001b[0m\u001b[1;33m\u001b[0m\u001b[1;33m\u001b[0m\u001b[0m\n",
      "\u001b[1;32mc:\\python38\\lib\\site-packages\\joblib\\parallel.py\u001b[0m in \u001b[0;36m__call__\u001b[1;34m(self, iterable)\u001b[0m\n\u001b[0;32m   1030\u001b[0m                 \u001b[0mself\u001b[0m\u001b[1;33m.\u001b[0m\u001b[0m_iterating\u001b[0m \u001b[1;33m=\u001b[0m \u001b[0mself\u001b[0m\u001b[1;33m.\u001b[0m\u001b[0m_original_iterator\u001b[0m \u001b[1;32mis\u001b[0m \u001b[1;32mnot\u001b[0m \u001b[1;32mNone\u001b[0m\u001b[1;33m\u001b[0m\u001b[1;33m\u001b[0m\u001b[0m\n\u001b[0;32m   1031\u001b[0m \u001b[1;33m\u001b[0m\u001b[0m\n\u001b[1;32m-> 1032\u001b[1;33m             \u001b[1;32mwhile\u001b[0m \u001b[0mself\u001b[0m\u001b[1;33m.\u001b[0m\u001b[0mdispatch_one_batch\u001b[0m\u001b[1;33m(\u001b[0m\u001b[0miterator\u001b[0m\u001b[1;33m)\u001b[0m\u001b[1;33m:\u001b[0m\u001b[1;33m\u001b[0m\u001b[1;33m\u001b[0m\u001b[0m\n\u001b[0m\u001b[0;32m   1033\u001b[0m                 \u001b[1;32mpass\u001b[0m\u001b[1;33m\u001b[0m\u001b[1;33m\u001b[0m\u001b[0m\n\u001b[0;32m   1034\u001b[0m \u001b[1;33m\u001b[0m\u001b[0m\n",
      "\u001b[1;32mc:\\python38\\lib\\site-packages\\joblib\\parallel.py\u001b[0m in \u001b[0;36mdispatch_one_batch\u001b[1;34m(self, iterator)\u001b[0m\n\u001b[0;32m    845\u001b[0m                 \u001b[1;32mreturn\u001b[0m \u001b[1;32mFalse\u001b[0m\u001b[1;33m\u001b[0m\u001b[1;33m\u001b[0m\u001b[0m\n\u001b[0;32m    846\u001b[0m             \u001b[1;32melse\u001b[0m\u001b[1;33m:\u001b[0m\u001b[1;33m\u001b[0m\u001b[1;33m\u001b[0m\u001b[0m\n\u001b[1;32m--> 847\u001b[1;33m                 \u001b[0mself\u001b[0m\u001b[1;33m.\u001b[0m\u001b[0m_dispatch\u001b[0m\u001b[1;33m(\u001b[0m\u001b[0mtasks\u001b[0m\u001b[1;33m)\u001b[0m\u001b[1;33m\u001b[0m\u001b[1;33m\u001b[0m\u001b[0m\n\u001b[0m\u001b[0;32m    848\u001b[0m                 \u001b[1;32mreturn\u001b[0m \u001b[1;32mTrue\u001b[0m\u001b[1;33m\u001b[0m\u001b[1;33m\u001b[0m\u001b[0m\n\u001b[0;32m    849\u001b[0m \u001b[1;33m\u001b[0m\u001b[0m\n",
      "\u001b[1;32mc:\\python38\\lib\\site-packages\\joblib\\parallel.py\u001b[0m in \u001b[0;36m_dispatch\u001b[1;34m(self, batch)\u001b[0m\n\u001b[0;32m    763\u001b[0m         \u001b[1;32mwith\u001b[0m \u001b[0mself\u001b[0m\u001b[1;33m.\u001b[0m\u001b[0m_lock\u001b[0m\u001b[1;33m:\u001b[0m\u001b[1;33m\u001b[0m\u001b[1;33m\u001b[0m\u001b[0m\n\u001b[0;32m    764\u001b[0m             \u001b[0mjob_idx\u001b[0m \u001b[1;33m=\u001b[0m \u001b[0mlen\u001b[0m\u001b[1;33m(\u001b[0m\u001b[0mself\u001b[0m\u001b[1;33m.\u001b[0m\u001b[0m_jobs\u001b[0m\u001b[1;33m)\u001b[0m\u001b[1;33m\u001b[0m\u001b[1;33m\u001b[0m\u001b[0m\n\u001b[1;32m--> 765\u001b[1;33m             \u001b[0mjob\u001b[0m \u001b[1;33m=\u001b[0m \u001b[0mself\u001b[0m\u001b[1;33m.\u001b[0m\u001b[0m_backend\u001b[0m\u001b[1;33m.\u001b[0m\u001b[0mapply_async\u001b[0m\u001b[1;33m(\u001b[0m\u001b[0mbatch\u001b[0m\u001b[1;33m,\u001b[0m \u001b[0mcallback\u001b[0m\u001b[1;33m=\u001b[0m\u001b[0mcb\u001b[0m\u001b[1;33m)\u001b[0m\u001b[1;33m\u001b[0m\u001b[1;33m\u001b[0m\u001b[0m\n\u001b[0m\u001b[0;32m    766\u001b[0m             \u001b[1;31m# A job can complete so quickly than its callback is\u001b[0m\u001b[1;33m\u001b[0m\u001b[1;33m\u001b[0m\u001b[1;33m\u001b[0m\u001b[0m\n\u001b[0;32m    767\u001b[0m             \u001b[1;31m# called before we get here, causing self._jobs to\u001b[0m\u001b[1;33m\u001b[0m\u001b[1;33m\u001b[0m\u001b[1;33m\u001b[0m\u001b[0m\n",
      "\u001b[1;32mc:\\python38\\lib\\site-packages\\joblib\\_parallel_backends.py\u001b[0m in \u001b[0;36mapply_async\u001b[1;34m(self, func, callback)\u001b[0m\n\u001b[0;32m    206\u001b[0m     \u001b[1;32mdef\u001b[0m \u001b[0mapply_async\u001b[0m\u001b[1;33m(\u001b[0m\u001b[0mself\u001b[0m\u001b[1;33m,\u001b[0m \u001b[0mfunc\u001b[0m\u001b[1;33m,\u001b[0m \u001b[0mcallback\u001b[0m\u001b[1;33m=\u001b[0m\u001b[1;32mNone\u001b[0m\u001b[1;33m)\u001b[0m\u001b[1;33m:\u001b[0m\u001b[1;33m\u001b[0m\u001b[1;33m\u001b[0m\u001b[0m\n\u001b[0;32m    207\u001b[0m         \u001b[1;34m\"\"\"Schedule a func to be run\"\"\"\u001b[0m\u001b[1;33m\u001b[0m\u001b[1;33m\u001b[0m\u001b[0m\n\u001b[1;32m--> 208\u001b[1;33m         \u001b[0mresult\u001b[0m \u001b[1;33m=\u001b[0m \u001b[0mImmediateResult\u001b[0m\u001b[1;33m(\u001b[0m\u001b[0mfunc\u001b[0m\u001b[1;33m)\u001b[0m\u001b[1;33m\u001b[0m\u001b[1;33m\u001b[0m\u001b[0m\n\u001b[0m\u001b[0;32m    209\u001b[0m         \u001b[1;32mif\u001b[0m \u001b[0mcallback\u001b[0m\u001b[1;33m:\u001b[0m\u001b[1;33m\u001b[0m\u001b[1;33m\u001b[0m\u001b[0m\n\u001b[0;32m    210\u001b[0m             \u001b[0mcallback\u001b[0m\u001b[1;33m(\u001b[0m\u001b[0mresult\u001b[0m\u001b[1;33m)\u001b[0m\u001b[1;33m\u001b[0m\u001b[1;33m\u001b[0m\u001b[0m\n",
      "\u001b[1;32mc:\\python38\\lib\\site-packages\\joblib\\_parallel_backends.py\u001b[0m in \u001b[0;36m__init__\u001b[1;34m(self, batch)\u001b[0m\n\u001b[0;32m    570\u001b[0m         \u001b[1;31m# Don't delay the application, to avoid keeping the input\u001b[0m\u001b[1;33m\u001b[0m\u001b[1;33m\u001b[0m\u001b[1;33m\u001b[0m\u001b[0m\n\u001b[0;32m    571\u001b[0m         \u001b[1;31m# arguments in memory\u001b[0m\u001b[1;33m\u001b[0m\u001b[1;33m\u001b[0m\u001b[1;33m\u001b[0m\u001b[0m\n\u001b[1;32m--> 572\u001b[1;33m         \u001b[0mself\u001b[0m\u001b[1;33m.\u001b[0m\u001b[0mresults\u001b[0m \u001b[1;33m=\u001b[0m \u001b[0mbatch\u001b[0m\u001b[1;33m(\u001b[0m\u001b[1;33m)\u001b[0m\u001b[1;33m\u001b[0m\u001b[1;33m\u001b[0m\u001b[0m\n\u001b[0m\u001b[0;32m    573\u001b[0m \u001b[1;33m\u001b[0m\u001b[0m\n\u001b[0;32m    574\u001b[0m     \u001b[1;32mdef\u001b[0m \u001b[0mget\u001b[0m\u001b[1;33m(\u001b[0m\u001b[0mself\u001b[0m\u001b[1;33m)\u001b[0m\u001b[1;33m:\u001b[0m\u001b[1;33m\u001b[0m\u001b[1;33m\u001b[0m\u001b[0m\n",
      "\u001b[1;32mc:\\python38\\lib\\site-packages\\joblib\\parallel.py\u001b[0m in \u001b[0;36m__call__\u001b[1;34m(self)\u001b[0m\n\u001b[0;32m    250\u001b[0m         \u001b[1;31m# change the default number of processes to -1\u001b[0m\u001b[1;33m\u001b[0m\u001b[1;33m\u001b[0m\u001b[1;33m\u001b[0m\u001b[0m\n\u001b[0;32m    251\u001b[0m         \u001b[1;32mwith\u001b[0m \u001b[0mparallel_backend\u001b[0m\u001b[1;33m(\u001b[0m\u001b[0mself\u001b[0m\u001b[1;33m.\u001b[0m\u001b[0m_backend\u001b[0m\u001b[1;33m,\u001b[0m \u001b[0mn_jobs\u001b[0m\u001b[1;33m=\u001b[0m\u001b[0mself\u001b[0m\u001b[1;33m.\u001b[0m\u001b[0m_n_jobs\u001b[0m\u001b[1;33m)\u001b[0m\u001b[1;33m:\u001b[0m\u001b[1;33m\u001b[0m\u001b[1;33m\u001b[0m\u001b[0m\n\u001b[1;32m--> 252\u001b[1;33m             return [func(*args, **kwargs)\n\u001b[0m\u001b[0;32m    253\u001b[0m                     for func, args, kwargs in self.items]\n\u001b[0;32m    254\u001b[0m \u001b[1;33m\u001b[0m\u001b[0m\n",
      "\u001b[1;32mc:\\python38\\lib\\site-packages\\joblib\\parallel.py\u001b[0m in \u001b[0;36m<listcomp>\u001b[1;34m(.0)\u001b[0m\n\u001b[0;32m    250\u001b[0m         \u001b[1;31m# change the default number of processes to -1\u001b[0m\u001b[1;33m\u001b[0m\u001b[1;33m\u001b[0m\u001b[1;33m\u001b[0m\u001b[0m\n\u001b[0;32m    251\u001b[0m         \u001b[1;32mwith\u001b[0m \u001b[0mparallel_backend\u001b[0m\u001b[1;33m(\u001b[0m\u001b[0mself\u001b[0m\u001b[1;33m.\u001b[0m\u001b[0m_backend\u001b[0m\u001b[1;33m,\u001b[0m \u001b[0mn_jobs\u001b[0m\u001b[1;33m=\u001b[0m\u001b[0mself\u001b[0m\u001b[1;33m.\u001b[0m\u001b[0m_n_jobs\u001b[0m\u001b[1;33m)\u001b[0m\u001b[1;33m:\u001b[0m\u001b[1;33m\u001b[0m\u001b[1;33m\u001b[0m\u001b[0m\n\u001b[1;32m--> 252\u001b[1;33m             return [func(*args, **kwargs)\n\u001b[0m\u001b[0;32m    253\u001b[0m                     for func, args, kwargs in self.items]\n\u001b[0;32m    254\u001b[0m \u001b[1;33m\u001b[0m\u001b[0m\n",
      "\u001b[1;32mc:\\python38\\lib\\site-packages\\sklearn\\model_selection\\_validation.py\u001b[0m in \u001b[0;36m_fit_and_score\u001b[1;34m(estimator, X, y, scorer, train, test, verbose, parameters, fit_params, return_train_score, return_parameters, return_n_test_samples, return_times, return_estimator, error_score)\u001b[0m\n\u001b[0;32m    529\u001b[0m             \u001b[0mestimator\u001b[0m\u001b[1;33m.\u001b[0m\u001b[0mfit\u001b[0m\u001b[1;33m(\u001b[0m\u001b[0mX_train\u001b[0m\u001b[1;33m,\u001b[0m \u001b[1;33m**\u001b[0m\u001b[0mfit_params\u001b[0m\u001b[1;33m)\u001b[0m\u001b[1;33m\u001b[0m\u001b[1;33m\u001b[0m\u001b[0m\n\u001b[0;32m    530\u001b[0m         \u001b[1;32melse\u001b[0m\u001b[1;33m:\u001b[0m\u001b[1;33m\u001b[0m\u001b[1;33m\u001b[0m\u001b[0m\n\u001b[1;32m--> 531\u001b[1;33m             \u001b[0mestimator\u001b[0m\u001b[1;33m.\u001b[0m\u001b[0mfit\u001b[0m\u001b[1;33m(\u001b[0m\u001b[0mX_train\u001b[0m\u001b[1;33m,\u001b[0m \u001b[0my_train\u001b[0m\u001b[1;33m,\u001b[0m \u001b[1;33m**\u001b[0m\u001b[0mfit_params\u001b[0m\u001b[1;33m)\u001b[0m\u001b[1;33m\u001b[0m\u001b[1;33m\u001b[0m\u001b[0m\n\u001b[0m\u001b[0;32m    532\u001b[0m \u001b[1;33m\u001b[0m\u001b[0m\n\u001b[0;32m    533\u001b[0m     \u001b[1;32mexcept\u001b[0m \u001b[0mException\u001b[0m \u001b[1;32mas\u001b[0m \u001b[0me\u001b[0m\u001b[1;33m:\u001b[0m\u001b[1;33m\u001b[0m\u001b[1;33m\u001b[0m\u001b[0m\n",
      "\u001b[1;32mc:\\python38\\lib\\site-packages\\sklearn\\calibration.py\u001b[0m in \u001b[0;36mfit\u001b[1;34m(self, X, y, sample_weight)\u001b[0m\n\u001b[0;32m    176\u001b[0m                                        sample_weight=sample_weight[train])\n\u001b[0;32m    177\u001b[0m                 \u001b[1;32melse\u001b[0m\u001b[1;33m:\u001b[0m\u001b[1;33m\u001b[0m\u001b[1;33m\u001b[0m\u001b[0m\n\u001b[1;32m--> 178\u001b[1;33m                     \u001b[0mthis_estimator\u001b[0m\u001b[1;33m.\u001b[0m\u001b[0mfit\u001b[0m\u001b[1;33m(\u001b[0m\u001b[0mX\u001b[0m\u001b[1;33m[\u001b[0m\u001b[0mtrain\u001b[0m\u001b[1;33m]\u001b[0m\u001b[1;33m,\u001b[0m \u001b[0my\u001b[0m\u001b[1;33m[\u001b[0m\u001b[0mtrain\u001b[0m\u001b[1;33m]\u001b[0m\u001b[1;33m)\u001b[0m\u001b[1;33m\u001b[0m\u001b[1;33m\u001b[0m\u001b[0m\n\u001b[0m\u001b[0;32m    179\u001b[0m \u001b[1;33m\u001b[0m\u001b[0m\n\u001b[0;32m    180\u001b[0m                 calibrated_classifier = _CalibratedClassifier(\n",
      "\u001b[1;32mc:\\python38\\lib\\site-packages\\sklearn\\ensemble\\_forest.py\u001b[0m in \u001b[0;36mfit\u001b[1;34m(self, X, y, sample_weight)\u001b[0m\n\u001b[0;32m    384\u001b[0m             \u001b[1;31m# parallel_backend contexts set at a higher level,\u001b[0m\u001b[1;33m\u001b[0m\u001b[1;33m\u001b[0m\u001b[1;33m\u001b[0m\u001b[0m\n\u001b[0;32m    385\u001b[0m             \u001b[1;31m# since correctness does not rely on using threads.\u001b[0m\u001b[1;33m\u001b[0m\u001b[1;33m\u001b[0m\u001b[1;33m\u001b[0m\u001b[0m\n\u001b[1;32m--> 386\u001b[1;33m             trees = Parallel(n_jobs=self.n_jobs, verbose=self.verbose,\n\u001b[0m\u001b[0;32m    387\u001b[0m                              \u001b[1;33m**\u001b[0m\u001b[0m_joblib_parallel_args\u001b[0m\u001b[1;33m(\u001b[0m\u001b[0mprefer\u001b[0m\u001b[1;33m=\u001b[0m\u001b[1;34m'threads'\u001b[0m\u001b[1;33m)\u001b[0m\u001b[1;33m)\u001b[0m\u001b[1;33m(\u001b[0m\u001b[1;33m\u001b[0m\u001b[1;33m\u001b[0m\u001b[0m\n\u001b[0;32m    388\u001b[0m                 delayed(_parallel_build_trees)(\n",
      "\u001b[1;32mc:\\python38\\lib\\site-packages\\joblib\\parallel.py\u001b[0m in \u001b[0;36m__call__\u001b[1;34m(self, iterable)\u001b[0m\n\u001b[0;32m   1030\u001b[0m                 \u001b[0mself\u001b[0m\u001b[1;33m.\u001b[0m\u001b[0m_iterating\u001b[0m \u001b[1;33m=\u001b[0m \u001b[0mself\u001b[0m\u001b[1;33m.\u001b[0m\u001b[0m_original_iterator\u001b[0m \u001b[1;32mis\u001b[0m \u001b[1;32mnot\u001b[0m \u001b[1;32mNone\u001b[0m\u001b[1;33m\u001b[0m\u001b[1;33m\u001b[0m\u001b[0m\n\u001b[0;32m   1031\u001b[0m \u001b[1;33m\u001b[0m\u001b[0m\n\u001b[1;32m-> 1032\u001b[1;33m             \u001b[1;32mwhile\u001b[0m \u001b[0mself\u001b[0m\u001b[1;33m.\u001b[0m\u001b[0mdispatch_one_batch\u001b[0m\u001b[1;33m(\u001b[0m\u001b[0miterator\u001b[0m\u001b[1;33m)\u001b[0m\u001b[1;33m:\u001b[0m\u001b[1;33m\u001b[0m\u001b[1;33m\u001b[0m\u001b[0m\n\u001b[0m\u001b[0;32m   1033\u001b[0m                 \u001b[1;32mpass\u001b[0m\u001b[1;33m\u001b[0m\u001b[1;33m\u001b[0m\u001b[0m\n\u001b[0;32m   1034\u001b[0m \u001b[1;33m\u001b[0m\u001b[0m\n",
      "\u001b[1;32mc:\\python38\\lib\\site-packages\\joblib\\parallel.py\u001b[0m in \u001b[0;36mdispatch_one_batch\u001b[1;34m(self, iterator)\u001b[0m\n\u001b[0;32m    845\u001b[0m                 \u001b[1;32mreturn\u001b[0m \u001b[1;32mFalse\u001b[0m\u001b[1;33m\u001b[0m\u001b[1;33m\u001b[0m\u001b[0m\n\u001b[0;32m    846\u001b[0m             \u001b[1;32melse\u001b[0m\u001b[1;33m:\u001b[0m\u001b[1;33m\u001b[0m\u001b[1;33m\u001b[0m\u001b[0m\n\u001b[1;32m--> 847\u001b[1;33m                 \u001b[0mself\u001b[0m\u001b[1;33m.\u001b[0m\u001b[0m_dispatch\u001b[0m\u001b[1;33m(\u001b[0m\u001b[0mtasks\u001b[0m\u001b[1;33m)\u001b[0m\u001b[1;33m\u001b[0m\u001b[1;33m\u001b[0m\u001b[0m\n\u001b[0m\u001b[0;32m    848\u001b[0m                 \u001b[1;32mreturn\u001b[0m \u001b[1;32mTrue\u001b[0m\u001b[1;33m\u001b[0m\u001b[1;33m\u001b[0m\u001b[0m\n\u001b[0;32m    849\u001b[0m \u001b[1;33m\u001b[0m\u001b[0m\n",
      "\u001b[1;32mc:\\python38\\lib\\site-packages\\joblib\\parallel.py\u001b[0m in \u001b[0;36m_dispatch\u001b[1;34m(self, batch)\u001b[0m\n\u001b[0;32m    763\u001b[0m         \u001b[1;32mwith\u001b[0m \u001b[0mself\u001b[0m\u001b[1;33m.\u001b[0m\u001b[0m_lock\u001b[0m\u001b[1;33m:\u001b[0m\u001b[1;33m\u001b[0m\u001b[1;33m\u001b[0m\u001b[0m\n\u001b[0;32m    764\u001b[0m             \u001b[0mjob_idx\u001b[0m \u001b[1;33m=\u001b[0m \u001b[0mlen\u001b[0m\u001b[1;33m(\u001b[0m\u001b[0mself\u001b[0m\u001b[1;33m.\u001b[0m\u001b[0m_jobs\u001b[0m\u001b[1;33m)\u001b[0m\u001b[1;33m\u001b[0m\u001b[1;33m\u001b[0m\u001b[0m\n\u001b[1;32m--> 765\u001b[1;33m             \u001b[0mjob\u001b[0m \u001b[1;33m=\u001b[0m \u001b[0mself\u001b[0m\u001b[1;33m.\u001b[0m\u001b[0m_backend\u001b[0m\u001b[1;33m.\u001b[0m\u001b[0mapply_async\u001b[0m\u001b[1;33m(\u001b[0m\u001b[0mbatch\u001b[0m\u001b[1;33m,\u001b[0m \u001b[0mcallback\u001b[0m\u001b[1;33m=\u001b[0m\u001b[0mcb\u001b[0m\u001b[1;33m)\u001b[0m\u001b[1;33m\u001b[0m\u001b[1;33m\u001b[0m\u001b[0m\n\u001b[0m\u001b[0;32m    766\u001b[0m             \u001b[1;31m# A job can complete so quickly than its callback is\u001b[0m\u001b[1;33m\u001b[0m\u001b[1;33m\u001b[0m\u001b[1;33m\u001b[0m\u001b[0m\n\u001b[0;32m    767\u001b[0m             \u001b[1;31m# called before we get here, causing self._jobs to\u001b[0m\u001b[1;33m\u001b[0m\u001b[1;33m\u001b[0m\u001b[1;33m\u001b[0m\u001b[0m\n",
      "\u001b[1;32mc:\\python38\\lib\\site-packages\\joblib\\_parallel_backends.py\u001b[0m in \u001b[0;36mapply_async\u001b[1;34m(self, func, callback)\u001b[0m\n\u001b[0;32m    206\u001b[0m     \u001b[1;32mdef\u001b[0m \u001b[0mapply_async\u001b[0m\u001b[1;33m(\u001b[0m\u001b[0mself\u001b[0m\u001b[1;33m,\u001b[0m \u001b[0mfunc\u001b[0m\u001b[1;33m,\u001b[0m \u001b[0mcallback\u001b[0m\u001b[1;33m=\u001b[0m\u001b[1;32mNone\u001b[0m\u001b[1;33m)\u001b[0m\u001b[1;33m:\u001b[0m\u001b[1;33m\u001b[0m\u001b[1;33m\u001b[0m\u001b[0m\n\u001b[0;32m    207\u001b[0m         \u001b[1;34m\"\"\"Schedule a func to be run\"\"\"\u001b[0m\u001b[1;33m\u001b[0m\u001b[1;33m\u001b[0m\u001b[0m\n\u001b[1;32m--> 208\u001b[1;33m         \u001b[0mresult\u001b[0m \u001b[1;33m=\u001b[0m \u001b[0mImmediateResult\u001b[0m\u001b[1;33m(\u001b[0m\u001b[0mfunc\u001b[0m\u001b[1;33m)\u001b[0m\u001b[1;33m\u001b[0m\u001b[1;33m\u001b[0m\u001b[0m\n\u001b[0m\u001b[0;32m    209\u001b[0m         \u001b[1;32mif\u001b[0m \u001b[0mcallback\u001b[0m\u001b[1;33m:\u001b[0m\u001b[1;33m\u001b[0m\u001b[1;33m\u001b[0m\u001b[0m\n\u001b[0;32m    210\u001b[0m             \u001b[0mcallback\u001b[0m\u001b[1;33m(\u001b[0m\u001b[0mresult\u001b[0m\u001b[1;33m)\u001b[0m\u001b[1;33m\u001b[0m\u001b[1;33m\u001b[0m\u001b[0m\n",
      "\u001b[1;32mc:\\python38\\lib\\site-packages\\joblib\\_parallel_backends.py\u001b[0m in \u001b[0;36m__init__\u001b[1;34m(self, batch)\u001b[0m\n\u001b[0;32m    570\u001b[0m         \u001b[1;31m# Don't delay the application, to avoid keeping the input\u001b[0m\u001b[1;33m\u001b[0m\u001b[1;33m\u001b[0m\u001b[1;33m\u001b[0m\u001b[0m\n\u001b[0;32m    571\u001b[0m         \u001b[1;31m# arguments in memory\u001b[0m\u001b[1;33m\u001b[0m\u001b[1;33m\u001b[0m\u001b[1;33m\u001b[0m\u001b[0m\n\u001b[1;32m--> 572\u001b[1;33m         \u001b[0mself\u001b[0m\u001b[1;33m.\u001b[0m\u001b[0mresults\u001b[0m \u001b[1;33m=\u001b[0m \u001b[0mbatch\u001b[0m\u001b[1;33m(\u001b[0m\u001b[1;33m)\u001b[0m\u001b[1;33m\u001b[0m\u001b[1;33m\u001b[0m\u001b[0m\n\u001b[0m\u001b[0;32m    573\u001b[0m \u001b[1;33m\u001b[0m\u001b[0m\n\u001b[0;32m    574\u001b[0m     \u001b[1;32mdef\u001b[0m \u001b[0mget\u001b[0m\u001b[1;33m(\u001b[0m\u001b[0mself\u001b[0m\u001b[1;33m)\u001b[0m\u001b[1;33m:\u001b[0m\u001b[1;33m\u001b[0m\u001b[1;33m\u001b[0m\u001b[0m\n",
      "\u001b[1;32mc:\\python38\\lib\\site-packages\\joblib\\parallel.py\u001b[0m in \u001b[0;36m__call__\u001b[1;34m(self)\u001b[0m\n\u001b[0;32m    250\u001b[0m         \u001b[1;31m# change the default number of processes to -1\u001b[0m\u001b[1;33m\u001b[0m\u001b[1;33m\u001b[0m\u001b[1;33m\u001b[0m\u001b[0m\n\u001b[0;32m    251\u001b[0m         \u001b[1;32mwith\u001b[0m \u001b[0mparallel_backend\u001b[0m\u001b[1;33m(\u001b[0m\u001b[0mself\u001b[0m\u001b[1;33m.\u001b[0m\u001b[0m_backend\u001b[0m\u001b[1;33m,\u001b[0m \u001b[0mn_jobs\u001b[0m\u001b[1;33m=\u001b[0m\u001b[0mself\u001b[0m\u001b[1;33m.\u001b[0m\u001b[0m_n_jobs\u001b[0m\u001b[1;33m)\u001b[0m\u001b[1;33m:\u001b[0m\u001b[1;33m\u001b[0m\u001b[1;33m\u001b[0m\u001b[0m\n\u001b[1;32m--> 252\u001b[1;33m             return [func(*args, **kwargs)\n\u001b[0m\u001b[0;32m    253\u001b[0m                     for func, args, kwargs in self.items]\n\u001b[0;32m    254\u001b[0m \u001b[1;33m\u001b[0m\u001b[0m\n",
      "\u001b[1;32mc:\\python38\\lib\\site-packages\\joblib\\parallel.py\u001b[0m in \u001b[0;36m<listcomp>\u001b[1;34m(.0)\u001b[0m\n\u001b[0;32m    250\u001b[0m         \u001b[1;31m# change the default number of processes to -1\u001b[0m\u001b[1;33m\u001b[0m\u001b[1;33m\u001b[0m\u001b[1;33m\u001b[0m\u001b[0m\n\u001b[0;32m    251\u001b[0m         \u001b[1;32mwith\u001b[0m \u001b[0mparallel_backend\u001b[0m\u001b[1;33m(\u001b[0m\u001b[0mself\u001b[0m\u001b[1;33m.\u001b[0m\u001b[0m_backend\u001b[0m\u001b[1;33m,\u001b[0m \u001b[0mn_jobs\u001b[0m\u001b[1;33m=\u001b[0m\u001b[0mself\u001b[0m\u001b[1;33m.\u001b[0m\u001b[0m_n_jobs\u001b[0m\u001b[1;33m)\u001b[0m\u001b[1;33m:\u001b[0m\u001b[1;33m\u001b[0m\u001b[1;33m\u001b[0m\u001b[0m\n\u001b[1;32m--> 252\u001b[1;33m             return [func(*args, **kwargs)\n\u001b[0m\u001b[0;32m    253\u001b[0m                     for func, args, kwargs in self.items]\n\u001b[0;32m    254\u001b[0m \u001b[1;33m\u001b[0m\u001b[0m\n",
      "\u001b[1;32mc:\\python38\\lib\\site-packages\\sklearn\\ensemble\\_forest.py\u001b[0m in \u001b[0;36m_parallel_build_trees\u001b[1;34m(tree, forest, X, y, sample_weight, tree_idx, n_trees, verbose, class_weight, n_samples_bootstrap)\u001b[0m\n\u001b[0;32m    166\u001b[0m                                                         indices=indices)\n\u001b[0;32m    167\u001b[0m \u001b[1;33m\u001b[0m\u001b[0m\n\u001b[1;32m--> 168\u001b[1;33m         \u001b[0mtree\u001b[0m\u001b[1;33m.\u001b[0m\u001b[0mfit\u001b[0m\u001b[1;33m(\u001b[0m\u001b[0mX\u001b[0m\u001b[1;33m,\u001b[0m \u001b[0my\u001b[0m\u001b[1;33m,\u001b[0m \u001b[0msample_weight\u001b[0m\u001b[1;33m=\u001b[0m\u001b[0mcurr_sample_weight\u001b[0m\u001b[1;33m,\u001b[0m \u001b[0mcheck_input\u001b[0m\u001b[1;33m=\u001b[0m\u001b[1;32mFalse\u001b[0m\u001b[1;33m)\u001b[0m\u001b[1;33m\u001b[0m\u001b[1;33m\u001b[0m\u001b[0m\n\u001b[0m\u001b[0;32m    169\u001b[0m     \u001b[1;32melse\u001b[0m\u001b[1;33m:\u001b[0m\u001b[1;33m\u001b[0m\u001b[1;33m\u001b[0m\u001b[0m\n\u001b[0;32m    170\u001b[0m         \u001b[0mtree\u001b[0m\u001b[1;33m.\u001b[0m\u001b[0mfit\u001b[0m\u001b[1;33m(\u001b[0m\u001b[0mX\u001b[0m\u001b[1;33m,\u001b[0m \u001b[0my\u001b[0m\u001b[1;33m,\u001b[0m \u001b[0msample_weight\u001b[0m\u001b[1;33m=\u001b[0m\u001b[0msample_weight\u001b[0m\u001b[1;33m,\u001b[0m \u001b[0mcheck_input\u001b[0m\u001b[1;33m=\u001b[0m\u001b[1;32mFalse\u001b[0m\u001b[1;33m)\u001b[0m\u001b[1;33m\u001b[0m\u001b[1;33m\u001b[0m\u001b[0m\n",
      "\u001b[1;32mc:\\python38\\lib\\site-packages\\sklearn\\tree\\_classes.py\u001b[0m in \u001b[0;36mfit\u001b[1;34m(self, X, y, sample_weight, check_input, X_idx_sorted)\u001b[0m\n\u001b[0;32m    888\u001b[0m         \"\"\"\n\u001b[0;32m    889\u001b[0m \u001b[1;33m\u001b[0m\u001b[0m\n\u001b[1;32m--> 890\u001b[1;33m         super().fit(\n\u001b[0m\u001b[0;32m    891\u001b[0m             \u001b[0mX\u001b[0m\u001b[1;33m,\u001b[0m \u001b[0my\u001b[0m\u001b[1;33m,\u001b[0m\u001b[1;33m\u001b[0m\u001b[1;33m\u001b[0m\u001b[0m\n\u001b[0;32m    892\u001b[0m             \u001b[0msample_weight\u001b[0m\u001b[1;33m=\u001b[0m\u001b[0msample_weight\u001b[0m\u001b[1;33m,\u001b[0m\u001b[1;33m\u001b[0m\u001b[1;33m\u001b[0m\u001b[0m\n",
      "\u001b[1;32mc:\\python38\\lib\\site-packages\\sklearn\\tree\\_classes.py\u001b[0m in \u001b[0;36mfit\u001b[1;34m(self, X, y, sample_weight, check_input, X_idx_sorted)\u001b[0m\n\u001b[0;32m    373\u001b[0m                                            min_impurity_split)\n\u001b[0;32m    374\u001b[0m \u001b[1;33m\u001b[0m\u001b[0m\n\u001b[1;32m--> 375\u001b[1;33m         \u001b[0mbuilder\u001b[0m\u001b[1;33m.\u001b[0m\u001b[0mbuild\u001b[0m\u001b[1;33m(\u001b[0m\u001b[0mself\u001b[0m\u001b[1;33m.\u001b[0m\u001b[0mtree_\u001b[0m\u001b[1;33m,\u001b[0m \u001b[0mX\u001b[0m\u001b[1;33m,\u001b[0m \u001b[0my\u001b[0m\u001b[1;33m,\u001b[0m \u001b[0msample_weight\u001b[0m\u001b[1;33m,\u001b[0m \u001b[0mX_idx_sorted\u001b[0m\u001b[1;33m)\u001b[0m\u001b[1;33m\u001b[0m\u001b[1;33m\u001b[0m\u001b[0m\n\u001b[0m\u001b[0;32m    376\u001b[0m \u001b[1;33m\u001b[0m\u001b[0m\n\u001b[0;32m    377\u001b[0m         \u001b[1;32mif\u001b[0m \u001b[0mself\u001b[0m\u001b[1;33m.\u001b[0m\u001b[0mn_outputs_\u001b[0m \u001b[1;33m==\u001b[0m \u001b[1;36m1\u001b[0m \u001b[1;32mand\u001b[0m \u001b[0mis_classifier\u001b[0m\u001b[1;33m(\u001b[0m\u001b[0mself\u001b[0m\u001b[1;33m)\u001b[0m\u001b[1;33m:\u001b[0m\u001b[1;33m\u001b[0m\u001b[1;33m\u001b[0m\u001b[0m\n",
      "\u001b[1;31mKeyboardInterrupt\u001b[0m: "
     ]
    }
   ],
   "source": [
    "# Based on the above results we can gauge that _____ is the best model. So let us try running hyperparemeter optimization on it\n",
    "# Hyperparameter tuning\n",
    "from sklearn.model_selection import GridSearchCV\n",
    "from sklearn.calibration import CalibratedClassifierCV\n",
    "from sklearn.ensemble import RandomForestClassifier\n",
    "calibrated_forest = CalibratedClassifierCV(\n",
    "   base_estimator=RandomForestClassifier())\n",
    "param_grid = {\n",
    "   'base_estimator__max_depth': [20, 40, 60, 80, 100, 120],\n",
    "    'base_estimator__n_estimators': [10, 50, 100, 150, 200]}\n",
    "search = GridSearchCV(calibrated_forest, param_grid, cv=5)\n",
    "search.fit(obs, results)\n",
    "dump(search, 'lethal_hyperparameter_rf.joblib') \n",
    "print(\"Accuracy: {}\".format(search.score(test[features], test['lethal'])))\n",
    "metrics = precision_recall_fscore_support(test['lethal'], search.predict(test[features]))\n",
    "print(\"Precision: {}\\nRecall: {}\\nF-Score: {}\".format(metrics[0], metrics[1], metrics[2]))"
   ]
  },
  {
   "cell_type": "code",
   "execution_count": 343,
   "metadata": {},
   "outputs": [
    {
     "name": "stdout",
     "output_type": "stream",
     "text": [
      "Model: \"sequential_12\"\n",
      "_________________________________________________________________\n",
      "Layer (type)                 Output Shape              Param #   \n",
      "=================================================================\n",
      "dense_40 (Dense)             (None, 64)                1152      \n",
      "_________________________________________________________________\n",
      "dropout_12 (Dropout)         (None, 64)                0         \n",
      "_________________________________________________________________\n",
      "dense_41 (Dense)             (None, 32)                2080      \n",
      "_________________________________________________________________\n",
      "dropout_13 (Dropout)         (None, 32)                0         \n",
      "_________________________________________________________________\n",
      "dense_42 (Dense)             (None, 16)                528       \n",
      "_________________________________________________________________\n",
      "dense_43 (Dense)             (None, 1)                 17        \n",
      "=================================================================\n",
      "Total params: 3,777\n",
      "Trainable params: 3,777\n",
      "Non-trainable params: 0\n",
      "_________________________________________________________________\n"
     ]
    }
   ],
   "source": [
    "# Build a Fully Connected Model\n",
    "model = models.Sequential()\n",
    "model.add(layers.Dense(64, activation='relu', input_dim=17))\n",
    "model.add(layers.Dropout(0.2))\n",
    "model.add(layers.Dense(32, activation='relu'))\n",
    "model.add(layers.Dropout(0.2))\n",
    "model.add(layers.Dense(16, activation='relu'))\n",
    "model.add(layers.Dense(1, activation='sigmoid'))\n",
    "model.compile(optimizer='adam', loss='binary_crossentropy', metrics=['accuracy'])\n",
    "model.summary()"
   ]
  },
  {
   "cell_type": "code",
   "execution_count": 344,
   "metadata": {},
   "outputs": [],
   "source": [
    "# Model Checkpoints\n",
    "# Callback to Early Stop if Validation loss is not improving\n",
    "es = EarlyStopping(monitor='val_loss', mode='min', verbose=1, patience=10)\n",
    "# Callback to Keep storing best model\n",
    "mc = ModelCheckpoint(\"lethal.h5\", monitor='val_accuracy', mode='max', verbose=1, save_best_only=True)"
   ]
  },
  {
   "cell_type": "code",
   "execution_count": 345,
   "metadata": {},
   "outputs": [],
   "source": [
    "test_obs, validation_obs, test_res, validation_res = train_test_split(test[features], test['lethal'], test_size=0.5, shuffle=True, stratify=test['lethal'])"
   ]
  },
  {
   "cell_type": "code",
   "execution_count": 346,
   "metadata": {
    "scrolled": false
   },
   "outputs": [
    {
     "name": "stdout",
     "output_type": "stream",
     "text": [
      "Epoch 1/100\n",
      "3773/3811 [============================>.] - ETA: 0s - loss: 0.3494 - accuracy: 0.8350\n",
      "Epoch 00001: val_accuracy improved from -inf to 0.84293, saving model to lethal.h5\n",
      "3811/3811 [==============================] - 3s 901us/step - loss: 0.3492 - accuracy: 0.8350 - val_loss: 0.2762 - val_accuracy: 0.8429\n",
      "Epoch 2/100\n",
      "3779/3811 [============================>.] - ETA: 0s - loss: 0.3353 - accuracy: 0.8435\n",
      "Epoch 00002: val_accuracy did not improve from 0.84293\n",
      "3811/3811 [==============================] - 4s 989us/step - loss: 0.3354 - accuracy: 0.8435 - val_loss: 0.2894 - val_accuracy: 0.8350\n",
      "Epoch 3/100\n",
      "3773/3811 [============================>.] - ETA: 0s - loss: 0.3330 - accuracy: 0.8441\n",
      "Epoch 00003: val_accuracy did not improve from 0.84293\n",
      "3811/3811 [==============================] - 4s 1ms/step - loss: 0.3331 - accuracy: 0.8441 - val_loss: 0.2735 - val_accuracy: 0.8392\n",
      "Epoch 4/100\n",
      "3764/3811 [============================>.] - ETA: 0s - loss: 0.3321 - accuracy: 0.8444\n",
      "Epoch 00004: val_accuracy did not improve from 0.84293\n",
      "3811/3811 [==============================] - 4s 982us/step - loss: 0.3323 - accuracy: 0.8443 - val_loss: 0.2813 - val_accuracy: 0.8362\n",
      "Epoch 5/100\n",
      "3809/3811 [============================>.] - ETA: 0s - loss: 0.3312 - accuracy: 0.8449\n",
      "Epoch 00005: val_accuracy improved from 0.84293 to 0.85876, saving model to lethal.h5\n",
      "3811/3811 [==============================] - 4s 946us/step - loss: 0.3312 - accuracy: 0.8449 - val_loss: 0.2761 - val_accuracy: 0.8588\n",
      "Epoch 6/100\n",
      "3764/3811 [============================>.] - ETA: 0s - loss: 0.3305 - accuracy: 0.8446\n",
      "Epoch 00006: val_accuracy did not improve from 0.85876\n",
      "3811/3811 [==============================] - 4s 938us/step - loss: 0.3307 - accuracy: 0.8445 - val_loss: 0.2745 - val_accuracy: 0.8474\n",
      "Epoch 7/100\n",
      "3758/3811 [============================>.] - ETA: 0s - loss: 0.3302 - accuracy: 0.8450\n",
      "Epoch 00007: val_accuracy did not improve from 0.85876\n",
      "3811/3811 [==============================] - 3s 916us/step - loss: 0.3302 - accuracy: 0.8451 - val_loss: 0.2914 - val_accuracy: 0.8320\n",
      "Epoch 8/100\n",
      "3777/3811 [============================>.] - ETA: 0s - loss: 0.3303 - accuracy: 0.8459\n",
      "Epoch 00008: val_accuracy did not improve from 0.85876\n",
      "3811/3811 [==============================] - 4s 950us/step - loss: 0.3300 - accuracy: 0.8460 - val_loss: 0.2740 - val_accuracy: 0.8492\n",
      "Epoch 9/100\n",
      "3808/3811 [============================>.] - ETA: 0s - loss: 0.3296 - accuracy: 0.8451\n",
      "Epoch 00009: val_accuracy did not improve from 0.85876\n",
      "3811/3811 [==============================] - 3s 917us/step - loss: 0.3297 - accuracy: 0.8450 - val_loss: 0.2662 - val_accuracy: 0.8536\n",
      "Epoch 10/100\n",
      "3788/3811 [============================>.] - ETA: 0s - loss: 0.3295 - accuracy: 0.8453\n",
      "Epoch 00010: val_accuracy did not improve from 0.85876\n",
      "3811/3811 [==============================] - 4s 995us/step - loss: 0.3294 - accuracy: 0.8453 - val_loss: 0.2706 - val_accuracy: 0.8502\n",
      "Epoch 11/100\n",
      "3793/3811 [============================>.] - ETA: 0s - loss: 0.3289 - accuracy: 0.8459\n",
      "Epoch 00011: val_accuracy did not improve from 0.85876\n",
      "3811/3811 [==============================] - 4s 1ms/step - loss: 0.3289 - accuracy: 0.8458 - val_loss: 0.2649 - val_accuracy: 0.8447\n",
      "Epoch 12/100\n",
      "3753/3811 [============================>.] - ETA: 0s - loss: 0.3285 - accuracy: 0.8458\n",
      "Epoch 00012: val_accuracy did not improve from 0.85876\n",
      "3811/3811 [==============================] - 4s 1ms/step - loss: 0.3286 - accuracy: 0.8456 - val_loss: 0.2603 - val_accuracy: 0.8491\n",
      "Epoch 13/100\n",
      "3809/3811 [============================>.] - ETA: 0s - loss: 0.3285 - accuracy: 0.8458\n",
      "Epoch 00013: val_accuracy did not improve from 0.85876\n",
      "3811/3811 [==============================] - 4s 976us/step - loss: 0.3285 - accuracy: 0.8458 - val_loss: 0.2689 - val_accuracy: 0.8430\n",
      "Epoch 14/100\n",
      "3803/3811 [============================>.] - ETA: 0s - loss: 0.3279 - accuracy: 0.8453\n",
      "Epoch 00014: val_accuracy did not improve from 0.85876\n",
      "3811/3811 [==============================] - 4s 934us/step - loss: 0.3279 - accuracy: 0.8453 - val_loss: 0.2811 - val_accuracy: 0.8343\n",
      "Epoch 15/100\n",
      "3785/3811 [============================>.] - ETA: 0s - loss: 0.3280 - accuracy: 0.8460\n",
      "Epoch 00015: val_accuracy did not improve from 0.85876\n",
      "3811/3811 [==============================] - 3s 916us/step - loss: 0.3279 - accuracy: 0.8460 - val_loss: 0.2660 - val_accuracy: 0.8468\n",
      "Epoch 16/100\n",
      "3780/3811 [============================>.] - ETA: 0s - loss: 0.3282 - accuracy: 0.8457\n",
      "Epoch 00016: val_accuracy did not improve from 0.85876\n",
      "3811/3811 [==============================] - 4s 951us/step - loss: 0.3280 - accuracy: 0.8458 - val_loss: 0.2587 - val_accuracy: 0.8553\n",
      "Epoch 17/100\n",
      "3805/3811 [============================>.] - ETA: 0s - loss: 0.3276 - accuracy: 0.8463\n",
      "Epoch 00017: val_accuracy did not improve from 0.85876\n",
      "3811/3811 [==============================] - 4s 930us/step - loss: 0.3277 - accuracy: 0.8462 - val_loss: 0.2700 - val_accuracy: 0.8423\n",
      "Epoch 18/100\n",
      "3806/3811 [============================>.] - ETA: 0s - loss: 0.3277 - accuracy: 0.8467\n",
      "Epoch 00018: val_accuracy did not improve from 0.85876\n",
      "3811/3811 [==============================] - 4s 922us/step - loss: 0.3277 - accuracy: 0.8467 - val_loss: 0.2816 - val_accuracy: 0.8335\n",
      "Epoch 19/100\n",
      "3795/3811 [============================>.] - ETA: 0s - loss: 0.3270 - accuracy: 0.8472\n",
      "Epoch 00019: val_accuracy did not improve from 0.85876\n",
      "3811/3811 [==============================] - 4s 919us/step - loss: 0.3270 - accuracy: 0.8472 - val_loss: 0.2720 - val_accuracy: 0.8440\n",
      "Epoch 20/100\n",
      "3777/3811 [============================>.] - ETA: 0s - loss: 0.3272 - accuracy: 0.8466\n",
      "Epoch 00020: val_accuracy did not improve from 0.85876\n",
      "3811/3811 [==============================] - 4s 941us/step - loss: 0.3271 - accuracy: 0.8466 - val_loss: 0.2798 - val_accuracy: 0.8401\n",
      "Epoch 21/100\n",
      "3807/3811 [============================>.] - ETA: 0s - loss: 0.3273 - accuracy: 0.8467\n",
      "Epoch 00021: val_accuracy did not improve from 0.85876\n",
      "3811/3811 [==============================] - 3s 915us/step - loss: 0.3274 - accuracy: 0.8467 - val_loss: 0.2602 - val_accuracy: 0.8489\n",
      "Epoch 22/100\n",
      "3789/3811 [============================>.] - ETA: 0s - loss: 0.3270 - accuracy: 0.8467\n",
      "Epoch 00022: val_accuracy did not improve from 0.85876\n",
      "3811/3811 [==============================] - 4s 920us/step - loss: 0.3271 - accuracy: 0.8467 - val_loss: 0.2725 - val_accuracy: 0.8390\n",
      "Epoch 23/100\n",
      "3806/3811 [============================>.] - ETA: 0s - loss: 0.3270 - accuracy: 0.8461\n",
      "Epoch 00023: val_accuracy did not improve from 0.85876\n",
      "3811/3811 [==============================] - 4s 929us/step - loss: 0.3270 - accuracy: 0.8461 - val_loss: 0.2625 - val_accuracy: 0.8479\n",
      "Epoch 24/100\n",
      "3763/3811 [============================>.] - ETA: 0s - loss: 0.3264 - accuracy: 0.8474\n",
      "Epoch 00024: val_accuracy did not improve from 0.85876\n",
      "3811/3811 [==============================] - 4s 929us/step - loss: 0.3268 - accuracy: 0.8472 - val_loss: 0.2691 - val_accuracy: 0.8468\n",
      "Epoch 25/100\n",
      "3778/3811 [============================>.] - ETA: 0s - loss: 0.3266 - accuracy: 0.8468\n",
      "Epoch 00025: val_accuracy did not improve from 0.85876\n",
      "3811/3811 [==============================] - 4s 949us/step - loss: 0.3266 - accuracy: 0.8466 - val_loss: 0.2634 - val_accuracy: 0.8431\n",
      "Epoch 26/100\n",
      "3770/3811 [============================>.] - ETA: 0s - loss: 0.3262 - accuracy: 0.8470\n",
      "Epoch 00026: val_accuracy did not improve from 0.85876\n",
      "3811/3811 [==============================] - 4s 937us/step - loss: 0.3263 - accuracy: 0.8469 - val_loss: 0.2621 - val_accuracy: 0.8475\n",
      "Epoch 00026: early stopping\n"
     ]
    }
   ],
   "source": [
    "# Fit the model using training data with validation using a subset of the test data\n",
    "model_train_data = model.fit(obs, results, validation_data=(validation_obs, validation_res), epochs=100, batch_size=32, shuffle=True, callbacks=[es, mc])"
   ]
  },
  {
   "cell_type": "code",
   "execution_count": 347,
   "metadata": {},
   "outputs": [
    {
     "name": "stdout",
     "output_type": "stream",
     "text": [
      "2069/2069 [==============================] - 1s 453us/step - loss: 0.2775 - accuracy: 0.8568\n"
     ]
    },
    {
     "data": {
      "text/plain": [
       "[0.27754032611846924, 0.8567630648612976]"
      ]
     },
     "execution_count": 347,
     "metadata": {},
     "output_type": "execute_result"
    }
   ],
   "source": [
    "# Load Best Model Weights and Evaluate Model on entire test set\n",
    "model.load_weights(\"lethal.h5\") \n",
    "model.evaluate(test[features], test[\"lethal\"])"
   ]
  },
  {
   "cell_type": "code",
   "execution_count": 348,
   "metadata": {},
   "outputs": [
    {
     "name": "stdout",
     "output_type": "stream",
     "text": [
      "1035/1035 [==============================] - 0s 460us/step - loss: 0.2790 - accuracy: 0.8548\n"
     ]
    },
    {
     "data": {
      "text/plain": [
       "[0.27901795506477356, 0.8547690510749817]"
      ]
     },
     "execution_count": 348,
     "metadata": {},
     "output_type": "execute_result"
    }
   ],
   "source": [
    "# Evaluate Model on subset of test set\n",
    "model.evaluate(test_obs, test_res)"
   ]
  },
  {
   "cell_type": "code",
   "execution_count": 349,
   "metadata": {},
   "outputs": [
    {
     "name": "stdout",
     "output_type": "stream",
     "text": [
      "Precision: [0.97031716 0.45375206]\n",
      "Recall: [0.86309462 0.81157817]\n",
      "F-Score: [0.91357057 0.58206982]\n"
     ]
    }
   ],
   "source": [
    "# Precision, Recall, F-score metrics for entire test set\n",
    "preds = model.predict(test[features])\n",
    "labels = []\n",
    "for pred in preds[:, 0]:\n",
    "    if pred > 0.5:\n",
    "        labels.append(1)\n",
    "    else:\n",
    "        labels.append(0)\n",
    "metrics = precision_recall_fscore_support(test[\"lethal\"], labels)\n",
    "print(\"Precision: {}\\nRecall: {}\\nF-Score: {}\".format(metrics[0], metrics[1], metrics[2]))"
   ]
  },
  {
   "cell_type": "code",
   "execution_count": 350,
   "metadata": {},
   "outputs": [
    {
     "name": "stdout",
     "output_type": "stream",
     "text": [
      "Precision: [0.97018634 0.44965254]\n",
      "Recall: [0.86087286 0.81120944]\n",
      "F-Score: [0.91226661 0.57859209]\n"
     ]
    }
   ],
   "source": [
    "# Precision, Recall, F-score metrics for subset of test set\n",
    "preds = model.predict(test_obs)\n",
    "labels_test = []\n",
    "for pred in preds[:, 0]:\n",
    "    if pred > 0.5:\n",
    "        labels_test.append(1)\n",
    "    else:\n",
    "        labels_test.append(0)\n",
    "metrics = precision_recall_fscore_support(test_res, labels_test)\n",
    "print(\"Precision: {}\\nRecall: {}\\nF-Score: {}\".format(metrics[0], metrics[1], metrics[2]))"
   ]
  },
  {
   "cell_type": "code",
   "execution_count": null,
   "metadata": {},
   "outputs": [],
   "source": []
  }
 ],
 "metadata": {
  "kernelspec": {
   "display_name": "Python 3",
   "language": "python",
   "name": "python3"
  },
  "language_info": {
   "codemirror_mode": {
    "name": "ipython",
    "version": 3
   },
   "file_extension": ".py",
   "mimetype": "text/x-python",
   "name": "python",
   "nbconvert_exporter": "python",
   "pygments_lexer": "ipython3",
   "version": "3.8.3"
  }
 },
 "nbformat": 4,
 "nbformat_minor": 4
}
